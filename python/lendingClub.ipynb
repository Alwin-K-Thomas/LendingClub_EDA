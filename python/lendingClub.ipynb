{
 "cells": [
  {
   "cell_type": "markdown",
   "metadata": {},
   "source": [
    "# Lending Club Case Study"
   ]
  },
  {
   "cell_type": "markdown",
   "metadata": {},
   "source": [
    "***"
   ]
  },
  {
   "cell_type": "markdown",
   "metadata": {},
   "source": [
    "### What is the business objective ?"
   ]
  },
  {
   "cell_type": "markdown",
   "metadata": {},
   "source": [
    "The company wants to understand the driving factors (or driver variables) behind loan default, i.e. the variables which are strong indicators of default.  The company can utilise this knowledge for its portfolio and risk assessment. "
   ]
  },
  {
   "cell_type": "markdown",
   "metadata": {},
   "source": [
    "####  Importing the required libraries for EDA"
   ]
  },
  {
   "cell_type": "code",
   "execution_count": 1,
   "metadata": {},
   "outputs": [],
   "source": [
    "import pandas as pd\n",
    "import numpy as np\n",
    "import re\n",
    "\n",
    "#Visualisation\n",
    "import seaborn as sns             \n",
    "import matplotlib.pyplot as plt\n",
    "%matplotlib inline \n",
    "pd.set_option(\"display.max_columns\", 500)"
   ]
  },
  {
   "cell_type": "markdown",
   "metadata": {},
   "source": [
    "#### Loading the data into dataframe"
   ]
  },
  {
   "cell_type": "code",
   "execution_count": 2,
   "metadata": {},
   "outputs": [],
   "source": [
    "# Read the loan file and explore the data\n",
    "loan_df = pd.read_csv(\"../datasets/loan.csv\", low_memory=False)"
   ]
  },
  {
   "cell_type": "code",
   "execution_count": 3,
   "metadata": {},
   "outputs": [
    {
     "name": "stdout",
     "output_type": "stream",
     "text": [
      "(39717, 111)\n"
     ]
    },
    {
     "data": {
      "text/html": [
       "<div>\n",
       "<style scoped>\n",
       "    .dataframe tbody tr th:only-of-type {\n",
       "        vertical-align: middle;\n",
       "    }\n",
       "\n",
       "    .dataframe tbody tr th {\n",
       "        vertical-align: top;\n",
       "    }\n",
       "\n",
       "    .dataframe thead th {\n",
       "        text-align: right;\n",
       "    }\n",
       "</style>\n",
       "<table border=\"1\" class=\"dataframe\">\n",
       "  <thead>\n",
       "    <tr style=\"text-align: right;\">\n",
       "      <th></th>\n",
       "      <th>id</th>\n",
       "      <th>member_id</th>\n",
       "      <th>loan_amnt</th>\n",
       "      <th>funded_amnt</th>\n",
       "      <th>funded_amnt_inv</th>\n",
       "      <th>term</th>\n",
       "      <th>int_rate</th>\n",
       "      <th>installment</th>\n",
       "      <th>grade</th>\n",
       "      <th>sub_grade</th>\n",
       "      <th>emp_title</th>\n",
       "      <th>emp_length</th>\n",
       "      <th>home_ownership</th>\n",
       "      <th>annual_inc</th>\n",
       "      <th>verification_status</th>\n",
       "      <th>issue_d</th>\n",
       "      <th>loan_status</th>\n",
       "      <th>pymnt_plan</th>\n",
       "      <th>url</th>\n",
       "      <th>desc</th>\n",
       "      <th>purpose</th>\n",
       "      <th>title</th>\n",
       "      <th>zip_code</th>\n",
       "      <th>addr_state</th>\n",
       "      <th>dti</th>\n",
       "      <th>delinq_2yrs</th>\n",
       "      <th>earliest_cr_line</th>\n",
       "      <th>inq_last_6mths</th>\n",
       "      <th>mths_since_last_delinq</th>\n",
       "      <th>mths_since_last_record</th>\n",
       "      <th>open_acc</th>\n",
       "      <th>pub_rec</th>\n",
       "      <th>revol_bal</th>\n",
       "      <th>revol_util</th>\n",
       "      <th>total_acc</th>\n",
       "      <th>initial_list_status</th>\n",
       "      <th>out_prncp</th>\n",
       "      <th>out_prncp_inv</th>\n",
       "      <th>total_pymnt</th>\n",
       "      <th>total_pymnt_inv</th>\n",
       "      <th>total_rec_prncp</th>\n",
       "      <th>total_rec_int</th>\n",
       "      <th>total_rec_late_fee</th>\n",
       "      <th>recoveries</th>\n",
       "      <th>collection_recovery_fee</th>\n",
       "      <th>last_pymnt_d</th>\n",
       "      <th>last_pymnt_amnt</th>\n",
       "      <th>next_pymnt_d</th>\n",
       "      <th>last_credit_pull_d</th>\n",
       "      <th>collections_12_mths_ex_med</th>\n",
       "      <th>mths_since_last_major_derog</th>\n",
       "      <th>policy_code</th>\n",
       "      <th>application_type</th>\n",
       "      <th>annual_inc_joint</th>\n",
       "      <th>dti_joint</th>\n",
       "      <th>verification_status_joint</th>\n",
       "      <th>acc_now_delinq</th>\n",
       "      <th>tot_coll_amt</th>\n",
       "      <th>tot_cur_bal</th>\n",
       "      <th>open_acc_6m</th>\n",
       "      <th>open_il_6m</th>\n",
       "      <th>open_il_12m</th>\n",
       "      <th>open_il_24m</th>\n",
       "      <th>mths_since_rcnt_il</th>\n",
       "      <th>total_bal_il</th>\n",
       "      <th>il_util</th>\n",
       "      <th>open_rv_12m</th>\n",
       "      <th>open_rv_24m</th>\n",
       "      <th>max_bal_bc</th>\n",
       "      <th>all_util</th>\n",
       "      <th>total_rev_hi_lim</th>\n",
       "      <th>inq_fi</th>\n",
       "      <th>total_cu_tl</th>\n",
       "      <th>inq_last_12m</th>\n",
       "      <th>acc_open_past_24mths</th>\n",
       "      <th>avg_cur_bal</th>\n",
       "      <th>bc_open_to_buy</th>\n",
       "      <th>bc_util</th>\n",
       "      <th>chargeoff_within_12_mths</th>\n",
       "      <th>delinq_amnt</th>\n",
       "      <th>mo_sin_old_il_acct</th>\n",
       "      <th>mo_sin_old_rev_tl_op</th>\n",
       "      <th>mo_sin_rcnt_rev_tl_op</th>\n",
       "      <th>mo_sin_rcnt_tl</th>\n",
       "      <th>mort_acc</th>\n",
       "      <th>mths_since_recent_bc</th>\n",
       "      <th>mths_since_recent_bc_dlq</th>\n",
       "      <th>mths_since_recent_inq</th>\n",
       "      <th>mths_since_recent_revol_delinq</th>\n",
       "      <th>num_accts_ever_120_pd</th>\n",
       "      <th>num_actv_bc_tl</th>\n",
       "      <th>num_actv_rev_tl</th>\n",
       "      <th>num_bc_sats</th>\n",
       "      <th>num_bc_tl</th>\n",
       "      <th>num_il_tl</th>\n",
       "      <th>num_op_rev_tl</th>\n",
       "      <th>num_rev_accts</th>\n",
       "      <th>num_rev_tl_bal_gt_0</th>\n",
       "      <th>num_sats</th>\n",
       "      <th>num_tl_120dpd_2m</th>\n",
       "      <th>num_tl_30dpd</th>\n",
       "      <th>num_tl_90g_dpd_24m</th>\n",
       "      <th>num_tl_op_past_12m</th>\n",
       "      <th>pct_tl_nvr_dlq</th>\n",
       "      <th>percent_bc_gt_75</th>\n",
       "      <th>pub_rec_bankruptcies</th>\n",
       "      <th>tax_liens</th>\n",
       "      <th>tot_hi_cred_lim</th>\n",
       "      <th>total_bal_ex_mort</th>\n",
       "      <th>total_bc_limit</th>\n",
       "      <th>total_il_high_credit_limit</th>\n",
       "    </tr>\n",
       "  </thead>\n",
       "  <tbody>\n",
       "    <tr>\n",
       "      <th>0</th>\n",
       "      <td>1077501</td>\n",
       "      <td>1296599</td>\n",
       "      <td>5000</td>\n",
       "      <td>5000</td>\n",
       "      <td>4975.0</td>\n",
       "      <td>36 months</td>\n",
       "      <td>10.65%</td>\n",
       "      <td>162.87</td>\n",
       "      <td>B</td>\n",
       "      <td>B2</td>\n",
       "      <td>NaN</td>\n",
       "      <td>10+ years</td>\n",
       "      <td>RENT</td>\n",
       "      <td>24000.0</td>\n",
       "      <td>Verified</td>\n",
       "      <td>Dec-11</td>\n",
       "      <td>Fully Paid</td>\n",
       "      <td>n</td>\n",
       "      <td>https://lendingclub.com/browse/loanDetail.acti...</td>\n",
       "      <td>Borrower added on 12/22/11 &gt; I need to upgra...</td>\n",
       "      <td>credit_card</td>\n",
       "      <td>Computer</td>\n",
       "      <td>860xx</td>\n",
       "      <td>AZ</td>\n",
       "      <td>27.65</td>\n",
       "      <td>0</td>\n",
       "      <td>Jan-85</td>\n",
       "      <td>1</td>\n",
       "      <td>NaN</td>\n",
       "      <td>NaN</td>\n",
       "      <td>3</td>\n",
       "      <td>0</td>\n",
       "      <td>13648</td>\n",
       "      <td>83.70%</td>\n",
       "      <td>9</td>\n",
       "      <td>f</td>\n",
       "      <td>0.00</td>\n",
       "      <td>0.00</td>\n",
       "      <td>5863.155187</td>\n",
       "      <td>5833.84</td>\n",
       "      <td>5000.00</td>\n",
       "      <td>863.16</td>\n",
       "      <td>0.00</td>\n",
       "      <td>0.00</td>\n",
       "      <td>0.00</td>\n",
       "      <td>Jan-15</td>\n",
       "      <td>171.62</td>\n",
       "      <td>NaN</td>\n",
       "      <td>May-16</td>\n",
       "      <td>0.0</td>\n",
       "      <td>NaN</td>\n",
       "      <td>1</td>\n",
       "      <td>INDIVIDUAL</td>\n",
       "      <td>NaN</td>\n",
       "      <td>NaN</td>\n",
       "      <td>NaN</td>\n",
       "      <td>0</td>\n",
       "      <td>NaN</td>\n",
       "      <td>NaN</td>\n",
       "      <td>NaN</td>\n",
       "      <td>NaN</td>\n",
       "      <td>NaN</td>\n",
       "      <td>NaN</td>\n",
       "      <td>NaN</td>\n",
       "      <td>NaN</td>\n",
       "      <td>NaN</td>\n",
       "      <td>NaN</td>\n",
       "      <td>NaN</td>\n",
       "      <td>NaN</td>\n",
       "      <td>NaN</td>\n",
       "      <td>NaN</td>\n",
       "      <td>NaN</td>\n",
       "      <td>NaN</td>\n",
       "      <td>NaN</td>\n",
       "      <td>NaN</td>\n",
       "      <td>NaN</td>\n",
       "      <td>NaN</td>\n",
       "      <td>NaN</td>\n",
       "      <td>0.0</td>\n",
       "      <td>0</td>\n",
       "      <td>NaN</td>\n",
       "      <td>NaN</td>\n",
       "      <td>NaN</td>\n",
       "      <td>NaN</td>\n",
       "      <td>NaN</td>\n",
       "      <td>NaN</td>\n",
       "      <td>NaN</td>\n",
       "      <td>NaN</td>\n",
       "      <td>NaN</td>\n",
       "      <td>NaN</td>\n",
       "      <td>NaN</td>\n",
       "      <td>NaN</td>\n",
       "      <td>NaN</td>\n",
       "      <td>NaN</td>\n",
       "      <td>NaN</td>\n",
       "      <td>NaN</td>\n",
       "      <td>NaN</td>\n",
       "      <td>NaN</td>\n",
       "      <td>NaN</td>\n",
       "      <td>NaN</td>\n",
       "      <td>NaN</td>\n",
       "      <td>NaN</td>\n",
       "      <td>NaN</td>\n",
       "      <td>NaN</td>\n",
       "      <td>NaN</td>\n",
       "      <td>0.0</td>\n",
       "      <td>0.0</td>\n",
       "      <td>NaN</td>\n",
       "      <td>NaN</td>\n",
       "      <td>NaN</td>\n",
       "      <td>NaN</td>\n",
       "    </tr>\n",
       "    <tr>\n",
       "      <th>1</th>\n",
       "      <td>1077430</td>\n",
       "      <td>1314167</td>\n",
       "      <td>2500</td>\n",
       "      <td>2500</td>\n",
       "      <td>2500.0</td>\n",
       "      <td>60 months</td>\n",
       "      <td>15.27%</td>\n",
       "      <td>59.83</td>\n",
       "      <td>C</td>\n",
       "      <td>C4</td>\n",
       "      <td>Ryder</td>\n",
       "      <td>&lt; 1 year</td>\n",
       "      <td>RENT</td>\n",
       "      <td>30000.0</td>\n",
       "      <td>Source Verified</td>\n",
       "      <td>Dec-11</td>\n",
       "      <td>Charged Off</td>\n",
       "      <td>n</td>\n",
       "      <td>https://lendingclub.com/browse/loanDetail.acti...</td>\n",
       "      <td>Borrower added on 12/22/11 &gt; I plan to use t...</td>\n",
       "      <td>car</td>\n",
       "      <td>bike</td>\n",
       "      <td>309xx</td>\n",
       "      <td>GA</td>\n",
       "      <td>1.00</td>\n",
       "      <td>0</td>\n",
       "      <td>Apr-99</td>\n",
       "      <td>5</td>\n",
       "      <td>NaN</td>\n",
       "      <td>NaN</td>\n",
       "      <td>3</td>\n",
       "      <td>0</td>\n",
       "      <td>1687</td>\n",
       "      <td>9.40%</td>\n",
       "      <td>4</td>\n",
       "      <td>f</td>\n",
       "      <td>0.00</td>\n",
       "      <td>0.00</td>\n",
       "      <td>1008.710000</td>\n",
       "      <td>1008.71</td>\n",
       "      <td>456.46</td>\n",
       "      <td>435.17</td>\n",
       "      <td>0.00</td>\n",
       "      <td>117.08</td>\n",
       "      <td>1.11</td>\n",
       "      <td>Apr-13</td>\n",
       "      <td>119.66</td>\n",
       "      <td>NaN</td>\n",
       "      <td>Sep-13</td>\n",
       "      <td>0.0</td>\n",
       "      <td>NaN</td>\n",
       "      <td>1</td>\n",
       "      <td>INDIVIDUAL</td>\n",
       "      <td>NaN</td>\n",
       "      <td>NaN</td>\n",
       "      <td>NaN</td>\n",
       "      <td>0</td>\n",
       "      <td>NaN</td>\n",
       "      <td>NaN</td>\n",
       "      <td>NaN</td>\n",
       "      <td>NaN</td>\n",
       "      <td>NaN</td>\n",
       "      <td>NaN</td>\n",
       "      <td>NaN</td>\n",
       "      <td>NaN</td>\n",
       "      <td>NaN</td>\n",
       "      <td>NaN</td>\n",
       "      <td>NaN</td>\n",
       "      <td>NaN</td>\n",
       "      <td>NaN</td>\n",
       "      <td>NaN</td>\n",
       "      <td>NaN</td>\n",
       "      <td>NaN</td>\n",
       "      <td>NaN</td>\n",
       "      <td>NaN</td>\n",
       "      <td>NaN</td>\n",
       "      <td>NaN</td>\n",
       "      <td>NaN</td>\n",
       "      <td>0.0</td>\n",
       "      <td>0</td>\n",
       "      <td>NaN</td>\n",
       "      <td>NaN</td>\n",
       "      <td>NaN</td>\n",
       "      <td>NaN</td>\n",
       "      <td>NaN</td>\n",
       "      <td>NaN</td>\n",
       "      <td>NaN</td>\n",
       "      <td>NaN</td>\n",
       "      <td>NaN</td>\n",
       "      <td>NaN</td>\n",
       "      <td>NaN</td>\n",
       "      <td>NaN</td>\n",
       "      <td>NaN</td>\n",
       "      <td>NaN</td>\n",
       "      <td>NaN</td>\n",
       "      <td>NaN</td>\n",
       "      <td>NaN</td>\n",
       "      <td>NaN</td>\n",
       "      <td>NaN</td>\n",
       "      <td>NaN</td>\n",
       "      <td>NaN</td>\n",
       "      <td>NaN</td>\n",
       "      <td>NaN</td>\n",
       "      <td>NaN</td>\n",
       "      <td>NaN</td>\n",
       "      <td>0.0</td>\n",
       "      <td>0.0</td>\n",
       "      <td>NaN</td>\n",
       "      <td>NaN</td>\n",
       "      <td>NaN</td>\n",
       "      <td>NaN</td>\n",
       "    </tr>\n",
       "    <tr>\n",
       "      <th>2</th>\n",
       "      <td>1077175</td>\n",
       "      <td>1313524</td>\n",
       "      <td>2400</td>\n",
       "      <td>2400</td>\n",
       "      <td>2400.0</td>\n",
       "      <td>36 months</td>\n",
       "      <td>15.96%</td>\n",
       "      <td>84.33</td>\n",
       "      <td>C</td>\n",
       "      <td>C5</td>\n",
       "      <td>NaN</td>\n",
       "      <td>10+ years</td>\n",
       "      <td>RENT</td>\n",
       "      <td>12252.0</td>\n",
       "      <td>Not Verified</td>\n",
       "      <td>Dec-11</td>\n",
       "      <td>Fully Paid</td>\n",
       "      <td>n</td>\n",
       "      <td>https://lendingclub.com/browse/loanDetail.acti...</td>\n",
       "      <td>NaN</td>\n",
       "      <td>small_business</td>\n",
       "      <td>real estate business</td>\n",
       "      <td>606xx</td>\n",
       "      <td>IL</td>\n",
       "      <td>8.72</td>\n",
       "      <td>0</td>\n",
       "      <td>Nov-01</td>\n",
       "      <td>2</td>\n",
       "      <td>NaN</td>\n",
       "      <td>NaN</td>\n",
       "      <td>2</td>\n",
       "      <td>0</td>\n",
       "      <td>2956</td>\n",
       "      <td>98.50%</td>\n",
       "      <td>10</td>\n",
       "      <td>f</td>\n",
       "      <td>0.00</td>\n",
       "      <td>0.00</td>\n",
       "      <td>3005.666844</td>\n",
       "      <td>3005.67</td>\n",
       "      <td>2400.00</td>\n",
       "      <td>605.67</td>\n",
       "      <td>0.00</td>\n",
       "      <td>0.00</td>\n",
       "      <td>0.00</td>\n",
       "      <td>Jun-14</td>\n",
       "      <td>649.91</td>\n",
       "      <td>NaN</td>\n",
       "      <td>May-16</td>\n",
       "      <td>0.0</td>\n",
       "      <td>NaN</td>\n",
       "      <td>1</td>\n",
       "      <td>INDIVIDUAL</td>\n",
       "      <td>NaN</td>\n",
       "      <td>NaN</td>\n",
       "      <td>NaN</td>\n",
       "      <td>0</td>\n",
       "      <td>NaN</td>\n",
       "      <td>NaN</td>\n",
       "      <td>NaN</td>\n",
       "      <td>NaN</td>\n",
       "      <td>NaN</td>\n",
       "      <td>NaN</td>\n",
       "      <td>NaN</td>\n",
       "      <td>NaN</td>\n",
       "      <td>NaN</td>\n",
       "      <td>NaN</td>\n",
       "      <td>NaN</td>\n",
       "      <td>NaN</td>\n",
       "      <td>NaN</td>\n",
       "      <td>NaN</td>\n",
       "      <td>NaN</td>\n",
       "      <td>NaN</td>\n",
       "      <td>NaN</td>\n",
       "      <td>NaN</td>\n",
       "      <td>NaN</td>\n",
       "      <td>NaN</td>\n",
       "      <td>NaN</td>\n",
       "      <td>0.0</td>\n",
       "      <td>0</td>\n",
       "      <td>NaN</td>\n",
       "      <td>NaN</td>\n",
       "      <td>NaN</td>\n",
       "      <td>NaN</td>\n",
       "      <td>NaN</td>\n",
       "      <td>NaN</td>\n",
       "      <td>NaN</td>\n",
       "      <td>NaN</td>\n",
       "      <td>NaN</td>\n",
       "      <td>NaN</td>\n",
       "      <td>NaN</td>\n",
       "      <td>NaN</td>\n",
       "      <td>NaN</td>\n",
       "      <td>NaN</td>\n",
       "      <td>NaN</td>\n",
       "      <td>NaN</td>\n",
       "      <td>NaN</td>\n",
       "      <td>NaN</td>\n",
       "      <td>NaN</td>\n",
       "      <td>NaN</td>\n",
       "      <td>NaN</td>\n",
       "      <td>NaN</td>\n",
       "      <td>NaN</td>\n",
       "      <td>NaN</td>\n",
       "      <td>NaN</td>\n",
       "      <td>0.0</td>\n",
       "      <td>0.0</td>\n",
       "      <td>NaN</td>\n",
       "      <td>NaN</td>\n",
       "      <td>NaN</td>\n",
       "      <td>NaN</td>\n",
       "    </tr>\n",
       "    <tr>\n",
       "      <th>3</th>\n",
       "      <td>1076863</td>\n",
       "      <td>1277178</td>\n",
       "      <td>10000</td>\n",
       "      <td>10000</td>\n",
       "      <td>10000.0</td>\n",
       "      <td>36 months</td>\n",
       "      <td>13.49%</td>\n",
       "      <td>339.31</td>\n",
       "      <td>C</td>\n",
       "      <td>C1</td>\n",
       "      <td>AIR RESOURCES BOARD</td>\n",
       "      <td>10+ years</td>\n",
       "      <td>RENT</td>\n",
       "      <td>49200.0</td>\n",
       "      <td>Source Verified</td>\n",
       "      <td>Dec-11</td>\n",
       "      <td>Fully Paid</td>\n",
       "      <td>n</td>\n",
       "      <td>https://lendingclub.com/browse/loanDetail.acti...</td>\n",
       "      <td>Borrower added on 12/21/11 &gt; to pay for prop...</td>\n",
       "      <td>other</td>\n",
       "      <td>personel</td>\n",
       "      <td>917xx</td>\n",
       "      <td>CA</td>\n",
       "      <td>20.00</td>\n",
       "      <td>0</td>\n",
       "      <td>Feb-96</td>\n",
       "      <td>1</td>\n",
       "      <td>35.0</td>\n",
       "      <td>NaN</td>\n",
       "      <td>10</td>\n",
       "      <td>0</td>\n",
       "      <td>5598</td>\n",
       "      <td>21%</td>\n",
       "      <td>37</td>\n",
       "      <td>f</td>\n",
       "      <td>0.00</td>\n",
       "      <td>0.00</td>\n",
       "      <td>12231.890000</td>\n",
       "      <td>12231.89</td>\n",
       "      <td>10000.00</td>\n",
       "      <td>2214.92</td>\n",
       "      <td>16.97</td>\n",
       "      <td>0.00</td>\n",
       "      <td>0.00</td>\n",
       "      <td>Jan-15</td>\n",
       "      <td>357.48</td>\n",
       "      <td>NaN</td>\n",
       "      <td>Apr-16</td>\n",
       "      <td>0.0</td>\n",
       "      <td>NaN</td>\n",
       "      <td>1</td>\n",
       "      <td>INDIVIDUAL</td>\n",
       "      <td>NaN</td>\n",
       "      <td>NaN</td>\n",
       "      <td>NaN</td>\n",
       "      <td>0</td>\n",
       "      <td>NaN</td>\n",
       "      <td>NaN</td>\n",
       "      <td>NaN</td>\n",
       "      <td>NaN</td>\n",
       "      <td>NaN</td>\n",
       "      <td>NaN</td>\n",
       "      <td>NaN</td>\n",
       "      <td>NaN</td>\n",
       "      <td>NaN</td>\n",
       "      <td>NaN</td>\n",
       "      <td>NaN</td>\n",
       "      <td>NaN</td>\n",
       "      <td>NaN</td>\n",
       "      <td>NaN</td>\n",
       "      <td>NaN</td>\n",
       "      <td>NaN</td>\n",
       "      <td>NaN</td>\n",
       "      <td>NaN</td>\n",
       "      <td>NaN</td>\n",
       "      <td>NaN</td>\n",
       "      <td>NaN</td>\n",
       "      <td>0.0</td>\n",
       "      <td>0</td>\n",
       "      <td>NaN</td>\n",
       "      <td>NaN</td>\n",
       "      <td>NaN</td>\n",
       "      <td>NaN</td>\n",
       "      <td>NaN</td>\n",
       "      <td>NaN</td>\n",
       "      <td>NaN</td>\n",
       "      <td>NaN</td>\n",
       "      <td>NaN</td>\n",
       "      <td>NaN</td>\n",
       "      <td>NaN</td>\n",
       "      <td>NaN</td>\n",
       "      <td>NaN</td>\n",
       "      <td>NaN</td>\n",
       "      <td>NaN</td>\n",
       "      <td>NaN</td>\n",
       "      <td>NaN</td>\n",
       "      <td>NaN</td>\n",
       "      <td>NaN</td>\n",
       "      <td>NaN</td>\n",
       "      <td>NaN</td>\n",
       "      <td>NaN</td>\n",
       "      <td>NaN</td>\n",
       "      <td>NaN</td>\n",
       "      <td>NaN</td>\n",
       "      <td>0.0</td>\n",
       "      <td>0.0</td>\n",
       "      <td>NaN</td>\n",
       "      <td>NaN</td>\n",
       "      <td>NaN</td>\n",
       "      <td>NaN</td>\n",
       "    </tr>\n",
       "    <tr>\n",
       "      <th>4</th>\n",
       "      <td>1075358</td>\n",
       "      <td>1311748</td>\n",
       "      <td>3000</td>\n",
       "      <td>3000</td>\n",
       "      <td>3000.0</td>\n",
       "      <td>60 months</td>\n",
       "      <td>12.69%</td>\n",
       "      <td>67.79</td>\n",
       "      <td>B</td>\n",
       "      <td>B5</td>\n",
       "      <td>University Medical Group</td>\n",
       "      <td>1 year</td>\n",
       "      <td>RENT</td>\n",
       "      <td>80000.0</td>\n",
       "      <td>Source Verified</td>\n",
       "      <td>Dec-11</td>\n",
       "      <td>Current</td>\n",
       "      <td>n</td>\n",
       "      <td>https://lendingclub.com/browse/loanDetail.acti...</td>\n",
       "      <td>Borrower added on 12/21/11 &gt; I plan on combi...</td>\n",
       "      <td>other</td>\n",
       "      <td>Personal</td>\n",
       "      <td>972xx</td>\n",
       "      <td>OR</td>\n",
       "      <td>17.94</td>\n",
       "      <td>0</td>\n",
       "      <td>Jan-96</td>\n",
       "      <td>0</td>\n",
       "      <td>38.0</td>\n",
       "      <td>NaN</td>\n",
       "      <td>15</td>\n",
       "      <td>0</td>\n",
       "      <td>27783</td>\n",
       "      <td>53.90%</td>\n",
       "      <td>38</td>\n",
       "      <td>f</td>\n",
       "      <td>524.06</td>\n",
       "      <td>524.06</td>\n",
       "      <td>3513.330000</td>\n",
       "      <td>3513.33</td>\n",
       "      <td>2475.94</td>\n",
       "      <td>1037.39</td>\n",
       "      <td>0.00</td>\n",
       "      <td>0.00</td>\n",
       "      <td>0.00</td>\n",
       "      <td>May-16</td>\n",
       "      <td>67.79</td>\n",
       "      <td>Jun-16</td>\n",
       "      <td>May-16</td>\n",
       "      <td>0.0</td>\n",
       "      <td>NaN</td>\n",
       "      <td>1</td>\n",
       "      <td>INDIVIDUAL</td>\n",
       "      <td>NaN</td>\n",
       "      <td>NaN</td>\n",
       "      <td>NaN</td>\n",
       "      <td>0</td>\n",
       "      <td>NaN</td>\n",
       "      <td>NaN</td>\n",
       "      <td>NaN</td>\n",
       "      <td>NaN</td>\n",
       "      <td>NaN</td>\n",
       "      <td>NaN</td>\n",
       "      <td>NaN</td>\n",
       "      <td>NaN</td>\n",
       "      <td>NaN</td>\n",
       "      <td>NaN</td>\n",
       "      <td>NaN</td>\n",
       "      <td>NaN</td>\n",
       "      <td>NaN</td>\n",
       "      <td>NaN</td>\n",
       "      <td>NaN</td>\n",
       "      <td>NaN</td>\n",
       "      <td>NaN</td>\n",
       "      <td>NaN</td>\n",
       "      <td>NaN</td>\n",
       "      <td>NaN</td>\n",
       "      <td>NaN</td>\n",
       "      <td>0.0</td>\n",
       "      <td>0</td>\n",
       "      <td>NaN</td>\n",
       "      <td>NaN</td>\n",
       "      <td>NaN</td>\n",
       "      <td>NaN</td>\n",
       "      <td>NaN</td>\n",
       "      <td>NaN</td>\n",
       "      <td>NaN</td>\n",
       "      <td>NaN</td>\n",
       "      <td>NaN</td>\n",
       "      <td>NaN</td>\n",
       "      <td>NaN</td>\n",
       "      <td>NaN</td>\n",
       "      <td>NaN</td>\n",
       "      <td>NaN</td>\n",
       "      <td>NaN</td>\n",
       "      <td>NaN</td>\n",
       "      <td>NaN</td>\n",
       "      <td>NaN</td>\n",
       "      <td>NaN</td>\n",
       "      <td>NaN</td>\n",
       "      <td>NaN</td>\n",
       "      <td>NaN</td>\n",
       "      <td>NaN</td>\n",
       "      <td>NaN</td>\n",
       "      <td>NaN</td>\n",
       "      <td>0.0</td>\n",
       "      <td>0.0</td>\n",
       "      <td>NaN</td>\n",
       "      <td>NaN</td>\n",
       "      <td>NaN</td>\n",
       "      <td>NaN</td>\n",
       "    </tr>\n",
       "  </tbody>\n",
       "</table>\n",
       "</div>"
      ],
      "text/plain": [
       "        id  member_id  loan_amnt  funded_amnt  funded_amnt_inv        term  \\\n",
       "0  1077501    1296599       5000         5000           4975.0   36 months   \n",
       "1  1077430    1314167       2500         2500           2500.0   60 months   \n",
       "2  1077175    1313524       2400         2400           2400.0   36 months   \n",
       "3  1076863    1277178      10000        10000          10000.0   36 months   \n",
       "4  1075358    1311748       3000         3000           3000.0   60 months   \n",
       "\n",
       "  int_rate  installment grade sub_grade                 emp_title emp_length  \\\n",
       "0   10.65%       162.87     B        B2                       NaN  10+ years   \n",
       "1   15.27%        59.83     C        C4                     Ryder   < 1 year   \n",
       "2   15.96%        84.33     C        C5                       NaN  10+ years   \n",
       "3   13.49%       339.31     C        C1       AIR RESOURCES BOARD  10+ years   \n",
       "4   12.69%        67.79     B        B5  University Medical Group     1 year   \n",
       "\n",
       "  home_ownership  annual_inc verification_status issue_d  loan_status  \\\n",
       "0           RENT     24000.0            Verified  Dec-11   Fully Paid   \n",
       "1           RENT     30000.0     Source Verified  Dec-11  Charged Off   \n",
       "2           RENT     12252.0        Not Verified  Dec-11   Fully Paid   \n",
       "3           RENT     49200.0     Source Verified  Dec-11   Fully Paid   \n",
       "4           RENT     80000.0     Source Verified  Dec-11      Current   \n",
       "\n",
       "  pymnt_plan                                                url  \\\n",
       "0          n  https://lendingclub.com/browse/loanDetail.acti...   \n",
       "1          n  https://lendingclub.com/browse/loanDetail.acti...   \n",
       "2          n  https://lendingclub.com/browse/loanDetail.acti...   \n",
       "3          n  https://lendingclub.com/browse/loanDetail.acti...   \n",
       "4          n  https://lendingclub.com/browse/loanDetail.acti...   \n",
       "\n",
       "                                                desc         purpose  \\\n",
       "0    Borrower added on 12/22/11 > I need to upgra...     credit_card   \n",
       "1    Borrower added on 12/22/11 > I plan to use t...             car   \n",
       "2                                                NaN  small_business   \n",
       "3    Borrower added on 12/21/11 > to pay for prop...           other   \n",
       "4    Borrower added on 12/21/11 > I plan on combi...           other   \n",
       "\n",
       "                  title zip_code addr_state    dti  delinq_2yrs  \\\n",
       "0              Computer    860xx         AZ  27.65            0   \n",
       "1                  bike    309xx         GA   1.00            0   \n",
       "2  real estate business    606xx         IL   8.72            0   \n",
       "3              personel    917xx         CA  20.00            0   \n",
       "4              Personal    972xx         OR  17.94            0   \n",
       "\n",
       "  earliest_cr_line  inq_last_6mths  mths_since_last_delinq  \\\n",
       "0           Jan-85               1                     NaN   \n",
       "1           Apr-99               5                     NaN   \n",
       "2           Nov-01               2                     NaN   \n",
       "3           Feb-96               1                    35.0   \n",
       "4           Jan-96               0                    38.0   \n",
       "\n",
       "   mths_since_last_record  open_acc  pub_rec  revol_bal revol_util  total_acc  \\\n",
       "0                     NaN         3        0      13648     83.70%          9   \n",
       "1                     NaN         3        0       1687      9.40%          4   \n",
       "2                     NaN         2        0       2956     98.50%         10   \n",
       "3                     NaN        10        0       5598        21%         37   \n",
       "4                     NaN        15        0      27783     53.90%         38   \n",
       "\n",
       "  initial_list_status  out_prncp  out_prncp_inv   total_pymnt  \\\n",
       "0                   f       0.00           0.00   5863.155187   \n",
       "1                   f       0.00           0.00   1008.710000   \n",
       "2                   f       0.00           0.00   3005.666844   \n",
       "3                   f       0.00           0.00  12231.890000   \n",
       "4                   f     524.06         524.06   3513.330000   \n",
       "\n",
       "   total_pymnt_inv  total_rec_prncp  total_rec_int  total_rec_late_fee  \\\n",
       "0          5833.84          5000.00         863.16                0.00   \n",
       "1          1008.71           456.46         435.17                0.00   \n",
       "2          3005.67          2400.00         605.67                0.00   \n",
       "3         12231.89         10000.00        2214.92               16.97   \n",
       "4          3513.33          2475.94        1037.39                0.00   \n",
       "\n",
       "   recoveries  collection_recovery_fee last_pymnt_d  last_pymnt_amnt  \\\n",
       "0        0.00                     0.00       Jan-15           171.62   \n",
       "1      117.08                     1.11       Apr-13           119.66   \n",
       "2        0.00                     0.00       Jun-14           649.91   \n",
       "3        0.00                     0.00       Jan-15           357.48   \n",
       "4        0.00                     0.00       May-16            67.79   \n",
       "\n",
       "  next_pymnt_d last_credit_pull_d  collections_12_mths_ex_med  \\\n",
       "0          NaN             May-16                         0.0   \n",
       "1          NaN             Sep-13                         0.0   \n",
       "2          NaN             May-16                         0.0   \n",
       "3          NaN             Apr-16                         0.0   \n",
       "4       Jun-16             May-16                         0.0   \n",
       "\n",
       "   mths_since_last_major_derog  policy_code application_type  \\\n",
       "0                          NaN            1       INDIVIDUAL   \n",
       "1                          NaN            1       INDIVIDUAL   \n",
       "2                          NaN            1       INDIVIDUAL   \n",
       "3                          NaN            1       INDIVIDUAL   \n",
       "4                          NaN            1       INDIVIDUAL   \n",
       "\n",
       "   annual_inc_joint  dti_joint  verification_status_joint  acc_now_delinq  \\\n",
       "0               NaN        NaN                        NaN               0   \n",
       "1               NaN        NaN                        NaN               0   \n",
       "2               NaN        NaN                        NaN               0   \n",
       "3               NaN        NaN                        NaN               0   \n",
       "4               NaN        NaN                        NaN               0   \n",
       "\n",
       "   tot_coll_amt  tot_cur_bal  open_acc_6m  open_il_6m  open_il_12m  \\\n",
       "0           NaN          NaN          NaN         NaN          NaN   \n",
       "1           NaN          NaN          NaN         NaN          NaN   \n",
       "2           NaN          NaN          NaN         NaN          NaN   \n",
       "3           NaN          NaN          NaN         NaN          NaN   \n",
       "4           NaN          NaN          NaN         NaN          NaN   \n",
       "\n",
       "   open_il_24m  mths_since_rcnt_il  total_bal_il  il_util  open_rv_12m  \\\n",
       "0          NaN                 NaN           NaN      NaN          NaN   \n",
       "1          NaN                 NaN           NaN      NaN          NaN   \n",
       "2          NaN                 NaN           NaN      NaN          NaN   \n",
       "3          NaN                 NaN           NaN      NaN          NaN   \n",
       "4          NaN                 NaN           NaN      NaN          NaN   \n",
       "\n",
       "   open_rv_24m  max_bal_bc  all_util  total_rev_hi_lim  inq_fi  total_cu_tl  \\\n",
       "0          NaN         NaN       NaN               NaN     NaN          NaN   \n",
       "1          NaN         NaN       NaN               NaN     NaN          NaN   \n",
       "2          NaN         NaN       NaN               NaN     NaN          NaN   \n",
       "3          NaN         NaN       NaN               NaN     NaN          NaN   \n",
       "4          NaN         NaN       NaN               NaN     NaN          NaN   \n",
       "\n",
       "   inq_last_12m  acc_open_past_24mths  avg_cur_bal  bc_open_to_buy  bc_util  \\\n",
       "0           NaN                   NaN          NaN             NaN      NaN   \n",
       "1           NaN                   NaN          NaN             NaN      NaN   \n",
       "2           NaN                   NaN          NaN             NaN      NaN   \n",
       "3           NaN                   NaN          NaN             NaN      NaN   \n",
       "4           NaN                   NaN          NaN             NaN      NaN   \n",
       "\n",
       "   chargeoff_within_12_mths  delinq_amnt  mo_sin_old_il_acct  \\\n",
       "0                       0.0            0                 NaN   \n",
       "1                       0.0            0                 NaN   \n",
       "2                       0.0            0                 NaN   \n",
       "3                       0.0            0                 NaN   \n",
       "4                       0.0            0                 NaN   \n",
       "\n",
       "   mo_sin_old_rev_tl_op  mo_sin_rcnt_rev_tl_op  mo_sin_rcnt_tl  mort_acc  \\\n",
       "0                   NaN                    NaN             NaN       NaN   \n",
       "1                   NaN                    NaN             NaN       NaN   \n",
       "2                   NaN                    NaN             NaN       NaN   \n",
       "3                   NaN                    NaN             NaN       NaN   \n",
       "4                   NaN                    NaN             NaN       NaN   \n",
       "\n",
       "   mths_since_recent_bc  mths_since_recent_bc_dlq  mths_since_recent_inq  \\\n",
       "0                   NaN                       NaN                    NaN   \n",
       "1                   NaN                       NaN                    NaN   \n",
       "2                   NaN                       NaN                    NaN   \n",
       "3                   NaN                       NaN                    NaN   \n",
       "4                   NaN                       NaN                    NaN   \n",
       "\n",
       "   mths_since_recent_revol_delinq  num_accts_ever_120_pd  num_actv_bc_tl  \\\n",
       "0                             NaN                    NaN             NaN   \n",
       "1                             NaN                    NaN             NaN   \n",
       "2                             NaN                    NaN             NaN   \n",
       "3                             NaN                    NaN             NaN   \n",
       "4                             NaN                    NaN             NaN   \n",
       "\n",
       "   num_actv_rev_tl  num_bc_sats  num_bc_tl  num_il_tl  num_op_rev_tl  \\\n",
       "0              NaN          NaN        NaN        NaN            NaN   \n",
       "1              NaN          NaN        NaN        NaN            NaN   \n",
       "2              NaN          NaN        NaN        NaN            NaN   \n",
       "3              NaN          NaN        NaN        NaN            NaN   \n",
       "4              NaN          NaN        NaN        NaN            NaN   \n",
       "\n",
       "   num_rev_accts  num_rev_tl_bal_gt_0  num_sats  num_tl_120dpd_2m  \\\n",
       "0            NaN                  NaN       NaN               NaN   \n",
       "1            NaN                  NaN       NaN               NaN   \n",
       "2            NaN                  NaN       NaN               NaN   \n",
       "3            NaN                  NaN       NaN               NaN   \n",
       "4            NaN                  NaN       NaN               NaN   \n",
       "\n",
       "   num_tl_30dpd  num_tl_90g_dpd_24m  num_tl_op_past_12m  pct_tl_nvr_dlq  \\\n",
       "0           NaN                 NaN                 NaN             NaN   \n",
       "1           NaN                 NaN                 NaN             NaN   \n",
       "2           NaN                 NaN                 NaN             NaN   \n",
       "3           NaN                 NaN                 NaN             NaN   \n",
       "4           NaN                 NaN                 NaN             NaN   \n",
       "\n",
       "   percent_bc_gt_75  pub_rec_bankruptcies  tax_liens  tot_hi_cred_lim  \\\n",
       "0               NaN                   0.0        0.0              NaN   \n",
       "1               NaN                   0.0        0.0              NaN   \n",
       "2               NaN                   0.0        0.0              NaN   \n",
       "3               NaN                   0.0        0.0              NaN   \n",
       "4               NaN                   0.0        0.0              NaN   \n",
       "\n",
       "   total_bal_ex_mort  total_bc_limit  total_il_high_credit_limit  \n",
       "0                NaN             NaN                         NaN  \n",
       "1                NaN             NaN                         NaN  \n",
       "2                NaN             NaN                         NaN  \n",
       "3                NaN             NaN                         NaN  \n",
       "4                NaN             NaN                         NaN  "
      ]
     },
     "execution_count": 3,
     "metadata": {},
     "output_type": "execute_result"
    }
   ],
   "source": [
    "print(loan_df.shape)\n",
    "\n",
    "# Display the top 5 rows \n",
    "loan_df.head()"
   ]
  },
  {
   "cell_type": "code",
   "execution_count": 4,
   "metadata": {},
   "outputs": [
    {
     "data": {
      "text/html": [
       "<div>\n",
       "<style scoped>\n",
       "    .dataframe tbody tr th:only-of-type {\n",
       "        vertical-align: middle;\n",
       "    }\n",
       "\n",
       "    .dataframe tbody tr th {\n",
       "        vertical-align: top;\n",
       "    }\n",
       "\n",
       "    .dataframe thead th {\n",
       "        text-align: right;\n",
       "    }\n",
       "</style>\n",
       "<table border=\"1\" class=\"dataframe\">\n",
       "  <thead>\n",
       "    <tr style=\"text-align: right;\">\n",
       "      <th></th>\n",
       "      <th>id</th>\n",
       "      <th>member_id</th>\n",
       "      <th>loan_amnt</th>\n",
       "      <th>funded_amnt</th>\n",
       "      <th>funded_amnt_inv</th>\n",
       "      <th>term</th>\n",
       "      <th>int_rate</th>\n",
       "      <th>installment</th>\n",
       "      <th>grade</th>\n",
       "      <th>sub_grade</th>\n",
       "      <th>emp_title</th>\n",
       "      <th>emp_length</th>\n",
       "      <th>home_ownership</th>\n",
       "      <th>annual_inc</th>\n",
       "      <th>verification_status</th>\n",
       "      <th>issue_d</th>\n",
       "      <th>loan_status</th>\n",
       "      <th>pymnt_plan</th>\n",
       "      <th>url</th>\n",
       "      <th>desc</th>\n",
       "      <th>purpose</th>\n",
       "      <th>title</th>\n",
       "      <th>zip_code</th>\n",
       "      <th>addr_state</th>\n",
       "      <th>dti</th>\n",
       "      <th>delinq_2yrs</th>\n",
       "      <th>earliest_cr_line</th>\n",
       "      <th>inq_last_6mths</th>\n",
       "      <th>mths_since_last_delinq</th>\n",
       "      <th>mths_since_last_record</th>\n",
       "      <th>open_acc</th>\n",
       "      <th>pub_rec</th>\n",
       "      <th>revol_bal</th>\n",
       "      <th>revol_util</th>\n",
       "      <th>total_acc</th>\n",
       "      <th>initial_list_status</th>\n",
       "      <th>out_prncp</th>\n",
       "      <th>out_prncp_inv</th>\n",
       "      <th>total_pymnt</th>\n",
       "      <th>total_pymnt_inv</th>\n",
       "      <th>total_rec_prncp</th>\n",
       "      <th>total_rec_int</th>\n",
       "      <th>total_rec_late_fee</th>\n",
       "      <th>recoveries</th>\n",
       "      <th>collection_recovery_fee</th>\n",
       "      <th>last_pymnt_d</th>\n",
       "      <th>last_pymnt_amnt</th>\n",
       "      <th>next_pymnt_d</th>\n",
       "      <th>last_credit_pull_d</th>\n",
       "      <th>collections_12_mths_ex_med</th>\n",
       "      <th>mths_since_last_major_derog</th>\n",
       "      <th>policy_code</th>\n",
       "      <th>application_type</th>\n",
       "      <th>annual_inc_joint</th>\n",
       "      <th>dti_joint</th>\n",
       "      <th>verification_status_joint</th>\n",
       "      <th>acc_now_delinq</th>\n",
       "      <th>tot_coll_amt</th>\n",
       "      <th>tot_cur_bal</th>\n",
       "      <th>open_acc_6m</th>\n",
       "      <th>open_il_6m</th>\n",
       "      <th>open_il_12m</th>\n",
       "      <th>open_il_24m</th>\n",
       "      <th>mths_since_rcnt_il</th>\n",
       "      <th>total_bal_il</th>\n",
       "      <th>il_util</th>\n",
       "      <th>open_rv_12m</th>\n",
       "      <th>open_rv_24m</th>\n",
       "      <th>max_bal_bc</th>\n",
       "      <th>all_util</th>\n",
       "      <th>total_rev_hi_lim</th>\n",
       "      <th>inq_fi</th>\n",
       "      <th>total_cu_tl</th>\n",
       "      <th>inq_last_12m</th>\n",
       "      <th>acc_open_past_24mths</th>\n",
       "      <th>avg_cur_bal</th>\n",
       "      <th>bc_open_to_buy</th>\n",
       "      <th>bc_util</th>\n",
       "      <th>chargeoff_within_12_mths</th>\n",
       "      <th>delinq_amnt</th>\n",
       "      <th>mo_sin_old_il_acct</th>\n",
       "      <th>mo_sin_old_rev_tl_op</th>\n",
       "      <th>mo_sin_rcnt_rev_tl_op</th>\n",
       "      <th>mo_sin_rcnt_tl</th>\n",
       "      <th>mort_acc</th>\n",
       "      <th>mths_since_recent_bc</th>\n",
       "      <th>mths_since_recent_bc_dlq</th>\n",
       "      <th>mths_since_recent_inq</th>\n",
       "      <th>mths_since_recent_revol_delinq</th>\n",
       "      <th>num_accts_ever_120_pd</th>\n",
       "      <th>num_actv_bc_tl</th>\n",
       "      <th>num_actv_rev_tl</th>\n",
       "      <th>num_bc_sats</th>\n",
       "      <th>num_bc_tl</th>\n",
       "      <th>num_il_tl</th>\n",
       "      <th>num_op_rev_tl</th>\n",
       "      <th>num_rev_accts</th>\n",
       "      <th>num_rev_tl_bal_gt_0</th>\n",
       "      <th>num_sats</th>\n",
       "      <th>num_tl_120dpd_2m</th>\n",
       "      <th>num_tl_30dpd</th>\n",
       "      <th>num_tl_90g_dpd_24m</th>\n",
       "      <th>num_tl_op_past_12m</th>\n",
       "      <th>pct_tl_nvr_dlq</th>\n",
       "      <th>percent_bc_gt_75</th>\n",
       "      <th>pub_rec_bankruptcies</th>\n",
       "      <th>tax_liens</th>\n",
       "      <th>tot_hi_cred_lim</th>\n",
       "      <th>total_bal_ex_mort</th>\n",
       "      <th>total_bc_limit</th>\n",
       "      <th>total_il_high_credit_limit</th>\n",
       "    </tr>\n",
       "  </thead>\n",
       "  <tbody>\n",
       "    <tr>\n",
       "      <th>39712</th>\n",
       "      <td>92187</td>\n",
       "      <td>92174</td>\n",
       "      <td>2500</td>\n",
       "      <td>2500</td>\n",
       "      <td>1075.0</td>\n",
       "      <td>36 months</td>\n",
       "      <td>8.07%</td>\n",
       "      <td>78.42</td>\n",
       "      <td>A</td>\n",
       "      <td>A4</td>\n",
       "      <td>FiSite Research</td>\n",
       "      <td>4 years</td>\n",
       "      <td>MORTGAGE</td>\n",
       "      <td>110000.0</td>\n",
       "      <td>Not Verified</td>\n",
       "      <td>Jul-07</td>\n",
       "      <td>Fully Paid</td>\n",
       "      <td>n</td>\n",
       "      <td>https://lendingclub.com/browse/loanDetail.acti...</td>\n",
       "      <td>Our current gutter system on our home is old a...</td>\n",
       "      <td>home_improvement</td>\n",
       "      <td>Home Improvement</td>\n",
       "      <td>802xx</td>\n",
       "      <td>CO</td>\n",
       "      <td>11.33</td>\n",
       "      <td>0</td>\n",
       "      <td>Nov-90</td>\n",
       "      <td>0</td>\n",
       "      <td>0.0</td>\n",
       "      <td>0.0</td>\n",
       "      <td>13</td>\n",
       "      <td>0</td>\n",
       "      <td>7274</td>\n",
       "      <td>13.10%</td>\n",
       "      <td>40</td>\n",
       "      <td>f</td>\n",
       "      <td>0.0</td>\n",
       "      <td>0.0</td>\n",
       "      <td>2822.969293</td>\n",
       "      <td>1213.88</td>\n",
       "      <td>2500.0</td>\n",
       "      <td>322.97</td>\n",
       "      <td>0.0</td>\n",
       "      <td>0.0</td>\n",
       "      <td>0.0</td>\n",
       "      <td>Jul-10</td>\n",
       "      <td>80.90</td>\n",
       "      <td>NaN</td>\n",
       "      <td>Jun-10</td>\n",
       "      <td>NaN</td>\n",
       "      <td>NaN</td>\n",
       "      <td>1</td>\n",
       "      <td>INDIVIDUAL</td>\n",
       "      <td>NaN</td>\n",
       "      <td>NaN</td>\n",
       "      <td>NaN</td>\n",
       "      <td>0</td>\n",
       "      <td>NaN</td>\n",
       "      <td>NaN</td>\n",
       "      <td>NaN</td>\n",
       "      <td>NaN</td>\n",
       "      <td>NaN</td>\n",
       "      <td>NaN</td>\n",
       "      <td>NaN</td>\n",
       "      <td>NaN</td>\n",
       "      <td>NaN</td>\n",
       "      <td>NaN</td>\n",
       "      <td>NaN</td>\n",
       "      <td>NaN</td>\n",
       "      <td>NaN</td>\n",
       "      <td>NaN</td>\n",
       "      <td>NaN</td>\n",
       "      <td>NaN</td>\n",
       "      <td>NaN</td>\n",
       "      <td>NaN</td>\n",
       "      <td>NaN</td>\n",
       "      <td>NaN</td>\n",
       "      <td>NaN</td>\n",
       "      <td>NaN</td>\n",
       "      <td>0</td>\n",
       "      <td>NaN</td>\n",
       "      <td>NaN</td>\n",
       "      <td>NaN</td>\n",
       "      <td>NaN</td>\n",
       "      <td>NaN</td>\n",
       "      <td>NaN</td>\n",
       "      <td>NaN</td>\n",
       "      <td>NaN</td>\n",
       "      <td>NaN</td>\n",
       "      <td>NaN</td>\n",
       "      <td>NaN</td>\n",
       "      <td>NaN</td>\n",
       "      <td>NaN</td>\n",
       "      <td>NaN</td>\n",
       "      <td>NaN</td>\n",
       "      <td>NaN</td>\n",
       "      <td>NaN</td>\n",
       "      <td>NaN</td>\n",
       "      <td>NaN</td>\n",
       "      <td>NaN</td>\n",
       "      <td>NaN</td>\n",
       "      <td>NaN</td>\n",
       "      <td>NaN</td>\n",
       "      <td>NaN</td>\n",
       "      <td>NaN</td>\n",
       "      <td>NaN</td>\n",
       "      <td>NaN</td>\n",
       "      <td>NaN</td>\n",
       "      <td>NaN</td>\n",
       "      <td>NaN</td>\n",
       "      <td>NaN</td>\n",
       "    </tr>\n",
       "    <tr>\n",
       "      <th>39713</th>\n",
       "      <td>90665</td>\n",
       "      <td>90607</td>\n",
       "      <td>8500</td>\n",
       "      <td>8500</td>\n",
       "      <td>875.0</td>\n",
       "      <td>36 months</td>\n",
       "      <td>10.28%</td>\n",
       "      <td>275.38</td>\n",
       "      <td>C</td>\n",
       "      <td>C1</td>\n",
       "      <td>Squarewave Solutions, Ltd.</td>\n",
       "      <td>3 years</td>\n",
       "      <td>RENT</td>\n",
       "      <td>18000.0</td>\n",
       "      <td>Not Verified</td>\n",
       "      <td>Jul-07</td>\n",
       "      <td>Fully Paid</td>\n",
       "      <td>n</td>\n",
       "      <td>https://lendingclub.com/browse/loanDetail.acti...</td>\n",
       "      <td>The rate of interest and fees incurred by carr...</td>\n",
       "      <td>credit_card</td>\n",
       "      <td>Retiring credit card debt</td>\n",
       "      <td>274xx</td>\n",
       "      <td>NC</td>\n",
       "      <td>6.40</td>\n",
       "      <td>1</td>\n",
       "      <td>Dec-86</td>\n",
       "      <td>1</td>\n",
       "      <td>5.0</td>\n",
       "      <td>0.0</td>\n",
       "      <td>6</td>\n",
       "      <td>0</td>\n",
       "      <td>8847</td>\n",
       "      <td>26.90%</td>\n",
       "      <td>9</td>\n",
       "      <td>f</td>\n",
       "      <td>0.0</td>\n",
       "      <td>0.0</td>\n",
       "      <td>9913.491822</td>\n",
       "      <td>1020.51</td>\n",
       "      <td>8500.0</td>\n",
       "      <td>1413.49</td>\n",
       "      <td>0.0</td>\n",
       "      <td>0.0</td>\n",
       "      <td>0.0</td>\n",
       "      <td>Jul-10</td>\n",
       "      <td>281.94</td>\n",
       "      <td>NaN</td>\n",
       "      <td>Jul-10</td>\n",
       "      <td>NaN</td>\n",
       "      <td>NaN</td>\n",
       "      <td>1</td>\n",
       "      <td>INDIVIDUAL</td>\n",
       "      <td>NaN</td>\n",
       "      <td>NaN</td>\n",
       "      <td>NaN</td>\n",
       "      <td>0</td>\n",
       "      <td>NaN</td>\n",
       "      <td>NaN</td>\n",
       "      <td>NaN</td>\n",
       "      <td>NaN</td>\n",
       "      <td>NaN</td>\n",
       "      <td>NaN</td>\n",
       "      <td>NaN</td>\n",
       "      <td>NaN</td>\n",
       "      <td>NaN</td>\n",
       "      <td>NaN</td>\n",
       "      <td>NaN</td>\n",
       "      <td>NaN</td>\n",
       "      <td>NaN</td>\n",
       "      <td>NaN</td>\n",
       "      <td>NaN</td>\n",
       "      <td>NaN</td>\n",
       "      <td>NaN</td>\n",
       "      <td>NaN</td>\n",
       "      <td>NaN</td>\n",
       "      <td>NaN</td>\n",
       "      <td>NaN</td>\n",
       "      <td>NaN</td>\n",
       "      <td>0</td>\n",
       "      <td>NaN</td>\n",
       "      <td>NaN</td>\n",
       "      <td>NaN</td>\n",
       "      <td>NaN</td>\n",
       "      <td>NaN</td>\n",
       "      <td>NaN</td>\n",
       "      <td>NaN</td>\n",
       "      <td>NaN</td>\n",
       "      <td>NaN</td>\n",
       "      <td>NaN</td>\n",
       "      <td>NaN</td>\n",
       "      <td>NaN</td>\n",
       "      <td>NaN</td>\n",
       "      <td>NaN</td>\n",
       "      <td>NaN</td>\n",
       "      <td>NaN</td>\n",
       "      <td>NaN</td>\n",
       "      <td>NaN</td>\n",
       "      <td>NaN</td>\n",
       "      <td>NaN</td>\n",
       "      <td>NaN</td>\n",
       "      <td>NaN</td>\n",
       "      <td>NaN</td>\n",
       "      <td>NaN</td>\n",
       "      <td>NaN</td>\n",
       "      <td>NaN</td>\n",
       "      <td>NaN</td>\n",
       "      <td>NaN</td>\n",
       "      <td>NaN</td>\n",
       "      <td>NaN</td>\n",
       "      <td>NaN</td>\n",
       "    </tr>\n",
       "    <tr>\n",
       "      <th>39714</th>\n",
       "      <td>90395</td>\n",
       "      <td>90390</td>\n",
       "      <td>5000</td>\n",
       "      <td>5000</td>\n",
       "      <td>1325.0</td>\n",
       "      <td>36 months</td>\n",
       "      <td>8.07%</td>\n",
       "      <td>156.84</td>\n",
       "      <td>A</td>\n",
       "      <td>A4</td>\n",
       "      <td>NaN</td>\n",
       "      <td>&lt; 1 year</td>\n",
       "      <td>MORTGAGE</td>\n",
       "      <td>100000.0</td>\n",
       "      <td>Not Verified</td>\n",
       "      <td>Jul-07</td>\n",
       "      <td>Fully Paid</td>\n",
       "      <td>n</td>\n",
       "      <td>https://lendingclub.com/browse/loanDetail.acti...</td>\n",
       "      <td>NaN</td>\n",
       "      <td>debt_consolidation</td>\n",
       "      <td>MBA Loan Consolidation</td>\n",
       "      <td>017xx</td>\n",
       "      <td>MA</td>\n",
       "      <td>2.30</td>\n",
       "      <td>0</td>\n",
       "      <td>Oct-98</td>\n",
       "      <td>0</td>\n",
       "      <td>0.0</td>\n",
       "      <td>0.0</td>\n",
       "      <td>11</td>\n",
       "      <td>0</td>\n",
       "      <td>9698</td>\n",
       "      <td>19.40%</td>\n",
       "      <td>20</td>\n",
       "      <td>f</td>\n",
       "      <td>0.0</td>\n",
       "      <td>0.0</td>\n",
       "      <td>5272.161128</td>\n",
       "      <td>1397.12</td>\n",
       "      <td>5000.0</td>\n",
       "      <td>272.16</td>\n",
       "      <td>0.0</td>\n",
       "      <td>0.0</td>\n",
       "      <td>0.0</td>\n",
       "      <td>Apr-08</td>\n",
       "      <td>0.00</td>\n",
       "      <td>NaN</td>\n",
       "      <td>Jun-07</td>\n",
       "      <td>NaN</td>\n",
       "      <td>NaN</td>\n",
       "      <td>1</td>\n",
       "      <td>INDIVIDUAL</td>\n",
       "      <td>NaN</td>\n",
       "      <td>NaN</td>\n",
       "      <td>NaN</td>\n",
       "      <td>0</td>\n",
       "      <td>NaN</td>\n",
       "      <td>NaN</td>\n",
       "      <td>NaN</td>\n",
       "      <td>NaN</td>\n",
       "      <td>NaN</td>\n",
       "      <td>NaN</td>\n",
       "      <td>NaN</td>\n",
       "      <td>NaN</td>\n",
       "      <td>NaN</td>\n",
       "      <td>NaN</td>\n",
       "      <td>NaN</td>\n",
       "      <td>NaN</td>\n",
       "      <td>NaN</td>\n",
       "      <td>NaN</td>\n",
       "      <td>NaN</td>\n",
       "      <td>NaN</td>\n",
       "      <td>NaN</td>\n",
       "      <td>NaN</td>\n",
       "      <td>NaN</td>\n",
       "      <td>NaN</td>\n",
       "      <td>NaN</td>\n",
       "      <td>NaN</td>\n",
       "      <td>0</td>\n",
       "      <td>NaN</td>\n",
       "      <td>NaN</td>\n",
       "      <td>NaN</td>\n",
       "      <td>NaN</td>\n",
       "      <td>NaN</td>\n",
       "      <td>NaN</td>\n",
       "      <td>NaN</td>\n",
       "      <td>NaN</td>\n",
       "      <td>NaN</td>\n",
       "      <td>NaN</td>\n",
       "      <td>NaN</td>\n",
       "      <td>NaN</td>\n",
       "      <td>NaN</td>\n",
       "      <td>NaN</td>\n",
       "      <td>NaN</td>\n",
       "      <td>NaN</td>\n",
       "      <td>NaN</td>\n",
       "      <td>NaN</td>\n",
       "      <td>NaN</td>\n",
       "      <td>NaN</td>\n",
       "      <td>NaN</td>\n",
       "      <td>NaN</td>\n",
       "      <td>NaN</td>\n",
       "      <td>NaN</td>\n",
       "      <td>NaN</td>\n",
       "      <td>NaN</td>\n",
       "      <td>NaN</td>\n",
       "      <td>NaN</td>\n",
       "      <td>NaN</td>\n",
       "      <td>NaN</td>\n",
       "      <td>NaN</td>\n",
       "    </tr>\n",
       "    <tr>\n",
       "      <th>39715</th>\n",
       "      <td>90376</td>\n",
       "      <td>89243</td>\n",
       "      <td>5000</td>\n",
       "      <td>5000</td>\n",
       "      <td>650.0</td>\n",
       "      <td>36 months</td>\n",
       "      <td>7.43%</td>\n",
       "      <td>155.38</td>\n",
       "      <td>A</td>\n",
       "      <td>A2</td>\n",
       "      <td>NaN</td>\n",
       "      <td>&lt; 1 year</td>\n",
       "      <td>MORTGAGE</td>\n",
       "      <td>200000.0</td>\n",
       "      <td>Not Verified</td>\n",
       "      <td>Jul-07</td>\n",
       "      <td>Fully Paid</td>\n",
       "      <td>n</td>\n",
       "      <td>https://lendingclub.com/browse/loanDetail.acti...</td>\n",
       "      <td>NaN</td>\n",
       "      <td>other</td>\n",
       "      <td>JAL Loan</td>\n",
       "      <td>208xx</td>\n",
       "      <td>MD</td>\n",
       "      <td>3.72</td>\n",
       "      <td>0</td>\n",
       "      <td>Nov-88</td>\n",
       "      <td>0</td>\n",
       "      <td>0.0</td>\n",
       "      <td>0.0</td>\n",
       "      <td>17</td>\n",
       "      <td>0</td>\n",
       "      <td>85607</td>\n",
       "      <td>0.70%</td>\n",
       "      <td>26</td>\n",
       "      <td>f</td>\n",
       "      <td>0.0</td>\n",
       "      <td>0.0</td>\n",
       "      <td>5174.198551</td>\n",
       "      <td>672.66</td>\n",
       "      <td>5000.0</td>\n",
       "      <td>174.20</td>\n",
       "      <td>0.0</td>\n",
       "      <td>0.0</td>\n",
       "      <td>0.0</td>\n",
       "      <td>Jan-08</td>\n",
       "      <td>0.00</td>\n",
       "      <td>NaN</td>\n",
       "      <td>Jun-07</td>\n",
       "      <td>NaN</td>\n",
       "      <td>NaN</td>\n",
       "      <td>1</td>\n",
       "      <td>INDIVIDUAL</td>\n",
       "      <td>NaN</td>\n",
       "      <td>NaN</td>\n",
       "      <td>NaN</td>\n",
       "      <td>0</td>\n",
       "      <td>NaN</td>\n",
       "      <td>NaN</td>\n",
       "      <td>NaN</td>\n",
       "      <td>NaN</td>\n",
       "      <td>NaN</td>\n",
       "      <td>NaN</td>\n",
       "      <td>NaN</td>\n",
       "      <td>NaN</td>\n",
       "      <td>NaN</td>\n",
       "      <td>NaN</td>\n",
       "      <td>NaN</td>\n",
       "      <td>NaN</td>\n",
       "      <td>NaN</td>\n",
       "      <td>NaN</td>\n",
       "      <td>NaN</td>\n",
       "      <td>NaN</td>\n",
       "      <td>NaN</td>\n",
       "      <td>NaN</td>\n",
       "      <td>NaN</td>\n",
       "      <td>NaN</td>\n",
       "      <td>NaN</td>\n",
       "      <td>NaN</td>\n",
       "      <td>0</td>\n",
       "      <td>NaN</td>\n",
       "      <td>NaN</td>\n",
       "      <td>NaN</td>\n",
       "      <td>NaN</td>\n",
       "      <td>NaN</td>\n",
       "      <td>NaN</td>\n",
       "      <td>NaN</td>\n",
       "      <td>NaN</td>\n",
       "      <td>NaN</td>\n",
       "      <td>NaN</td>\n",
       "      <td>NaN</td>\n",
       "      <td>NaN</td>\n",
       "      <td>NaN</td>\n",
       "      <td>NaN</td>\n",
       "      <td>NaN</td>\n",
       "      <td>NaN</td>\n",
       "      <td>NaN</td>\n",
       "      <td>NaN</td>\n",
       "      <td>NaN</td>\n",
       "      <td>NaN</td>\n",
       "      <td>NaN</td>\n",
       "      <td>NaN</td>\n",
       "      <td>NaN</td>\n",
       "      <td>NaN</td>\n",
       "      <td>NaN</td>\n",
       "      <td>NaN</td>\n",
       "      <td>NaN</td>\n",
       "      <td>NaN</td>\n",
       "      <td>NaN</td>\n",
       "      <td>NaN</td>\n",
       "      <td>NaN</td>\n",
       "    </tr>\n",
       "    <tr>\n",
       "      <th>39716</th>\n",
       "      <td>87023</td>\n",
       "      <td>86999</td>\n",
       "      <td>7500</td>\n",
       "      <td>7500</td>\n",
       "      <td>800.0</td>\n",
       "      <td>36 months</td>\n",
       "      <td>13.75%</td>\n",
       "      <td>255.43</td>\n",
       "      <td>E</td>\n",
       "      <td>E2</td>\n",
       "      <td>Evergreen Center</td>\n",
       "      <td>&lt; 1 year</td>\n",
       "      <td>OWN</td>\n",
       "      <td>22000.0</td>\n",
       "      <td>Not Verified</td>\n",
       "      <td>Jun-07</td>\n",
       "      <td>Fully Paid</td>\n",
       "      <td>n</td>\n",
       "      <td>https://lendingclub.com/browse/loanDetail.acti...</td>\n",
       "      <td>I plan to consolidate over $7,000 of debt: a c...</td>\n",
       "      <td>debt_consolidation</td>\n",
       "      <td>Consolidation Loan</td>\n",
       "      <td>027xx</td>\n",
       "      <td>MA</td>\n",
       "      <td>14.29</td>\n",
       "      <td>1</td>\n",
       "      <td>Oct-03</td>\n",
       "      <td>0</td>\n",
       "      <td>11.0</td>\n",
       "      <td>0.0</td>\n",
       "      <td>7</td>\n",
       "      <td>0</td>\n",
       "      <td>4175</td>\n",
       "      <td>51.50%</td>\n",
       "      <td>8</td>\n",
       "      <td>f</td>\n",
       "      <td>0.0</td>\n",
       "      <td>0.0</td>\n",
       "      <td>9195.263334</td>\n",
       "      <td>980.83</td>\n",
       "      <td>7500.0</td>\n",
       "      <td>1695.26</td>\n",
       "      <td>0.0</td>\n",
       "      <td>0.0</td>\n",
       "      <td>0.0</td>\n",
       "      <td>Jun-10</td>\n",
       "      <td>256.59</td>\n",
       "      <td>NaN</td>\n",
       "      <td>Jun-10</td>\n",
       "      <td>NaN</td>\n",
       "      <td>NaN</td>\n",
       "      <td>1</td>\n",
       "      <td>INDIVIDUAL</td>\n",
       "      <td>NaN</td>\n",
       "      <td>NaN</td>\n",
       "      <td>NaN</td>\n",
       "      <td>0</td>\n",
       "      <td>NaN</td>\n",
       "      <td>NaN</td>\n",
       "      <td>NaN</td>\n",
       "      <td>NaN</td>\n",
       "      <td>NaN</td>\n",
       "      <td>NaN</td>\n",
       "      <td>NaN</td>\n",
       "      <td>NaN</td>\n",
       "      <td>NaN</td>\n",
       "      <td>NaN</td>\n",
       "      <td>NaN</td>\n",
       "      <td>NaN</td>\n",
       "      <td>NaN</td>\n",
       "      <td>NaN</td>\n",
       "      <td>NaN</td>\n",
       "      <td>NaN</td>\n",
       "      <td>NaN</td>\n",
       "      <td>NaN</td>\n",
       "      <td>NaN</td>\n",
       "      <td>NaN</td>\n",
       "      <td>NaN</td>\n",
       "      <td>NaN</td>\n",
       "      <td>0</td>\n",
       "      <td>NaN</td>\n",
       "      <td>NaN</td>\n",
       "      <td>NaN</td>\n",
       "      <td>NaN</td>\n",
       "      <td>NaN</td>\n",
       "      <td>NaN</td>\n",
       "      <td>NaN</td>\n",
       "      <td>NaN</td>\n",
       "      <td>NaN</td>\n",
       "      <td>NaN</td>\n",
       "      <td>NaN</td>\n",
       "      <td>NaN</td>\n",
       "      <td>NaN</td>\n",
       "      <td>NaN</td>\n",
       "      <td>NaN</td>\n",
       "      <td>NaN</td>\n",
       "      <td>NaN</td>\n",
       "      <td>NaN</td>\n",
       "      <td>NaN</td>\n",
       "      <td>NaN</td>\n",
       "      <td>NaN</td>\n",
       "      <td>NaN</td>\n",
       "      <td>NaN</td>\n",
       "      <td>NaN</td>\n",
       "      <td>NaN</td>\n",
       "      <td>NaN</td>\n",
       "      <td>NaN</td>\n",
       "      <td>NaN</td>\n",
       "      <td>NaN</td>\n",
       "      <td>NaN</td>\n",
       "      <td>NaN</td>\n",
       "    </tr>\n",
       "  </tbody>\n",
       "</table>\n",
       "</div>"
      ],
      "text/plain": [
       "          id  member_id  loan_amnt  funded_amnt  funded_amnt_inv        term  \\\n",
       "39712  92187      92174       2500         2500           1075.0   36 months   \n",
       "39713  90665      90607       8500         8500            875.0   36 months   \n",
       "39714  90395      90390       5000         5000           1325.0   36 months   \n",
       "39715  90376      89243       5000         5000            650.0   36 months   \n",
       "39716  87023      86999       7500         7500            800.0   36 months   \n",
       "\n",
       "      int_rate  installment grade sub_grade                   emp_title  \\\n",
       "39712    8.07%        78.42     A        A4             FiSite Research   \n",
       "39713   10.28%       275.38     C        C1  Squarewave Solutions, Ltd.   \n",
       "39714    8.07%       156.84     A        A4                         NaN   \n",
       "39715    7.43%       155.38     A        A2                         NaN   \n",
       "39716   13.75%       255.43     E        E2            Evergreen Center   \n",
       "\n",
       "      emp_length home_ownership  annual_inc verification_status issue_d  \\\n",
       "39712    4 years       MORTGAGE    110000.0        Not Verified  Jul-07   \n",
       "39713    3 years           RENT     18000.0        Not Verified  Jul-07   \n",
       "39714   < 1 year       MORTGAGE    100000.0        Not Verified  Jul-07   \n",
       "39715   < 1 year       MORTGAGE    200000.0        Not Verified  Jul-07   \n",
       "39716   < 1 year            OWN     22000.0        Not Verified  Jun-07   \n",
       "\n",
       "      loan_status pymnt_plan  \\\n",
       "39712  Fully Paid          n   \n",
       "39713  Fully Paid          n   \n",
       "39714  Fully Paid          n   \n",
       "39715  Fully Paid          n   \n",
       "39716  Fully Paid          n   \n",
       "\n",
       "                                                     url  \\\n",
       "39712  https://lendingclub.com/browse/loanDetail.acti...   \n",
       "39713  https://lendingclub.com/browse/loanDetail.acti...   \n",
       "39714  https://lendingclub.com/browse/loanDetail.acti...   \n",
       "39715  https://lendingclub.com/browse/loanDetail.acti...   \n",
       "39716  https://lendingclub.com/browse/loanDetail.acti...   \n",
       "\n",
       "                                                    desc             purpose  \\\n",
       "39712  Our current gutter system on our home is old a...    home_improvement   \n",
       "39713  The rate of interest and fees incurred by carr...         credit_card   \n",
       "39714                                                NaN  debt_consolidation   \n",
       "39715                                                NaN               other   \n",
       "39716  I plan to consolidate over $7,000 of debt: a c...  debt_consolidation   \n",
       "\n",
       "                           title zip_code addr_state    dti  delinq_2yrs  \\\n",
       "39712           Home Improvement    802xx         CO  11.33            0   \n",
       "39713  Retiring credit card debt    274xx         NC   6.40            1   \n",
       "39714     MBA Loan Consolidation    017xx         MA   2.30            0   \n",
       "39715                   JAL Loan    208xx         MD   3.72            0   \n",
       "39716         Consolidation Loan    027xx         MA  14.29            1   \n",
       "\n",
       "      earliest_cr_line  inq_last_6mths  mths_since_last_delinq  \\\n",
       "39712           Nov-90               0                     0.0   \n",
       "39713           Dec-86               1                     5.0   \n",
       "39714           Oct-98               0                     0.0   \n",
       "39715           Nov-88               0                     0.0   \n",
       "39716           Oct-03               0                    11.0   \n",
       "\n",
       "       mths_since_last_record  open_acc  pub_rec  revol_bal revol_util  \\\n",
       "39712                     0.0        13        0       7274     13.10%   \n",
       "39713                     0.0         6        0       8847     26.90%   \n",
       "39714                     0.0        11        0       9698     19.40%   \n",
       "39715                     0.0        17        0      85607      0.70%   \n",
       "39716                     0.0         7        0       4175     51.50%   \n",
       "\n",
       "       total_acc initial_list_status  out_prncp  out_prncp_inv  total_pymnt  \\\n",
       "39712         40                   f        0.0            0.0  2822.969293   \n",
       "39713          9                   f        0.0            0.0  9913.491822   \n",
       "39714         20                   f        0.0            0.0  5272.161128   \n",
       "39715         26                   f        0.0            0.0  5174.198551   \n",
       "39716          8                   f        0.0            0.0  9195.263334   \n",
       "\n",
       "       total_pymnt_inv  total_rec_prncp  total_rec_int  total_rec_late_fee  \\\n",
       "39712          1213.88           2500.0         322.97                 0.0   \n",
       "39713          1020.51           8500.0        1413.49                 0.0   \n",
       "39714          1397.12           5000.0         272.16                 0.0   \n",
       "39715           672.66           5000.0         174.20                 0.0   \n",
       "39716           980.83           7500.0        1695.26                 0.0   \n",
       "\n",
       "       recoveries  collection_recovery_fee last_pymnt_d  last_pymnt_amnt  \\\n",
       "39712         0.0                      0.0       Jul-10            80.90   \n",
       "39713         0.0                      0.0       Jul-10           281.94   \n",
       "39714         0.0                      0.0       Apr-08             0.00   \n",
       "39715         0.0                      0.0       Jan-08             0.00   \n",
       "39716         0.0                      0.0       Jun-10           256.59   \n",
       "\n",
       "      next_pymnt_d last_credit_pull_d  collections_12_mths_ex_med  \\\n",
       "39712          NaN             Jun-10                         NaN   \n",
       "39713          NaN             Jul-10                         NaN   \n",
       "39714          NaN             Jun-07                         NaN   \n",
       "39715          NaN             Jun-07                         NaN   \n",
       "39716          NaN             Jun-10                         NaN   \n",
       "\n",
       "       mths_since_last_major_derog  policy_code application_type  \\\n",
       "39712                          NaN            1       INDIVIDUAL   \n",
       "39713                          NaN            1       INDIVIDUAL   \n",
       "39714                          NaN            1       INDIVIDUAL   \n",
       "39715                          NaN            1       INDIVIDUAL   \n",
       "39716                          NaN            1       INDIVIDUAL   \n",
       "\n",
       "       annual_inc_joint  dti_joint  verification_status_joint  acc_now_delinq  \\\n",
       "39712               NaN        NaN                        NaN               0   \n",
       "39713               NaN        NaN                        NaN               0   \n",
       "39714               NaN        NaN                        NaN               0   \n",
       "39715               NaN        NaN                        NaN               0   \n",
       "39716               NaN        NaN                        NaN               0   \n",
       "\n",
       "       tot_coll_amt  tot_cur_bal  open_acc_6m  open_il_6m  open_il_12m  \\\n",
       "39712           NaN          NaN          NaN         NaN          NaN   \n",
       "39713           NaN          NaN          NaN         NaN          NaN   \n",
       "39714           NaN          NaN          NaN         NaN          NaN   \n",
       "39715           NaN          NaN          NaN         NaN          NaN   \n",
       "39716           NaN          NaN          NaN         NaN          NaN   \n",
       "\n",
       "       open_il_24m  mths_since_rcnt_il  total_bal_il  il_util  open_rv_12m  \\\n",
       "39712          NaN                 NaN           NaN      NaN          NaN   \n",
       "39713          NaN                 NaN           NaN      NaN          NaN   \n",
       "39714          NaN                 NaN           NaN      NaN          NaN   \n",
       "39715          NaN                 NaN           NaN      NaN          NaN   \n",
       "39716          NaN                 NaN           NaN      NaN          NaN   \n",
       "\n",
       "       open_rv_24m  max_bal_bc  all_util  total_rev_hi_lim  inq_fi  \\\n",
       "39712          NaN         NaN       NaN               NaN     NaN   \n",
       "39713          NaN         NaN       NaN               NaN     NaN   \n",
       "39714          NaN         NaN       NaN               NaN     NaN   \n",
       "39715          NaN         NaN       NaN               NaN     NaN   \n",
       "39716          NaN         NaN       NaN               NaN     NaN   \n",
       "\n",
       "       total_cu_tl  inq_last_12m  acc_open_past_24mths  avg_cur_bal  \\\n",
       "39712          NaN           NaN                   NaN          NaN   \n",
       "39713          NaN           NaN                   NaN          NaN   \n",
       "39714          NaN           NaN                   NaN          NaN   \n",
       "39715          NaN           NaN                   NaN          NaN   \n",
       "39716          NaN           NaN                   NaN          NaN   \n",
       "\n",
       "       bc_open_to_buy  bc_util  chargeoff_within_12_mths  delinq_amnt  \\\n",
       "39712             NaN      NaN                       NaN            0   \n",
       "39713             NaN      NaN                       NaN            0   \n",
       "39714             NaN      NaN                       NaN            0   \n",
       "39715             NaN      NaN                       NaN            0   \n",
       "39716             NaN      NaN                       NaN            0   \n",
       "\n",
       "       mo_sin_old_il_acct  mo_sin_old_rev_tl_op  mo_sin_rcnt_rev_tl_op  \\\n",
       "39712                 NaN                   NaN                    NaN   \n",
       "39713                 NaN                   NaN                    NaN   \n",
       "39714                 NaN                   NaN                    NaN   \n",
       "39715                 NaN                   NaN                    NaN   \n",
       "39716                 NaN                   NaN                    NaN   \n",
       "\n",
       "       mo_sin_rcnt_tl  mort_acc  mths_since_recent_bc  \\\n",
       "39712             NaN       NaN                   NaN   \n",
       "39713             NaN       NaN                   NaN   \n",
       "39714             NaN       NaN                   NaN   \n",
       "39715             NaN       NaN                   NaN   \n",
       "39716             NaN       NaN                   NaN   \n",
       "\n",
       "       mths_since_recent_bc_dlq  mths_since_recent_inq  \\\n",
       "39712                       NaN                    NaN   \n",
       "39713                       NaN                    NaN   \n",
       "39714                       NaN                    NaN   \n",
       "39715                       NaN                    NaN   \n",
       "39716                       NaN                    NaN   \n",
       "\n",
       "       mths_since_recent_revol_delinq  num_accts_ever_120_pd  num_actv_bc_tl  \\\n",
       "39712                             NaN                    NaN             NaN   \n",
       "39713                             NaN                    NaN             NaN   \n",
       "39714                             NaN                    NaN             NaN   \n",
       "39715                             NaN                    NaN             NaN   \n",
       "39716                             NaN                    NaN             NaN   \n",
       "\n",
       "       num_actv_rev_tl  num_bc_sats  num_bc_tl  num_il_tl  num_op_rev_tl  \\\n",
       "39712              NaN          NaN        NaN        NaN            NaN   \n",
       "39713              NaN          NaN        NaN        NaN            NaN   \n",
       "39714              NaN          NaN        NaN        NaN            NaN   \n",
       "39715              NaN          NaN        NaN        NaN            NaN   \n",
       "39716              NaN          NaN        NaN        NaN            NaN   \n",
       "\n",
       "       num_rev_accts  num_rev_tl_bal_gt_0  num_sats  num_tl_120dpd_2m  \\\n",
       "39712            NaN                  NaN       NaN               NaN   \n",
       "39713            NaN                  NaN       NaN               NaN   \n",
       "39714            NaN                  NaN       NaN               NaN   \n",
       "39715            NaN                  NaN       NaN               NaN   \n",
       "39716            NaN                  NaN       NaN               NaN   \n",
       "\n",
       "       num_tl_30dpd  num_tl_90g_dpd_24m  num_tl_op_past_12m  pct_tl_nvr_dlq  \\\n",
       "39712           NaN                 NaN                 NaN             NaN   \n",
       "39713           NaN                 NaN                 NaN             NaN   \n",
       "39714           NaN                 NaN                 NaN             NaN   \n",
       "39715           NaN                 NaN                 NaN             NaN   \n",
       "39716           NaN                 NaN                 NaN             NaN   \n",
       "\n",
       "       percent_bc_gt_75  pub_rec_bankruptcies  tax_liens  tot_hi_cred_lim  \\\n",
       "39712               NaN                   NaN        NaN              NaN   \n",
       "39713               NaN                   NaN        NaN              NaN   \n",
       "39714               NaN                   NaN        NaN              NaN   \n",
       "39715               NaN                   NaN        NaN              NaN   \n",
       "39716               NaN                   NaN        NaN              NaN   \n",
       "\n",
       "       total_bal_ex_mort  total_bc_limit  total_il_high_credit_limit  \n",
       "39712                NaN             NaN                         NaN  \n",
       "39713                NaN             NaN                         NaN  \n",
       "39714                NaN             NaN                         NaN  \n",
       "39715                NaN             NaN                         NaN  \n",
       "39716                NaN             NaN                         NaN  "
      ]
     },
     "execution_count": 4,
     "metadata": {},
     "output_type": "execute_result"
    }
   ],
   "source": [
    "# Display the last 5 rows \n",
    "loan_df.tail()"
   ]
  },
  {
   "cell_type": "markdown",
   "metadata": {},
   "source": [
    "### 1: Data Cleaning"
   ]
  },
  {
   "cell_type": "markdown",
   "metadata": {},
   "source": [
    "#### 1.1 Missing values analysis"
   ]
  },
  {
   "cell_type": "code",
   "execution_count": 5,
   "metadata": {},
   "outputs": [
    {
     "name": "stdout",
     "output_type": "stream",
     "text": [
      "id                              int64\n",
      "member_id                       int64\n",
      "loan_amnt                       int64\n",
      "funded_amnt                     int64\n",
      "funded_amnt_inv               float64\n",
      "                               ...   \n",
      "tax_liens                     float64\n",
      "tot_hi_cred_lim               float64\n",
      "total_bal_ex_mort             float64\n",
      "total_bc_limit                float64\n",
      "total_il_high_credit_limit    float64\n",
      "Length: 111, dtype: object\n",
      "\n",
      "id                            39717\n",
      "member_id                     39717\n",
      "loan_amnt                     39717\n",
      "funded_amnt                   39717\n",
      "funded_amnt_inv               39717\n",
      "                              ...  \n",
      "tax_liens                     39678\n",
      "tot_hi_cred_lim                   0\n",
      "total_bal_ex_mort                 0\n",
      "total_bc_limit                    0\n",
      "total_il_high_credit_limit        0\n",
      "Length: 111, dtype: int64\n"
     ]
    }
   ],
   "source": [
    "print(loan_df.dtypes)\n",
    "print()\n",
    "print(loan_df.count())"
   ]
  },
  {
   "cell_type": "code",
   "execution_count": 6,
   "metadata": {},
   "outputs": [
    {
     "data": {
      "text/plain": [
       "id                                0\n",
       "member_id                         0\n",
       "loan_amnt                         0\n",
       "funded_amnt                       0\n",
       "funded_amnt_inv                   0\n",
       "                              ...  \n",
       "tax_liens                        39\n",
       "tot_hi_cred_lim               39717\n",
       "total_bal_ex_mort             39717\n",
       "total_bc_limit                39717\n",
       "total_il_high_credit_limit    39717\n",
       "Length: 111, dtype: int64"
      ]
     },
     "execution_count": 6,
     "metadata": {},
     "output_type": "execute_result"
    }
   ],
   "source": [
    "# summing up the missing values (column-wise)\n",
    "loan_df.isnull().sum()"
   ]
  },
  {
   "cell_type": "code",
   "execution_count": 7,
   "metadata": {},
   "outputs": [
    {
     "data": {
      "text/plain": [
       "0        58\n",
       "1        57\n",
       "2        59\n",
       "3        56\n",
       "4        55\n",
       "         ..\n",
       "39712    59\n",
       "39713    59\n",
       "39714    61\n",
       "39715    61\n",
       "39716    59\n",
       "Length: 39717, dtype: int64"
      ]
     },
     "execution_count": 7,
     "metadata": {},
     "output_type": "execute_result"
    }
   ],
   "source": [
    "# summing up the missing values (row-wise)\n",
    "loan_df.isnull().sum(axis=1)"
   ]
  },
  {
   "cell_type": "code",
   "execution_count": 8,
   "metadata": {},
   "outputs": [
    {
     "data": {
      "text/plain": [
       "0"
      ]
     },
     "execution_count": 8,
     "metadata": {},
     "output_type": "execute_result"
    }
   ],
   "source": [
    "# Check whether any row having all missing values\n",
    "loan_df.isnull().all(axis=1).sum()"
   ]
  },
  {
   "cell_type": "code",
   "execution_count": 9,
   "metadata": {},
   "outputs": [
    {
     "data": {
      "text/plain": [
       "id                              0.0\n",
       "member_id                       0.0\n",
       "loan_amnt                       0.0\n",
       "funded_amnt                     0.0\n",
       "funded_amnt_inv                 0.0\n",
       "                              ...  \n",
       "tax_liens                       0.1\n",
       "tot_hi_cred_lim               100.0\n",
       "total_bal_ex_mort             100.0\n",
       "total_bc_limit                100.0\n",
       "total_il_high_credit_limit    100.0\n",
       "Length: 111, dtype: float64"
      ]
     },
     "execution_count": 9,
     "metadata": {},
     "output_type": "execute_result"
    }
   ],
   "source": [
    "# Checking the percentage of missing columns in the dataset\n",
    "round(100 * (loan_df.isnull().sum() / len(loan_df.index)), 2)"
   ]
  },
  {
   "cell_type": "markdown",
   "metadata": {},
   "source": [
    "Here we can see that certain number of columns has got a large percentage of null values. So we are removing columns which contains null value percentage of 60 and more."
   ]
  },
  {
   "cell_type": "code",
   "execution_count": 10,
   "metadata": {},
   "outputs": [],
   "source": [
    "# Find all the columns which contains more than or equal to 60% as null values\n",
    "missing_columns = loan_df.columns[round(100 * (loan_df.isnull().sum() / len(loan_df.index)), 2) > 60]"
   ]
  },
  {
   "cell_type": "code",
   "execution_count": 11,
   "metadata": {},
   "outputs": [
    {
     "data": {
      "text/plain": [
       "(39717, 54)"
      ]
     },
     "execution_count": 11,
     "metadata": {},
     "output_type": "execute_result"
    }
   ],
   "source": [
    "# Drop all those columns having large null values as column values\n",
    "loan_df = loan_df.drop(missing_columns, axis=1)\n",
    "loan_df.shape"
   ]
  },
  {
   "cell_type": "code",
   "execution_count": 12,
   "metadata": {},
   "outputs": [
    {
     "data": {
      "text/plain": [
       "id                             0.00\n",
       "member_id                      0.00\n",
       "loan_amnt                      0.00\n",
       "funded_amnt                    0.00\n",
       "funded_amnt_inv                0.00\n",
       "term                           0.00\n",
       "int_rate                       0.00\n",
       "installment                    0.00\n",
       "grade                          0.00\n",
       "sub_grade                      0.00\n",
       "emp_title                      6.19\n",
       "emp_length                     2.71\n",
       "home_ownership                 0.00\n",
       "annual_inc                     0.00\n",
       "verification_status            0.00\n",
       "issue_d                        0.00\n",
       "loan_status                    0.00\n",
       "pymnt_plan                     0.00\n",
       "url                            0.00\n",
       "desc                          32.58\n",
       "purpose                        0.00\n",
       "title                          0.03\n",
       "zip_code                       0.00\n",
       "addr_state                     0.00\n",
       "dti                            0.00\n",
       "delinq_2yrs                    0.00\n",
       "earliest_cr_line               0.00\n",
       "inq_last_6mths                 0.00\n",
       "open_acc                       0.00\n",
       "pub_rec                        0.00\n",
       "revol_bal                      0.00\n",
       "revol_util                     0.13\n",
       "total_acc                      0.00\n",
       "initial_list_status            0.00\n",
       "out_prncp                      0.00\n",
       "out_prncp_inv                  0.00\n",
       "total_pymnt                    0.00\n",
       "total_pymnt_inv                0.00\n",
       "total_rec_prncp                0.00\n",
       "total_rec_int                  0.00\n",
       "total_rec_late_fee             0.00\n",
       "recoveries                     0.00\n",
       "collection_recovery_fee        0.00\n",
       "last_pymnt_d                   0.18\n",
       "last_pymnt_amnt                0.00\n",
       "last_credit_pull_d             0.01\n",
       "collections_12_mths_ex_med     0.14\n",
       "policy_code                    0.00\n",
       "application_type               0.00\n",
       "acc_now_delinq                 0.00\n",
       "chargeoff_within_12_mths       0.14\n",
       "delinq_amnt                    0.00\n",
       "pub_rec_bankruptcies           1.75\n",
       "tax_liens                      0.10\n",
       "dtype: float64"
      ]
     },
     "execution_count": 12,
     "metadata": {},
     "output_type": "execute_result"
    }
   ],
   "source": [
    "# Re-checking the percentage of missing columns in the dataset to confirm the drop\n",
    "round(100 * (loan_df.isnull().sum() / len(loan_df.index)), 2)"
   ]
  },
  {
   "cell_type": "markdown",
   "metadata": {},
   "source": [
    "#### 1.2 Features(Columns) Analysis:\n",
    "\n",
    "The company wants to understand the driving factors (or driver variables) behind loan default, i.e. the variables which are strong indicators of default\n",
    "\n",
    "We can eliminate the features which are not predictors of default at the time of loan application, randomly generated columns and also few redundant columns.\n",
    "\n",
    "1. id — randomly generated field for unique identification purposes only.\n",
    "2. member_id — randomly generated field for identification purposes only.\n",
    "3. int_rate — This is redundant column as grade column conveys same information.(Grading will be given based on the interest rate)\n",
    "4. emp_title — requires other data and a lot of processing to become potentially useful\n",
    "5. zip_code – Redundant with the addr_state column, also only the first 3 digits of the 5 digit zip code are visible\n",
    "6. addr_state - may not depend on location as its in financial domain\n",
    "7. desc - it contains loan description provided by the borrower and it won't be useful for analysis\n",
    "8. url - it contains a link which can only be accessed with an investor account\n",
    "9. last_credit_pull_d - Irrelevant for approval\n",
    "10. Columns with values generated after loan is approved:\n",
    "    1. total_rec_int\n",
    "    2. total_rec_late_fee\n",
    "    3. recoveries\n",
    "    4. collection_recovery_fee\n",
    "    5. last_pymnt_d\n",
    "    6. last_pymnt_amnt\n",
    "    7. total_rec_prncp\n",
    "    8. total_pymnt_inv\n",
    "    9. total_pymnt\n",
    "    10. out_prncp_inv\n",
    "    11. out_prncp\n",
    "    12. funded_amnt_inv\n",
    "    13. funded_amnt\n",
    "    14. issue_d\n",
    "    15. revol_bal"
   ]
  },
  {
   "cell_type": "code",
   "execution_count": 13,
   "metadata": {},
   "outputs": [
    {
     "data": {
      "text/plain": [
       "['id',\n",
       " 'member_id',\n",
       " 'int_rate',\n",
       " 'emp_title',\n",
       " 'zip_code',\n",
       " 'desc',\n",
       " 'total_rec_int',\n",
       " 'total_rec_late_fee',\n",
       " 'recoveries',\n",
       " 'collection_recovery_fee',\n",
       " 'last_pymnt_d',\n",
       " 'last_pymnt_amnt',\n",
       " 'total_rec_prncp',\n",
       " 'total_pymnt_inv',\n",
       " 'total_pymnt',\n",
       " 'out_prncp_inv',\n",
       " 'out_prncp',\n",
       " 'funded_amnt_inv',\n",
       " 'funded_amnt',\n",
       " 'issue_d',\n",
       " 'url',\n",
       " 'addr_state',\n",
       " 'last_credit_pull_d',\n",
       " 'revol_bal']"
      ]
     },
     "execution_count": 13,
     "metadata": {},
     "output_type": "execute_result"
    }
   ],
   "source": [
    "DelColumns = ['id','member_id','int_rate','emp_title','zip_code','desc','total_rec_int','total_rec_late_fee','recoveries',\n",
    "              'collection_recovery_fee','last_pymnt_d','last_pymnt_amnt','total_rec_prncp','total_pymnt_inv','total_pymnt',\n",
    "              'out_prncp_inv','out_prncp','funded_amnt_inv','funded_amnt','issue_d','url','addr_state','last_credit_pull_d','revol_bal']\n",
    "DelColumns"
   ]
  },
  {
   "cell_type": "code",
   "execution_count": 14,
   "metadata": {},
   "outputs": [],
   "source": [
    "# let's now remove the behaviour variables from analysis\n",
    "loan_df = loan_df.drop(DelColumns, axis=1)"
   ]
  },
  {
   "cell_type": "code",
   "execution_count": 15,
   "metadata": {},
   "outputs": [
    {
     "data": {
      "text/plain": [
       "loan_amnt                     0.00\n",
       "term                          0.00\n",
       "installment                   0.00\n",
       "grade                         0.00\n",
       "sub_grade                     0.00\n",
       "emp_length                    2.71\n",
       "home_ownership                0.00\n",
       "annual_inc                    0.00\n",
       "verification_status           0.00\n",
       "loan_status                   0.00\n",
       "pymnt_plan                    0.00\n",
       "purpose                       0.00\n",
       "title                         0.03\n",
       "dti                           0.00\n",
       "delinq_2yrs                   0.00\n",
       "earliest_cr_line              0.00\n",
       "inq_last_6mths                0.00\n",
       "open_acc                      0.00\n",
       "pub_rec                       0.00\n",
       "revol_util                    0.13\n",
       "total_acc                     0.00\n",
       "initial_list_status           0.00\n",
       "collections_12_mths_ex_med    0.14\n",
       "policy_code                   0.00\n",
       "application_type              0.00\n",
       "acc_now_delinq                0.00\n",
       "chargeoff_within_12_mths      0.14\n",
       "delinq_amnt                   0.00\n",
       "pub_rec_bankruptcies          1.75\n",
       "tax_liens                     0.10\n",
       "dtype: float64"
      ]
     },
     "execution_count": 15,
     "metadata": {},
     "output_type": "execute_result"
    }
   ],
   "source": [
    "round(100 * (loan_df.isnull().sum() / len(loan_df.index)), 2)"
   ]
  },
  {
   "cell_type": "code",
   "execution_count": 16,
   "metadata": {},
   "outputs": [
    {
     "data": {
      "text/plain": [
       "Debt Consolidation                       2184\n",
       "Debt Consolidation Loan                  1729\n",
       "Personal Loan                             659\n",
       "Consolidation                             517\n",
       "debt consolidation                        505\n",
       "                                         ... \n",
       "Final Credit Card Payoff                    1\n",
       "Consolidate debt single fixed payment       1\n",
       "need rehab money                            1\n",
       "Investment into the future                  1\n",
       "Just Say No to Credit Cards                 1\n",
       "Name: title, Length: 19615, dtype: int64"
      ]
     },
     "execution_count": 16,
     "metadata": {},
     "output_type": "execute_result"
    }
   ],
   "source": [
    "# Unique value and its count for title\n",
    "loan_df.title.value_counts()"
   ]
  },
  {
   "cell_type": "code",
   "execution_count": 17,
   "metadata": {},
   "outputs": [
    {
     "data": {
      "text/plain": [
       "debt_consolidation    18641\n",
       "credit_card            5130\n",
       "other                  3993\n",
       "home_improvement       2976\n",
       "major_purchase         2187\n",
       "small_business         1828\n",
       "car                    1549\n",
       "wedding                 947\n",
       "medical                 693\n",
       "moving                  583\n",
       "house                   381\n",
       "vacation                381\n",
       "educational             325\n",
       "renewable_energy        103\n",
       "Name: purpose, dtype: int64"
      ]
     },
     "execution_count": 17,
     "metadata": {},
     "output_type": "execute_result"
    }
   ],
   "source": [
    "# Unique value and its count for title\n",
    "loan_df.purpose.value_counts()"
   ]
  },
  {
   "cell_type": "markdown",
   "metadata": {},
   "source": [
    "Column ```title``` column has 19615 unique values describing the loan by the borrower, this column is derived from ```purpose``` column which has 14 unique values. We can choose to drop ```title``` columns as we can use purpose column for our analysis."
   ]
  },
  {
   "cell_type": "code",
   "execution_count": 18,
   "metadata": {},
   "outputs": [],
   "source": [
    "loan_df = loan_df.drop([\"title\"], axis=1)"
   ]
  },
  {
   "cell_type": "markdown",
   "metadata": {},
   "source": [
    "Columns ```emp_length``` and ```emp_title``` are required for analysis and the percentage of missing values are also very less, ```2.71%``` and ```6.19%``` respectively. So we continue to keep the columns and remove null values"
   ]
  },
  {
   "cell_type": "code",
   "execution_count": 19,
   "metadata": {},
   "outputs": [
    {
     "data": {
      "text/plain": [
       "0.0    37339\n",
       "1.0     1674\n",
       "NaN      697\n",
       "2.0        7\n",
       "Name: pub_rec_bankruptcies, dtype: int64"
      ]
     },
     "execution_count": 19,
     "metadata": {},
     "output_type": "execute_result"
    }
   ],
   "source": [
    "# Unique value and its count for pub_rec_bankruptcies\n",
    "loan_df.pub_rec_bankruptcies.value_counts(dropna=False)"
   ]
  },
  {
   "cell_type": "code",
   "execution_count": 20,
   "metadata": {},
   "outputs": [
    {
     "data": {
      "text/plain": [
       "0%        977\n",
       "0.20%      63\n",
       "63%        62\n",
       "40.70%     58\n",
       "0.10%      58\n",
       "         ... \n",
       "49.63%      1\n",
       "18.82%      1\n",
       "32.04%      1\n",
       "29.53%      1\n",
       "8.01%       1\n",
       "Name: revol_util, Length: 1090, dtype: int64"
      ]
     },
     "execution_count": 20,
     "metadata": {},
     "output_type": "execute_result"
    }
   ],
   "source": [
    "# Unique value and its count for revol_util\n",
    "loan_df.revol_util.value_counts(dropna=False)"
   ]
  },
  {
   "cell_type": "code",
   "execution_count": 21,
   "metadata": {},
   "outputs": [
    {
     "data": {
      "text/plain": [
       "0.0    39661\n",
       "NaN       56\n",
       "Name: collections_12_mths_ex_med, dtype: int64"
      ]
     },
     "execution_count": 21,
     "metadata": {},
     "output_type": "execute_result"
    }
   ],
   "source": [
    "# Unique value and its count for collections_12_mths_ex_med\n",
    "loan_df.collections_12_mths_ex_med.value_counts(dropna=False)"
   ]
  },
  {
   "cell_type": "code",
   "execution_count": 22,
   "metadata": {},
   "outputs": [
    {
     "data": {
      "text/plain": [
       "0.0    39661\n",
       "NaN       56\n",
       "Name: chargeoff_within_12_mths, dtype: int64"
      ]
     },
     "execution_count": 22,
     "metadata": {},
     "output_type": "execute_result"
    }
   ],
   "source": [
    "# Unique value and its count for chargeoff_within_12_mths\n",
    "loan_df.chargeoff_within_12_mths.value_counts(dropna=False)"
   ]
  },
  {
   "cell_type": "code",
   "execution_count": 23,
   "metadata": {},
   "outputs": [
    {
     "data": {
      "text/plain": [
       "0.0    39678\n",
       "NaN       39\n",
       "Name: tax_liens, dtype: int64"
      ]
     },
     "execution_count": 23,
     "metadata": {},
     "output_type": "execute_result"
    }
   ],
   "source": [
    "# Unique value and its count for tax_liens\n",
    "loan_df.tax_liens.value_counts(dropna=False)"
   ]
  },
  {
   "cell_type": "markdown",
   "metadata": {},
   "source": [
    "For columns, ```tax_liens```, ```chargeoff_within_12_mths```, ```collections_12_mths_ex_med```, it contains only one unique value and it won't help us in the analysis."
   ]
  },
  {
   "cell_type": "code",
   "execution_count": 24,
   "metadata": {},
   "outputs": [],
   "source": [
    "# Removing columns tax_liens, chargeoff_within_12_mths, collections_12_mths_ex_med \n",
    "loan_df = loan_df.drop([\"tax_liens\", \"chargeoff_within_12_mths\", \"collections_12_mths_ex_med\"], axis=1)"
   ]
  },
  {
   "cell_type": "markdown",
   "metadata": {},
   "source": [
    "For columns, ```pub_rec_bankruptcies```, ```last_pymnt_d```, ```revol_util``` only a small amount of data contains null values, and we don't want to introduce bias into that. So we can remove those rows having null values"
   ]
  },
  {
   "cell_type": "code",
   "execution_count": 25,
   "metadata": {},
   "outputs": [],
   "source": [
    "# pub_rec_bankruptcies, last_pymnt_d - Removing null values as it contains only small amount\n",
    "loan_df  = loan_df[~loan_df.pub_rec_bankruptcies.isnull()]"
   ]
  },
  {
   "cell_type": "code",
   "execution_count": 26,
   "metadata": {},
   "outputs": [],
   "source": [
    "# Only two columns with very less null values, so we are  removing null from those columns (revol_util, title)\n",
    "loan_df  = loan_df[~loan_df.revol_util.isnull()]"
   ]
  },
  {
   "cell_type": "code",
   "execution_count": 27,
   "metadata": {},
   "outputs": [],
   "source": [
    "#Removing the rows having null values for emp_length and emp_title\n",
    "loan_df = loan_df[~loan_df.emp_length.isnull()]"
   ]
  },
  {
   "cell_type": "code",
   "execution_count": 28,
   "metadata": {},
   "outputs": [
    {
     "data": {
      "text/plain": [
       "loan_amnt               0.0\n",
       "term                    0.0\n",
       "installment             0.0\n",
       "grade                   0.0\n",
       "sub_grade               0.0\n",
       "emp_length              0.0\n",
       "home_ownership          0.0\n",
       "annual_inc              0.0\n",
       "verification_status     0.0\n",
       "loan_status             0.0\n",
       "pymnt_plan              0.0\n",
       "purpose                 0.0\n",
       "dti                     0.0\n",
       "delinq_2yrs             0.0\n",
       "earliest_cr_line        0.0\n",
       "inq_last_6mths          0.0\n",
       "open_acc                0.0\n",
       "pub_rec                 0.0\n",
       "revol_util              0.0\n",
       "total_acc               0.0\n",
       "initial_list_status     0.0\n",
       "policy_code             0.0\n",
       "application_type        0.0\n",
       "acc_now_delinq          0.0\n",
       "delinq_amnt             0.0\n",
       "pub_rec_bankruptcies    0.0\n",
       "dtype: float64"
      ]
     },
     "execution_count": 28,
     "metadata": {},
     "output_type": "execute_result"
    }
   ],
   "source": [
    "round(100 * (loan_df.isnull().sum() / len(loan_df.index)), 2)"
   ]
  },
  {
   "cell_type": "code",
   "execution_count": 29,
   "metadata": {},
   "outputs": [],
   "source": [
    "# Drop all the duplicate rows, if any\n",
    "loan_df = loan_df.drop_duplicates()"
   ]
  },
  {
   "cell_type": "code",
   "execution_count": 30,
   "metadata": {},
   "outputs": [
    {
     "data": {
      "text/plain": [
       "(37898, 26)"
      ]
     },
     "execution_count": 30,
     "metadata": {},
     "output_type": "execute_result"
    }
   ],
   "source": [
    "loan_df.shape"
   ]
  },
  {
   "cell_type": "markdown",
   "metadata": {},
   "source": [
    "We now have a dataframe which contains no missing values. We can now analyse how many rows or percentage of rows we have lost during this Data cleaning. Original master_frame dataset row count: 39717"
   ]
  },
  {
   "cell_type": "code",
   "execution_count": 31,
   "metadata": {},
   "outputs": [
    {
     "data": {
      "text/plain": [
       "95.42"
      ]
     },
     "execution_count": 31,
     "metadata": {},
     "output_type": "execute_result"
    }
   ],
   "source": [
    "# Percentage of rows that we have after cleaning the dataset for missing values\n",
    "round(100 * (len(loan_df.index) / 39717), 2)"
   ]
  },
  {
   "cell_type": "markdown",
   "metadata": {},
   "source": [
    "Thus we have lost around ```4.58%``` observations in cleaning the dataset for missing values.\n",
    "***"
   ]
  },
  {
   "cell_type": "markdown",
   "metadata": {},
   "source": [
    "#### 1.3 Fixing Rows and Columns"
   ]
  },
  {
   "cell_type": "code",
   "execution_count": 32,
   "metadata": {},
   "outputs": [
    {
     "name": "stdout",
     "output_type": "stream",
     "text": [
      "<class 'pandas.core.frame.DataFrame'>\n",
      "Int64Index: 37898 entries, 0 to 39680\n",
      "Data columns (total 26 columns):\n",
      " #   Column                Non-Null Count  Dtype  \n",
      "---  ------                --------------  -----  \n",
      " 0   loan_amnt             37898 non-null  int64  \n",
      " 1   term                  37898 non-null  object \n",
      " 2   installment           37898 non-null  float64\n",
      " 3   grade                 37898 non-null  object \n",
      " 4   sub_grade             37898 non-null  object \n",
      " 5   emp_length            37898 non-null  object \n",
      " 6   home_ownership        37898 non-null  object \n",
      " 7   annual_inc            37898 non-null  float64\n",
      " 8   verification_status   37898 non-null  object \n",
      " 9   loan_status           37898 non-null  object \n",
      " 10  pymnt_plan            37898 non-null  object \n",
      " 11  purpose               37898 non-null  object \n",
      " 12  dti                   37898 non-null  float64\n",
      " 13  delinq_2yrs           37898 non-null  int64  \n",
      " 14  earliest_cr_line      37898 non-null  object \n",
      " 15  inq_last_6mths        37898 non-null  int64  \n",
      " 16  open_acc              37898 non-null  int64  \n",
      " 17  pub_rec               37898 non-null  int64  \n",
      " 18  revol_util            37898 non-null  object \n",
      " 19  total_acc             37898 non-null  int64  \n",
      " 20  initial_list_status   37898 non-null  object \n",
      " 21  policy_code           37898 non-null  int64  \n",
      " 22  application_type      37898 non-null  object \n",
      " 23  acc_now_delinq        37898 non-null  int64  \n",
      " 24  delinq_amnt           37898 non-null  int64  \n",
      " 25  pub_rec_bankruptcies  37898 non-null  float64\n",
      "dtypes: float64(4), int64(9), object(13)\n",
      "memory usage: 7.8+ MB\n"
     ]
    }
   ],
   "source": [
    "loan_df.info()"
   ]
  },
  {
   "cell_type": "code",
   "execution_count": 33,
   "metadata": {},
   "outputs": [
    {
     "data": {
      "text/plain": [
       "0%        906\n",
       "0.20%      60\n",
       "61%        56\n",
       "63%        56\n",
       "40.70%     56\n",
       "Name: revol_util, dtype: int64"
      ]
     },
     "execution_count": 33,
     "metadata": {},
     "output_type": "execute_result"
    }
   ],
   "source": [
    "# Analyse data on revol_util as it supposed to be numeric data\n",
    "loan_df.revol_util.value_counts().head()"
   ]
  },
  {
   "cell_type": "code",
   "execution_count": 34,
   "metadata": {},
   "outputs": [],
   "source": [
    "# Removing the percentage and converting it into float\n",
    "loan_df[\"revol_util\"] = loan_df.revol_util.apply(lambda x: float(x.replace(\"%\", \"\")))"
   ]
  },
  {
   "cell_type": "code",
   "execution_count": 35,
   "metadata": {},
   "outputs": [
    {
     "data": {
      "text/plain": [
       "0.0     906\n",
       "0.2      60\n",
       "63.0     56\n",
       "61.0     56\n",
       "40.7     56\n",
       "Name: revol_util, dtype: int64"
      ]
     },
     "execution_count": 35,
     "metadata": {},
     "output_type": "execute_result"
    }
   ],
   "source": [
    "loan_df.revol_util.value_counts().head()"
   ]
  },
  {
   "cell_type": "code",
   "execution_count": 36,
   "metadata": {},
   "outputs": [
    {
     "data": {
      "text/plain": [
       "10+ years    8759\n",
       "< 1 year     4404\n",
       "2 years      4299\n",
       "3 years      4030\n",
       "4 years      3384\n",
       "5 years      3245\n",
       "1 year       3142\n",
       "6 years      2194\n",
       "7 years      1748\n",
       "8 years      1452\n",
       "9 years      1241\n",
       "Name: emp_length, dtype: int64"
      ]
     },
     "execution_count": 36,
     "metadata": {},
     "output_type": "execute_result"
    }
   ],
   "source": [
    "# Analyse emp_length as it is supposed to be numeric as per Data Dictionary.\n",
    "loan_df.emp_length.value_counts()"
   ]
  },
  {
   "cell_type": "markdown",
   "metadata": {},
   "source": [
    "According to Data dictionary, ```emp_length``` lies between 0 and 10, so converting it into a numeric format, whereas the actual data contains string representation"
   ]
  },
  {
   "cell_type": "code",
   "execution_count": 37,
   "metadata": {},
   "outputs": [],
   "source": [
    "#replacing \"<1\" with 0\n",
    "loan_df[\"emp_length\"] = loan_df.emp_length.apply(lambda x: x.replace(\"< 1\",\"0\"))"
   ]
  },
  {
   "cell_type": "code",
   "execution_count": 38,
   "metadata": {},
   "outputs": [],
   "source": [
    "# Get the numeric part of emp_length\n",
    "loan_df[\"emp_length\"] = loan_df.emp_length.apply(lambda x: int(re.findall('\\d+', str(x))[0]))"
   ]
  },
  {
   "cell_type": "code",
   "execution_count": 39,
   "metadata": {},
   "outputs": [
    {
     "data": {
      "text/plain": [
       "10    8759\n",
       "0     4404\n",
       "2     4299\n",
       "3     4030\n",
       "4     3384\n",
       "5     3245\n",
       "1     3142\n",
       "6     2194\n",
       "7     1748\n",
       "8     1452\n",
       "9     1241\n",
       "Name: emp_length, dtype: int64"
      ]
     },
     "execution_count": 39,
     "metadata": {},
     "output_type": "execute_result"
    }
   ],
   "source": [
    "# Get all value and its counts for the emp_length to confirm the cleaning\n",
    "loan_df.emp_length.value_counts()"
   ]
  },
  {
   "cell_type": "code",
   "execution_count": 40,
   "metadata": {},
   "outputs": [
    {
     "data": {
      "text/plain": [
       " 36 months    27546\n",
       " 60 months    10352\n",
       "Name: term, dtype: int64"
      ]
     },
     "execution_count": 40,
     "metadata": {},
     "output_type": "execute_result"
    }
   ],
   "source": [
    "# Analyse term as it is supposed to be numeric as per Data Dictionary and it should contains 36 or 60\n",
    "loan_df.term.value_counts()"
   ]
  },
  {
   "cell_type": "code",
   "execution_count": 41,
   "metadata": {},
   "outputs": [],
   "source": [
    "# Removing the \"months\" part\n",
    "loan_df[\"term\"] = loan_df.term.apply(lambda x: int(x.split()[0]))"
   ]
  },
  {
   "cell_type": "code",
   "execution_count": 42,
   "metadata": {},
   "outputs": [
    {
     "data": {
      "text/plain": [
       "Nov-98    360\n",
       "Oct-99    358\n",
       "Dec-98    334\n",
       "Oct-00    331\n",
       "Dec-97    311\n",
       "         ... \n",
       "Aug-67      1\n",
       "Oct-63      1\n",
       "May-67      1\n",
       "Oct-74      1\n",
       "Dec-66      1\n",
       "Name: earliest_cr_line, Length: 514, dtype: int64"
      ]
     },
     "execution_count": 42,
     "metadata": {},
     "output_type": "execute_result"
    }
   ],
   "source": [
    "# Checking the format for one of the datetime column\n",
    "loan_df.earliest_cr_line.value_counts()"
   ]
  },
  {
   "cell_type": "markdown",
   "metadata": {},
   "source": [
    "Out of all the remaining columns, there are 4 columns which represent date. So converting it into datetime object.\n",
    "- issue_d\n",
    "- earliest_cr_line\n",
    "- last_pymnt_d\n",
    "- last_pymnt_d\n"
   ]
  },
  {
   "cell_type": "code",
   "execution_count": 43,
   "metadata": {},
   "outputs": [
    {
     "data": {
      "text/plain": [
       "0        Jan-85\n",
       "1        Apr-99\n",
       "2        Nov-01\n",
       "3        Feb-96\n",
       "4        Jan-96\n",
       "          ...  \n",
       "39562    Mar-00\n",
       "39573    Feb-89\n",
       "39623    Aug-97\n",
       "39666    Nov-92\n",
       "39680    Jul-00\n",
       "Name: earliest_cr_line, Length: 37898, dtype: object"
      ]
     },
     "execution_count": 43,
     "metadata": {},
     "output_type": "execute_result"
    }
   ],
   "source": [
    "loan_df[\"earliest_cr_line\"]"
   ]
  },
  {
   "cell_type": "code",
   "execution_count": 44,
   "metadata": {},
   "outputs": [],
   "source": [
    "# Convert the columns to datetime object\n",
    "loan_df[\"earliest_cr_line\"] = loan_df[\"earliest_cr_line\"].apply(pd.to_datetime, format=\"%b-%y\")"
   ]
  },
  {
   "cell_type": "code",
   "execution_count": 45,
   "metadata": {},
   "outputs": [
    {
     "data": {
      "text/plain": [
       "0       1985-01-01\n",
       "1       1999-04-01\n",
       "2       2001-11-01\n",
       "3       1996-02-01\n",
       "4       1996-01-01\n",
       "           ...    \n",
       "39562   2000-03-01\n",
       "39573   1989-02-01\n",
       "39623   1997-08-01\n",
       "39666   1992-11-01\n",
       "39680   2000-07-01\n",
       "Name: earliest_cr_line, Length: 37898, dtype: datetime64[ns]"
      ]
     },
     "execution_count": 45,
     "metadata": {},
     "output_type": "execute_result"
    }
   ],
   "source": [
    "loan_df[\"earliest_cr_line\"]"
   ]
  },
  {
   "cell_type": "code",
   "execution_count": 46,
   "metadata": {},
   "outputs": [
    {
     "data": {
      "text/plain": [
       "count                   37898\n",
       "unique                    514\n",
       "top       1998-11-01 00:00:00\n",
       "freq                      360\n",
       "first     1969-02-01 00:00:00\n",
       "last      2068-12-01 00:00:00\n",
       "Name: earliest_cr_line, dtype: object"
      ]
     },
     "execution_count": 46,
     "metadata": {},
     "output_type": "execute_result"
    }
   ],
   "source": [
    "# Check whether the values has been converted properly or not.\n",
    "loan_df[\"earliest_cr_line\"].describe()"
   ]
  },
  {
   "cell_type": "markdown",
   "metadata": {},
   "source": [
    "It seems like the value for ```earliest_cr_line``` contains date which is greater than ***2011*** . Year stored in two digits being interpreted as year in 21st century"
   ]
  },
  {
   "cell_type": "code",
   "execution_count": 47,
   "metadata": {},
   "outputs": [
    {
     "data": {
      "text/plain": [
       "1764    2068-09-01\n",
       "3274    2067-09-01\n",
       "3349    2065-02-01\n",
       "3403    2067-06-01\n",
       "3595    2067-08-01\n",
       "4478    2063-03-01\n",
       "5092    2068-08-01\n",
       "5673    2065-05-01\n",
       "6416    2068-06-01\n",
       "7424    2065-10-01\n",
       "7460    2066-04-01\n",
       "7562    2068-09-01\n",
       "8462    2067-04-01\n",
       "8883    2067-04-01\n",
       "9139    2063-10-01\n",
       "10315   2064-10-01\n",
       "11303   2062-09-01\n",
       "12025   2066-11-01\n",
       "12869   2065-05-01\n",
       "13975   2056-09-01\n",
       "14077   2046-01-01\n",
       "15269   2050-12-01\n",
       "15392   2066-03-01\n",
       "15480   2068-01-01\n",
       "16933   2068-02-01\n",
       "17559   2066-02-01\n",
       "18754   2064-09-01\n",
       "18782   2065-10-01\n",
       "19370   2066-11-01\n",
       "19838   2067-04-01\n",
       "20709   2068-08-01\n",
       "21059   2068-08-01\n",
       "21086   2068-12-01\n",
       "22031   2054-11-01\n",
       "24701   2062-09-01\n",
       "25117   2065-12-01\n",
       "25451   2064-09-01\n",
       "25769   2067-11-01\n",
       "26238   2066-11-01\n",
       "26381   2063-09-01\n",
       "26911   2062-11-01\n",
       "29464   2063-01-01\n",
       "30663   2067-10-01\n",
       "31938   2067-05-01\n",
       "32775   2067-02-01\n",
       "32850   2068-11-01\n",
       "33028   2066-03-01\n",
       "33788   2065-02-01\n",
       "33923   2067-10-01\n",
       "33994   2064-04-01\n",
       "34469   2067-11-01\n",
       "35783   2067-07-01\n",
       "35792   2068-02-01\n",
       "35899   2067-04-01\n",
       "36694   2068-01-01\n",
       "37288   2066-12-01\n",
       "37328   2068-10-01\n",
       "37442   2067-09-01\n",
       "38068   2068-12-01\n",
       "Name: earliest_cr_line, dtype: datetime64[ns]"
      ]
     },
     "execution_count": 47,
     "metadata": {},
     "output_type": "execute_result"
    }
   ],
   "source": [
    "# Get all the datetime values which contains greater then 2011\n",
    "loan_df.earliest_cr_line[loan_df.earliest_cr_line.dt.year > 2011]"
   ]
  },
  {
   "cell_type": "code",
   "execution_count": 48,
   "metadata": {},
   "outputs": [],
   "source": [
    "# Substract 100  years (100 * 365 days) and also the hour for those datetime which is greater than 2011 year.\n",
    "loan_df[\"earliest_cr_line\"] = loan_df.earliest_cr_line.mask(\n",
    "    loan_df.earliest_cr_line.dt.year > 2011, loan_df['earliest_cr_line'] - \n",
    "        pd.to_timedelta(100 * 365, unit=\"D\")\n",
    ")"
   ]
  },
  {
   "cell_type": "code",
   "execution_count": 49,
   "metadata": {},
   "outputs": [
    {
     "data": {
      "text/plain": [
       "count                   37898\n",
       "unique                    514\n",
       "top       1998-11-01 00:00:00\n",
       "freq                      360\n",
       "first     1946-01-26 00:00:00\n",
       "last      2008-11-01 00:00:00\n",
       "Name: earliest_cr_line, dtype: object"
      ]
     },
     "execution_count": 49,
     "metadata": {},
     "output_type": "execute_result"
    }
   ],
   "source": [
    "# Re-checking all the datetime values to check whether it is aligned after conversion.\n",
    "loan_df[\"earliest_cr_line\"].describe()"
   ]
  },
  {
   "cell_type": "code",
   "execution_count": 50,
   "metadata": {},
   "outputs": [
    {
     "data": {
      "text/plain": [
       "loan_amnt                        int64\n",
       "term                             int64\n",
       "installment                    float64\n",
       "grade                           object\n",
       "sub_grade                       object\n",
       "emp_length                       int64\n",
       "home_ownership                  object\n",
       "annual_inc                     float64\n",
       "verification_status             object\n",
       "loan_status                     object\n",
       "pymnt_plan                      object\n",
       "purpose                         object\n",
       "dti                            float64\n",
       "delinq_2yrs                      int64\n",
       "earliest_cr_line        datetime64[ns]\n",
       "inq_last_6mths                   int64\n",
       "open_acc                         int64\n",
       "pub_rec                          int64\n",
       "revol_util                     float64\n",
       "total_acc                        int64\n",
       "initial_list_status             object\n",
       "policy_code                      int64\n",
       "application_type                object\n",
       "acc_now_delinq                   int64\n",
       "delinq_amnt                      int64\n",
       "pub_rec_bankruptcies           float64\n",
       "dtype: object"
      ]
     },
     "execution_count": 50,
     "metadata": {},
     "output_type": "execute_result"
    }
   ],
   "source": [
    "loan_df.dtypes"
   ]
  },
  {
   "cell_type": "markdown",
   "metadata": {},
   "source": [
    "Removing columns with only one value"
   ]
  },
  {
   "cell_type": "code",
   "execution_count": 51,
   "metadata": {},
   "outputs": [
    {
     "data": {
      "text/plain": [
       "0    37898\n",
       "Name: acc_now_delinq, dtype: int64"
      ]
     },
     "execution_count": 51,
     "metadata": {},
     "output_type": "execute_result"
    }
   ],
   "source": [
    "loan_df.acc_now_delinq.value_counts()"
   ]
  },
  {
   "cell_type": "code",
   "execution_count": 52,
   "metadata": {},
   "outputs": [
    {
     "data": {
      "text/plain": [
       "0    37898\n",
       "Name: delinq_amnt, dtype: int64"
      ]
     },
     "execution_count": 52,
     "metadata": {},
     "output_type": "execute_result"
    }
   ],
   "source": [
    "loan_df.delinq_amnt.value_counts()"
   ]
  },
  {
   "cell_type": "code",
   "execution_count": 53,
   "metadata": {},
   "outputs": [
    {
     "data": {
      "text/plain": [
       "1    37898\n",
       "Name: policy_code, dtype: int64"
      ]
     },
     "execution_count": 53,
     "metadata": {},
     "output_type": "execute_result"
    }
   ],
   "source": [
    "loan_df.policy_code.value_counts()"
   ]
  },
  {
   "cell_type": "code",
   "execution_count": 54,
   "metadata": {},
   "outputs": [
    {
     "data": {
      "text/plain": [
       "f    37898\n",
       "Name: initial_list_status, dtype: int64"
      ]
     },
     "execution_count": 54,
     "metadata": {},
     "output_type": "execute_result"
    }
   ],
   "source": [
    "loan_df.initial_list_status.value_counts()"
   ]
  },
  {
   "cell_type": "code",
   "execution_count": 55,
   "metadata": {},
   "outputs": [
    {
     "data": {
      "text/plain": [
       "n    37898\n",
       "Name: pymnt_plan, dtype: int64"
      ]
     },
     "execution_count": 55,
     "metadata": {},
     "output_type": "execute_result"
    }
   ],
   "source": [
    "loan_df.pymnt_plan.value_counts()"
   ]
  },
  {
   "cell_type": "code",
   "execution_count": 56,
   "metadata": {},
   "outputs": [
    {
     "data": {
      "text/plain": [
       "INDIVIDUAL    37898\n",
       "Name: application_type, dtype: int64"
      ]
     },
     "execution_count": 56,
     "metadata": {},
     "output_type": "execute_result"
    }
   ],
   "source": [
    "loan_df.application_type.value_counts(dropna=False)"
   ]
  },
  {
   "cell_type": "code",
   "execution_count": 57,
   "metadata": {},
   "outputs": [],
   "source": [
    "#We cannot use above columns for data analysis as it have only one value  or all unique values\n",
    "loan_df = loan_df.drop(['application_type','pymnt_plan','initial_list_status','policy_code','delinq_amnt','acc_now_delinq'],axis=1)"
   ]
  },
  {
   "cell_type": "code",
   "execution_count": 58,
   "metadata": {},
   "outputs": [
    {
     "data": {
      "text/plain": [
       "(37898, 20)"
      ]
     },
     "execution_count": 58,
     "metadata": {},
     "output_type": "execute_result"
    }
   ],
   "source": [
    "loan_df.shape"
   ]
  },
  {
   "cell_type": "code",
   "execution_count": 59,
   "metadata": {},
   "outputs": [
    {
     "data": {
      "text/plain": [
       "loan_amnt                        int64\n",
       "term                             int64\n",
       "installment                    float64\n",
       "grade                           object\n",
       "sub_grade                       object\n",
       "emp_length                       int64\n",
       "home_ownership                  object\n",
       "annual_inc                     float64\n",
       "verification_status             object\n",
       "loan_status                     object\n",
       "purpose                         object\n",
       "dti                            float64\n",
       "delinq_2yrs                      int64\n",
       "earliest_cr_line        datetime64[ns]\n",
       "inq_last_6mths                   int64\n",
       "open_acc                         int64\n",
       "pub_rec                          int64\n",
       "revol_util                     float64\n",
       "total_acc                        int64\n",
       "pub_rec_bankruptcies           float64\n",
       "dtype: object"
      ]
     },
     "execution_count": 59,
     "metadata": {},
     "output_type": "execute_result"
    }
   ],
   "source": [
    "loan_df.dtypes"
   ]
  },
  {
   "cell_type": "markdown",
   "metadata": {},
   "source": [
    "***"
   ]
  },
  {
   "cell_type": "markdown",
   "metadata": {},
   "source": [
    "### 2: Data Analysis"
   ]
  },
  {
   "cell_type": "markdown",
   "metadata": {},
   "source": [
    "#### 2.1 Target Column:"
   ]
  },
  {
   "cell_type": "code",
   "execution_count": 60,
   "metadata": {},
   "outputs": [
    {
     "data": {
      "text/plain": [
       "Fully Paid     31534\n",
       "Charged Off     5266\n",
       "Current         1098\n",
       "Name: loan_status, dtype: int64"
      ]
     },
     "execution_count": 60,
     "metadata": {},
     "output_type": "execute_result"
    }
   ],
   "source": [
    "# Understand one of the key variable loan_status\n",
    "loan_df.loan_status.value_counts()"
   ]
  },
  {
   "cell_type": "code",
   "execution_count": 61,
   "metadata": {},
   "outputs": [
    {
     "data": {
      "image/png": "[encoded data removed]",
      "text/plain": [
       "<Figure size 432x288 with 1 Axes>"
      ]
     },
     "metadata": {
      "needs_background": "light"
     },
     "output_type": "display_data"
    }
   ],
   "source": [
    "# Plot the distibution across various types of loan_status\n",
    "sns.countplot(data=loan_df, x=\"loan_status\")\n",
    "plt.show()"
   ]
  },
  {
   "cell_type": "markdown",
   "metadata": {},
   "source": [
    "As we can see that the loan status \"Current\" contributes very less, and won't be significant in our analysis as we won't be able to get any insight on the default rate as it is not fully paid or not defaulted.\n",
    "<br>\n",
    "So we are keeping only loan status which comes under ```Charged Off``` or ```Fully Paid```."
   ]
  },
  {
   "cell_type": "code",
   "execution_count": 62,
   "metadata": {},
   "outputs": [],
   "source": [
    "# Filter dataset to contain only Charged Off and Fully Paid loan status\n",
    "loan_df = loan_df[loan_df.loan_status != \"Current\"]\n",
    "loan_df = loan_df.reset_index(drop=True)"
   ]
  },
  {
   "cell_type": "code",
   "execution_count": 63,
   "metadata": {},
   "outputs": [
    {
     "data": {
      "text/plain": [
       "14.31"
      ]
     },
     "execution_count": 63,
     "metadata": {},
     "output_type": "execute_result"
    }
   ],
   "source": [
    "# Calculate the default rate\n",
    "round(len(loan_df[loan_df.loan_status == \"Charged Off\"]) / len(loan_df.index) * 100, 2)"
   ]
  },
  {
   "cell_type": "markdown",
   "metadata": {},
   "source": [
    "The percentage of outstanding loans where the lender has written off (__default rate__) for the given data is ```14.31%```"
   ]
  },
  {
   "cell_type": "markdown",
   "metadata": {},
   "source": [
    "Let's analyse the distribution of other categorical variables across loan_status. In-order to find the relationship between these variables and default_rate we will create a new column based on the loan_status.\n",
    "- 0 :Full Paid\n",
    "- 1: Charged Off"
   ]
  },
  {
   "cell_type": "code",
   "execution_count": 64,
   "metadata": {},
   "outputs": [],
   "source": [
    "# Create a new column which represents the numeric representation ofloan_status\n",
    "loan_df[\"default_rate\"] = loan_df.loan_status.apply(lambda x: 1 if x == \"Charged Off\" else 0)"
   ]
  },
  {
   "cell_type": "code",
   "execution_count": 65,
   "metadata": {},
   "outputs": [
    {
     "data": {
      "text/html": [
       "<div>\n",
       "<style scoped>\n",
       "    .dataframe tbody tr th:only-of-type {\n",
       "        vertical-align: middle;\n",
       "    }\n",
       "\n",
       "    .dataframe tbody tr th {\n",
       "        vertical-align: top;\n",
       "    }\n",
       "\n",
       "    .dataframe thead th {\n",
       "        text-align: right;\n",
       "    }\n",
       "</style>\n",
       "<table border=\"1\" class=\"dataframe\">\n",
       "  <thead>\n",
       "    <tr style=\"text-align: right;\">\n",
       "      <th></th>\n",
       "      <th>loan_status</th>\n",
       "      <th>default_rate</th>\n",
       "    </tr>\n",
       "  </thead>\n",
       "  <tbody>\n",
       "    <tr>\n",
       "      <th>0</th>\n",
       "      <td>Fully Paid</td>\n",
       "      <td>0</td>\n",
       "    </tr>\n",
       "    <tr>\n",
       "      <th>1</th>\n",
       "      <td>Charged Off</td>\n",
       "      <td>1</td>\n",
       "    </tr>\n",
       "    <tr>\n",
       "      <th>2</th>\n",
       "      <td>Fully Paid</td>\n",
       "      <td>0</td>\n",
       "    </tr>\n",
       "    <tr>\n",
       "      <th>3</th>\n",
       "      <td>Fully Paid</td>\n",
       "      <td>0</td>\n",
       "    </tr>\n",
       "    <tr>\n",
       "      <th>4</th>\n",
       "      <td>Fully Paid</td>\n",
       "      <td>0</td>\n",
       "    </tr>\n",
       "  </tbody>\n",
       "</table>\n",
       "</div>"
      ],
      "text/plain": [
       "   loan_status  default_rate\n",
       "0   Fully Paid             0\n",
       "1  Charged Off             1\n",
       "2   Fully Paid             0\n",
       "3   Fully Paid             0\n",
       "4   Fully Paid             0"
      ]
     },
     "execution_count": 65,
     "metadata": {},
     "output_type": "execute_result"
    }
   ],
   "source": [
    "# Confirming the logic\n",
    "loan_df[[\"loan_status\", \"default_rate\"]].head()"
   ]
  },
  {
   "cell_type": "markdown",
   "metadata": {},
   "source": [
    "# Univariate and Segmented Univariate Analyis"
   ]
  },
  {
   "cell_type": "markdown",
   "metadata": {},
   "source": [
    "###### 1. loan_status column:"
   ]
  },
  {
   "cell_type": "code",
   "execution_count": 66,
   "metadata": {},
   "outputs": [
    {
     "data": {
      "image/png": "[encoded data removed]",
      "text/plain": [
       "<Figure size 432x288 with 1 Axes>"
      ]
     },
     "metadata": {},
     "output_type": "display_data"
    },
    {
     "name": "stdout",
     "output_type": "stream",
     "text": [
      "percentage of Loan borrowers who Fully Paid = 85.7%\n",
      "percentage of Loan borrowers who defaulted = 14.3%\n"
     ]
    }
   ],
   "source": [
    "x = loan_df.loan_status.value_counts()\n",
    "explode = (0.03,0.001)\n",
    "plt.pie(x, labels = x.index, autopct = '%1.1f%%' ,explode = explode, startangle = 60)\n",
    "plt.title(\"Percentage of each Loan Status\", fontsize=20)\n",
    "plt.show()\n",
    "print(\"percentage of Loan borrowers who Fully Paid = 85.7%\")\n",
    "print(\"percentage of Loan borrowers who defaulted = 14.3%\")"
   ]
  },
  {
   "cell_type": "markdown",
   "metadata": {},
   "source": [
    "###### 2. default_rate of loan_amount column:"
   ]
  },
  {
   "cell_type": "code",
   "execution_count": 67,
   "metadata": {},
   "outputs": [
    {
     "data": {
      "image/png": "[encoded data removed]",
      "text/plain": [
       "<Figure size 648x576 with 1 Axes>"
      ]
     },
     "metadata": {
      "needs_background": "light"
     },
     "output_type": "display_data"
    }
   ],
   "source": [
    "# Plot the distibution across loan_amnt\n",
    "plt.figure(figsize=(9, 8))\n",
    "sns.distplot(loan_df['loan_amnt'])\n",
    "plt.show()"
   ]
  },
  {
   "cell_type": "code",
   "execution_count": 68,
   "metadata": {},
   "outputs": [
    {
     "data": {
      "text/plain": [
       "count    36800.000000\n",
       "mean     11149.540761\n",
       "std       7369.855703\n",
       "min        500.000000\n",
       "25%       5500.000000\n",
       "50%      10000.000000\n",
       "75%      15000.000000\n",
       "max      35000.000000\n",
       "Name: loan_amnt, dtype: float64"
      ]
     },
     "execution_count": 68,
     "metadata": {},
     "output_type": "execute_result"
    }
   ],
   "source": [
    "loan_df.loan_amnt.describe()"
   ]
  },
  {
   "cell_type": "markdown",
   "metadata": {},
   "source": [
    "We need to bin the continuous variables inorder to find a solid relationship between the default rates."
   ]
  },
  {
   "cell_type": "code",
   "execution_count": 69,
   "metadata": {},
   "outputs": [
    {
     "data": {
      "text/html": [
       "<div>\n",
       "<style scoped>\n",
       "    .dataframe tbody tr th:only-of-type {\n",
       "        vertical-align: middle;\n",
       "    }\n",
       "\n",
       "    .dataframe tbody tr th {\n",
       "        vertical-align: top;\n",
       "    }\n",
       "\n",
       "    .dataframe thead th {\n",
       "        text-align: right;\n",
       "    }\n",
       "</style>\n",
       "<table border=\"1\" class=\"dataframe\">\n",
       "  <thead>\n",
       "    <tr style=\"text-align: right;\">\n",
       "      <th></th>\n",
       "      <th>count</th>\n",
       "      <th>mean</th>\n",
       "      <th>std</th>\n",
       "      <th>min</th>\n",
       "      <th>25%</th>\n",
       "      <th>50%</th>\n",
       "      <th>75%</th>\n",
       "      <th>max</th>\n",
       "    </tr>\n",
       "    <tr>\n",
       "      <th>loan_status</th>\n",
       "      <th></th>\n",
       "      <th></th>\n",
       "      <th></th>\n",
       "      <th></th>\n",
       "      <th></th>\n",
       "      <th></th>\n",
       "      <th></th>\n",
       "      <th></th>\n",
       "    </tr>\n",
       "  </thead>\n",
       "  <tbody>\n",
       "    <tr>\n",
       "      <th>Charged Off</th>\n",
       "      <td>5266.0</td>\n",
       "      <td>12256.010254</td>\n",
       "      <td>8102.870621</td>\n",
       "      <td>1000.0</td>\n",
       "      <td>6000.0</td>\n",
       "      <td>10000.0</td>\n",
       "      <td>16987.5</td>\n",
       "      <td>35000.0</td>\n",
       "    </tr>\n",
       "    <tr>\n",
       "      <th>Fully Paid</th>\n",
       "      <td>31534.0</td>\n",
       "      <td>10964.766601</td>\n",
       "      <td>7223.862728</td>\n",
       "      <td>500.0</td>\n",
       "      <td>5500.0</td>\n",
       "      <td>9600.0</td>\n",
       "      <td>15000.0</td>\n",
       "      <td>35000.0</td>\n",
       "    </tr>\n",
       "  </tbody>\n",
       "</table>\n",
       "</div>"
      ],
      "text/plain": [
       "               count          mean          std     min     25%      50%  \\\n",
       "loan_status                                                                \n",
       "Charged Off   5266.0  12256.010254  8102.870621  1000.0  6000.0  10000.0   \n",
       "Fully Paid   31534.0  10964.766601  7223.862728   500.0  5500.0   9600.0   \n",
       "\n",
       "                 75%      max  \n",
       "loan_status                    \n",
       "Charged Off  16987.5  35000.0  \n",
       "Fully Paid   15000.0  35000.0  "
      ]
     },
     "execution_count": 69,
     "metadata": {},
     "output_type": "execute_result"
    }
   ],
   "source": [
    "loan_df.groupby(by=\"loan_status\").loan_amnt.describe()"
   ]
  },
  {
   "cell_type": "code",
   "execution_count": 70,
   "metadata": {},
   "outputs": [
    {
     "data": {
      "text/plain": [
       "5-10     12190\n",
       "0-5       8823\n",
       "10-15     7433\n",
       "15-20     4197\n",
       "20-25     2745\n",
       "30-35      720\n",
       "25-30      692\n",
       "Name: loan_amnt_bin, dtype: int64"
      ]
     },
     "execution_count": 70,
     "metadata": {},
     "output_type": "execute_result"
    }
   ],
   "source": [
    "# Create a derived variable to store the bin in which the loan_amnt belongs to\n",
    "loan_df[\"loan_amnt_bin\"] = pd.cut(loan_df.loan_amnt, bins=np.arange(0, 36000, 5000), labels=[\"-\".join([str(x), str(x+5)]) for x in range(0, 35, 5)])\n",
    "loan_df.loan_amnt_bin.value_counts()"
   ]
  },
  {
   "cell_type": "code",
   "execution_count": 71,
   "metadata": {},
   "outputs": [
    {
     "data": {
      "image/png": "[encoded data removed]",
      "text/plain": [
       "<Figure size 648x576 with 1 Axes>"
      ]
     },
     "metadata": {
      "needs_background": "light"
     },
     "output_type": "display_data"
    }
   ],
   "source": [
    "plt.figure(figsize=(9, 8))\n",
    "sns.barplot(x=\"loan_amnt_bin\", y=\"default_rate\", data=loan_df)\n",
    "plt.show()"
   ]
  },
  {
   "cell_type": "markdown",
   "metadata": {},
   "source": [
    "__Observation__ :\n",
    "- Most of the loan amount lies under 35000\n",
    "- Higher the loan amount, higher the default rate\n",
    "- Even though the number of loans for the higher amount is very less in number compared to the lower loan amount, it has got high level of risk of default."
   ]
  },
  {
   "cell_type": "markdown",
   "metadata": {},
   "source": [
    "###### 3. default_rate  of term columns:"
   ]
  },
  {
   "cell_type": "code",
   "execution_count": 72,
   "metadata": {},
   "outputs": [
    {
     "data": {
      "image/png": "[encoded data removed]",
      "text/plain": [
       "<Figure size 648x576 with 1 Axes>"
      ]
     },
     "metadata": {
      "needs_background": "light"
     },
     "output_type": "display_data"
    }
   ],
   "source": [
    "# Compare the column term with default_rate\n",
    "plt.figure(figsize=(9, 8))\n",
    "sns.barplot(x=\"term\", y=\"default_rate\", data=loan_df)\n",
    "plt.show()"
   ]
  },
  {
   "cell_type": "code",
   "execution_count": 73,
   "metadata": {},
   "outputs": [
    {
     "data": {
      "text/html": [
       "<div>\n",
       "<style scoped>\n",
       "    .dataframe tbody tr th:only-of-type {\n",
       "        vertical-align: middle;\n",
       "    }\n",
       "\n",
       "    .dataframe tbody tr th {\n",
       "        vertical-align: top;\n",
       "    }\n",
       "\n",
       "    .dataframe thead tr th {\n",
       "        text-align: left;\n",
       "    }\n",
       "\n",
       "    .dataframe thead tr:last-of-type th {\n",
       "        text-align: right;\n",
       "    }\n",
       "</style>\n",
       "<table border=\"1\" class=\"dataframe\">\n",
       "  <thead>\n",
       "    <tr>\n",
       "      <th></th>\n",
       "      <th></th>\n",
       "      <th colspan=\"8\" halign=\"left\">loan_amnt</th>\n",
       "      <th colspan=\"8\" halign=\"left\">installment</th>\n",
       "      <th colspan=\"8\" halign=\"left\">emp_length</th>\n",
       "      <th colspan=\"8\" halign=\"left\">annual_inc</th>\n",
       "      <th colspan=\"8\" halign=\"left\">dti</th>\n",
       "      <th colspan=\"8\" halign=\"left\">delinq_2yrs</th>\n",
       "      <th colspan=\"8\" halign=\"left\">inq_last_6mths</th>\n",
       "      <th colspan=\"8\" halign=\"left\">open_acc</th>\n",
       "      <th colspan=\"8\" halign=\"left\">pub_rec</th>\n",
       "      <th colspan=\"8\" halign=\"left\">revol_util</th>\n",
       "      <th colspan=\"8\" halign=\"left\">total_acc</th>\n",
       "      <th colspan=\"8\" halign=\"left\">pub_rec_bankruptcies</th>\n",
       "      <th colspan=\"8\" halign=\"left\">default_rate</th>\n",
       "    </tr>\n",
       "    <tr>\n",
       "      <th></th>\n",
       "      <th></th>\n",
       "      <th>count</th>\n",
       "      <th>mean</th>\n",
       "      <th>std</th>\n",
       "      <th>min</th>\n",
       "      <th>25%</th>\n",
       "      <th>50%</th>\n",
       "      <th>75%</th>\n",
       "      <th>max</th>\n",
       "      <th>count</th>\n",
       "      <th>mean</th>\n",
       "      <th>std</th>\n",
       "      <th>min</th>\n",
       "      <th>25%</th>\n",
       "      <th>50%</th>\n",
       "      <th>75%</th>\n",
       "      <th>max</th>\n",
       "      <th>count</th>\n",
       "      <th>mean</th>\n",
       "      <th>std</th>\n",
       "      <th>min</th>\n",
       "      <th>25%</th>\n",
       "      <th>50%</th>\n",
       "      <th>75%</th>\n",
       "      <th>max</th>\n",
       "      <th>count</th>\n",
       "      <th>mean</th>\n",
       "      <th>std</th>\n",
       "      <th>min</th>\n",
       "      <th>25%</th>\n",
       "      <th>50%</th>\n",
       "      <th>75%</th>\n",
       "      <th>max</th>\n",
       "      <th>count</th>\n",
       "      <th>mean</th>\n",
       "      <th>std</th>\n",
       "      <th>min</th>\n",
       "      <th>25%</th>\n",
       "      <th>50%</th>\n",
       "      <th>75%</th>\n",
       "      <th>max</th>\n",
       "      <th>count</th>\n",
       "      <th>mean</th>\n",
       "      <th>std</th>\n",
       "      <th>min</th>\n",
       "      <th>25%</th>\n",
       "      <th>50%</th>\n",
       "      <th>75%</th>\n",
       "      <th>max</th>\n",
       "      <th>count</th>\n",
       "      <th>mean</th>\n",
       "      <th>std</th>\n",
       "      <th>min</th>\n",
       "      <th>25%</th>\n",
       "      <th>50%</th>\n",
       "      <th>75%</th>\n",
       "      <th>max</th>\n",
       "      <th>count</th>\n",
       "      <th>mean</th>\n",
       "      <th>std</th>\n",
       "      <th>min</th>\n",
       "      <th>25%</th>\n",
       "      <th>50%</th>\n",
       "      <th>75%</th>\n",
       "      <th>max</th>\n",
       "      <th>count</th>\n",
       "      <th>mean</th>\n",
       "      <th>std</th>\n",
       "      <th>min</th>\n",
       "      <th>25%</th>\n",
       "      <th>50%</th>\n",
       "      <th>75%</th>\n",
       "      <th>max</th>\n",
       "      <th>count</th>\n",
       "      <th>mean</th>\n",
       "      <th>std</th>\n",
       "      <th>min</th>\n",
       "      <th>25%</th>\n",
       "      <th>50%</th>\n",
       "      <th>75%</th>\n",
       "      <th>max</th>\n",
       "      <th>count</th>\n",
       "      <th>mean</th>\n",
       "      <th>std</th>\n",
       "      <th>min</th>\n",
       "      <th>25%</th>\n",
       "      <th>50%</th>\n",
       "      <th>75%</th>\n",
       "      <th>max</th>\n",
       "      <th>count</th>\n",
       "      <th>mean</th>\n",
       "      <th>std</th>\n",
       "      <th>min</th>\n",
       "      <th>25%</th>\n",
       "      <th>50%</th>\n",
       "      <th>75%</th>\n",
       "      <th>max</th>\n",
       "      <th>count</th>\n",
       "      <th>mean</th>\n",
       "      <th>std</th>\n",
       "      <th>min</th>\n",
       "      <th>25%</th>\n",
       "      <th>50%</th>\n",
       "      <th>75%</th>\n",
       "      <th>max</th>\n",
       "    </tr>\n",
       "    <tr>\n",
       "      <th>term</th>\n",
       "      <th>loan_status</th>\n",
       "      <th></th>\n",
       "      <th></th>\n",
       "      <th></th>\n",
       "      <th></th>\n",
       "      <th></th>\n",
       "      <th></th>\n",
       "      <th></th>\n",
       "      <th></th>\n",
       "      <th></th>\n",
       "      <th></th>\n",
       "      <th></th>\n",
       "      <th></th>\n",
       "      <th></th>\n",
       "      <th></th>\n",
       "      <th></th>\n",
       "      <th></th>\n",
       "      <th></th>\n",
       "      <th></th>\n",
       "      <th></th>\n",
       "      <th></th>\n",
       "      <th></th>\n",
       "      <th></th>\n",
       "      <th></th>\n",
       "      <th></th>\n",
       "      <th></th>\n",
       "      <th></th>\n",
       "      <th></th>\n",
       "      <th></th>\n",
       "      <th></th>\n",
       "      <th></th>\n",
       "      <th></th>\n",
       "      <th></th>\n",
       "      <th></th>\n",
       "      <th></th>\n",
       "      <th></th>\n",
       "      <th></th>\n",
       "      <th></th>\n",
       "      <th></th>\n",
       "      <th></th>\n",
       "      <th></th>\n",
       "      <th></th>\n",
       "      <th></th>\n",
       "      <th></th>\n",
       "      <th></th>\n",
       "      <th></th>\n",
       "      <th></th>\n",
       "      <th></th>\n",
       "      <th></th>\n",
       "      <th></th>\n",
       "      <th></th>\n",
       "      <th></th>\n",
       "      <th></th>\n",
       "      <th></th>\n",
       "      <th></th>\n",
       "      <th></th>\n",
       "      <th></th>\n",
       "      <th></th>\n",
       "      <th></th>\n",
       "      <th></th>\n",
       "      <th></th>\n",
       "      <th></th>\n",
       "      <th></th>\n",
       "      <th></th>\n",
       "      <th></th>\n",
       "      <th></th>\n",
       "      <th></th>\n",
       "      <th></th>\n",
       "      <th></th>\n",
       "      <th></th>\n",
       "      <th></th>\n",
       "      <th></th>\n",
       "      <th></th>\n",
       "      <th></th>\n",
       "      <th></th>\n",
       "      <th></th>\n",
       "      <th></th>\n",
       "      <th></th>\n",
       "      <th></th>\n",
       "      <th></th>\n",
       "      <th></th>\n",
       "      <th></th>\n",
       "      <th></th>\n",
       "      <th></th>\n",
       "      <th></th>\n",
       "      <th></th>\n",
       "      <th></th>\n",
       "      <th></th>\n",
       "      <th></th>\n",
       "      <th></th>\n",
       "      <th></th>\n",
       "      <th></th>\n",
       "      <th></th>\n",
       "      <th></th>\n",
       "      <th></th>\n",
       "      <th></th>\n",
       "      <th></th>\n",
       "      <th></th>\n",
       "      <th></th>\n",
       "      <th></th>\n",
       "      <th></th>\n",
       "      <th></th>\n",
       "      <th></th>\n",
       "      <th></th>\n",
       "      <th></th>\n",
       "    </tr>\n",
       "  </thead>\n",
       "  <tbody>\n",
       "    <tr>\n",
       "      <th rowspan=\"2\" valign=\"top\">36</th>\n",
       "      <th>Charged Off</th>\n",
       "      <td>2943.0</td>\n",
       "      <td>9426.291199</td>\n",
       "      <td>6403.160038</td>\n",
       "      <td>1000.0</td>\n",
       "      <td>5000.0</td>\n",
       "      <td>8000.0</td>\n",
       "      <td>12000.0</td>\n",
       "      <td>35000.0</td>\n",
       "      <td>2943.0</td>\n",
       "      <td>312.593490</td>\n",
       "      <td>217.372686</td>\n",
       "      <td>30.71</td>\n",
       "      <td>158.495</td>\n",
       "      <td>260.59</td>\n",
       "      <td>406.660</td>\n",
       "      <td>1305.19</td>\n",
       "      <td>2943.0</td>\n",
       "      <td>4.658512</td>\n",
       "      <td>3.538263</td>\n",
       "      <td>0.0</td>\n",
       "      <td>2.0</td>\n",
       "      <td>4.0</td>\n",
       "      <td>8.0</td>\n",
       "      <td>10.0</td>\n",
       "      <td>2943.0</td>\n",
       "      <td>59794.160540</td>\n",
       "      <td>45167.393121</td>\n",
       "      <td>4080.0</td>\n",
       "      <td>36000.0</td>\n",
       "      <td>50000.0</td>\n",
       "      <td>71942.0</td>\n",
       "      <td>840000.0</td>\n",
       "      <td>2943.0</td>\n",
       "      <td>13.644023</td>\n",
       "      <td>6.598990</td>\n",
       "      <td>0.0</td>\n",
       "      <td>8.635</td>\n",
       "      <td>13.99</td>\n",
       "      <td>18.875</td>\n",
       "      <td>29.85</td>\n",
       "      <td>2943.0</td>\n",
       "      <td>0.170574</td>\n",
       "      <td>0.507715</td>\n",
       "      <td>0.0</td>\n",
       "      <td>0.0</td>\n",
       "      <td>0.0</td>\n",
       "      <td>0.0</td>\n",
       "      <td>5.0</td>\n",
       "      <td>2943.0</td>\n",
       "      <td>1.050629</td>\n",
       "      <td>1.155699</td>\n",
       "      <td>0.0</td>\n",
       "      <td>0.0</td>\n",
       "      <td>1.0</td>\n",
       "      <td>2.0</td>\n",
       "      <td>8.0</td>\n",
       "      <td>2943.0</td>\n",
       "      <td>9.004757</td>\n",
       "      <td>4.556016</td>\n",
       "      <td>2.0</td>\n",
       "      <td>6.0</td>\n",
       "      <td>8.0</td>\n",
       "      <td>11.0</td>\n",
       "      <td>38.0</td>\n",
       "      <td>2943.0</td>\n",
       "      <td>0.083588</td>\n",
       "      <td>0.287655</td>\n",
       "      <td>0.0</td>\n",
       "      <td>0.0</td>\n",
       "      <td>0.0</td>\n",
       "      <td>0.0</td>\n",
       "      <td>2.0</td>\n",
       "      <td>2943.0</td>\n",
       "      <td>55.081081</td>\n",
       "      <td>28.367673</td>\n",
       "      <td>0.0</td>\n",
       "      <td>33.1</td>\n",
       "      <td>58.1</td>\n",
       "      <td>78.7</td>\n",
       "      <td>99.9</td>\n",
       "      <td>2943.0</td>\n",
       "      <td>20.414543</td>\n",
       "      <td>11.278868</td>\n",
       "      <td>2.0</td>\n",
       "      <td>12.0</td>\n",
       "      <td>18.0</td>\n",
       "      <td>27.0</td>\n",
       "      <td>74.0</td>\n",
       "      <td>2943.0</td>\n",
       "      <td>0.058784</td>\n",
       "      <td>0.238131</td>\n",
       "      <td>0.0</td>\n",
       "      <td>0.0</td>\n",
       "      <td>0.0</td>\n",
       "      <td>0.0</td>\n",
       "      <td>2.0</td>\n",
       "      <td>2943.0</td>\n",
       "      <td>1.0</td>\n",
       "      <td>0.0</td>\n",
       "      <td>1.0</td>\n",
       "      <td>1.0</td>\n",
       "      <td>1.0</td>\n",
       "      <td>1.0</td>\n",
       "      <td>1.0</td>\n",
       "    </tr>\n",
       "    <tr>\n",
       "      <th>Fully Paid</th>\n",
       "      <td>24603.0</td>\n",
       "      <td>9695.455839</td>\n",
       "      <td>6325.855385</td>\n",
       "      <td>500.0</td>\n",
       "      <td>5000.0</td>\n",
       "      <td>8000.0</td>\n",
       "      <td>12500.0</td>\n",
       "      <td>35000.0</td>\n",
       "      <td>24603.0</td>\n",
       "      <td>314.383857</td>\n",
       "      <td>209.096545</td>\n",
       "      <td>16.08</td>\n",
       "      <td>162.230</td>\n",
       "      <td>264.61</td>\n",
       "      <td>407.170</td>\n",
       "      <td>1295.21</td>\n",
       "      <td>24603.0</td>\n",
       "      <td>4.765191</td>\n",
       "      <td>3.527347</td>\n",
       "      <td>0.0</td>\n",
       "      <td>2.0</td>\n",
       "      <td>4.0</td>\n",
       "      <td>8.0</td>\n",
       "      <td>10.0</td>\n",
       "      <td>24603.0</td>\n",
       "      <td>68755.292851</td>\n",
       "      <td>64907.487167</td>\n",
       "      <td>4000.0</td>\n",
       "      <td>40045.0</td>\n",
       "      <td>58800.0</td>\n",
       "      <td>82000.0</td>\n",
       "      <td>6000000.0</td>\n",
       "      <td>24603.0</td>\n",
       "      <td>12.972392</td>\n",
       "      <td>6.661306</td>\n",
       "      <td>0.0</td>\n",
       "      <td>7.790</td>\n",
       "      <td>12.96</td>\n",
       "      <td>18.210</td>\n",
       "      <td>29.99</td>\n",
       "      <td>24603.0</td>\n",
       "      <td>0.140593</td>\n",
       "      <td>0.481201</td>\n",
       "      <td>0.0</td>\n",
       "      <td>0.0</td>\n",
       "      <td>0.0</td>\n",
       "      <td>0.0</td>\n",
       "      <td>11.0</td>\n",
       "      <td>24603.0</td>\n",
       "      <td>0.813722</td>\n",
       "      <td>1.032700</td>\n",
       "      <td>0.0</td>\n",
       "      <td>0.0</td>\n",
       "      <td>0.0</td>\n",
       "      <td>1.0</td>\n",
       "      <td>8.0</td>\n",
       "      <td>24603.0</td>\n",
       "      <td>9.207251</td>\n",
       "      <td>4.340294</td>\n",
       "      <td>2.0</td>\n",
       "      <td>6.0</td>\n",
       "      <td>8.0</td>\n",
       "      <td>12.0</td>\n",
       "      <td>44.0</td>\n",
       "      <td>24603.0</td>\n",
       "      <td>0.048937</td>\n",
       "      <td>0.226764</td>\n",
       "      <td>0.0</td>\n",
       "      <td>0.0</td>\n",
       "      <td>0.0</td>\n",
       "      <td>0.0</td>\n",
       "      <td>4.0</td>\n",
       "      <td>24603.0</td>\n",
       "      <td>47.071553</td>\n",
       "      <td>28.341552</td>\n",
       "      <td>0.0</td>\n",
       "      <td>23.3</td>\n",
       "      <td>46.9</td>\n",
       "      <td>70.4</td>\n",
       "      <td>99.9</td>\n",
       "      <td>24603.0</td>\n",
       "      <td>21.668211</td>\n",
       "      <td>11.255368</td>\n",
       "      <td>3.0</td>\n",
       "      <td>13.0</td>\n",
       "      <td>20.0</td>\n",
       "      <td>28.0</td>\n",
       "      <td>90.0</td>\n",
       "      <td>24603.0</td>\n",
       "      <td>0.037516</td>\n",
       "      <td>0.190666</td>\n",
       "      <td>0.0</td>\n",
       "      <td>0.0</td>\n",
       "      <td>0.0</td>\n",
       "      <td>0.0</td>\n",
       "      <td>2.0</td>\n",
       "      <td>24603.0</td>\n",
       "      <td>0.0</td>\n",
       "      <td>0.0</td>\n",
       "      <td>0.0</td>\n",
       "      <td>0.0</td>\n",
       "      <td>0.0</td>\n",
       "      <td>0.0</td>\n",
       "      <td>0.0</td>\n",
       "    </tr>\n",
       "    <tr>\n",
       "      <th rowspan=\"2\" valign=\"top\">60</th>\n",
       "      <th>Charged Off</th>\n",
       "      <td>2323.0</td>\n",
       "      <td>15840.970728</td>\n",
       "      <td>8597.558268</td>\n",
       "      <td>1000.0</td>\n",
       "      <td>9250.0</td>\n",
       "      <td>15000.0</td>\n",
       "      <td>21000.0</td>\n",
       "      <td>35000.0</td>\n",
       "      <td>2323.0</td>\n",
       "      <td>371.941541</td>\n",
       "      <td>210.007383</td>\n",
       "      <td>22.79</td>\n",
       "      <td>210.480</td>\n",
       "      <td>347.80</td>\n",
       "      <td>496.125</td>\n",
       "      <td>1005.06</td>\n",
       "      <td>2323.0</td>\n",
       "      <td>5.664658</td>\n",
       "      <td>3.584213</td>\n",
       "      <td>0.0</td>\n",
       "      <td>3.0</td>\n",
       "      <td>5.0</td>\n",
       "      <td>10.0</td>\n",
       "      <td>10.0</td>\n",
       "      <td>2323.0</td>\n",
       "      <td>67631.242040</td>\n",
       "      <td>50422.513168</td>\n",
       "      <td>6000.0</td>\n",
       "      <td>42000.0</td>\n",
       "      <td>60000.0</td>\n",
       "      <td>80000.0</td>\n",
       "      <td>1250000.0</td>\n",
       "      <td>2323.0</td>\n",
       "      <td>14.517150</td>\n",
       "      <td>6.476138</td>\n",
       "      <td>0.0</td>\n",
       "      <td>9.990</td>\n",
       "      <td>14.84</td>\n",
       "      <td>19.740</td>\n",
       "      <td>29.45</td>\n",
       "      <td>2323.0</td>\n",
       "      <td>0.162721</td>\n",
       "      <td>0.557036</td>\n",
       "      <td>0.0</td>\n",
       "      <td>0.0</td>\n",
       "      <td>0.0</td>\n",
       "      <td>0.0</td>\n",
       "      <td>8.0</td>\n",
       "      <td>2323.0</td>\n",
       "      <td>1.052088</td>\n",
       "      <td>1.130712</td>\n",
       "      <td>0.0</td>\n",
       "      <td>0.0</td>\n",
       "      <td>1.0</td>\n",
       "      <td>2.0</td>\n",
       "      <td>8.0</td>\n",
       "      <td>2323.0</td>\n",
       "      <td>9.541972</td>\n",
       "      <td>4.422101</td>\n",
       "      <td>2.0</td>\n",
       "      <td>6.0</td>\n",
       "      <td>9.0</td>\n",
       "      <td>12.0</td>\n",
       "      <td>35.0</td>\n",
       "      <td>2323.0</td>\n",
       "      <td>0.082652</td>\n",
       "      <td>0.276974</td>\n",
       "      <td>0.0</td>\n",
       "      <td>0.0</td>\n",
       "      <td>0.0</td>\n",
       "      <td>0.0</td>\n",
       "      <td>2.0</td>\n",
       "      <td>2323.0</td>\n",
       "      <td>56.966117</td>\n",
       "      <td>27.083492</td>\n",
       "      <td>0.0</td>\n",
       "      <td>37.1</td>\n",
       "      <td>60.1</td>\n",
       "      <td>79.8</td>\n",
       "      <td>99.9</td>\n",
       "      <td>2323.0</td>\n",
       "      <td>23.071029</td>\n",
       "      <td>11.520182</td>\n",
       "      <td>3.0</td>\n",
       "      <td>14.0</td>\n",
       "      <td>21.0</td>\n",
       "      <td>30.0</td>\n",
       "      <td>66.0</td>\n",
       "      <td>2323.0</td>\n",
       "      <td>0.071459</td>\n",
       "      <td>0.257646</td>\n",
       "      <td>0.0</td>\n",
       "      <td>0.0</td>\n",
       "      <td>0.0</td>\n",
       "      <td>0.0</td>\n",
       "      <td>1.0</td>\n",
       "      <td>2323.0</td>\n",
       "      <td>1.0</td>\n",
       "      <td>0.0</td>\n",
       "      <td>1.0</td>\n",
       "      <td>1.0</td>\n",
       "      <td>1.0</td>\n",
       "      <td>1.0</td>\n",
       "      <td>1.0</td>\n",
       "    </tr>\n",
       "    <tr>\n",
       "      <th>Fully Paid</th>\n",
       "      <td>6931.0</td>\n",
       "      <td>15470.444380</td>\n",
       "      <td>8328.511759</td>\n",
       "      <td>1000.0</td>\n",
       "      <td>9000.0</td>\n",
       "      <td>14500.0</td>\n",
       "      <td>20000.0</td>\n",
       "      <td>35000.0</td>\n",
       "      <td>6931.0</td>\n",
       "      <td>351.722938</td>\n",
       "      <td>199.353091</td>\n",
       "      <td>19.87</td>\n",
       "      <td>199.430</td>\n",
       "      <td>318.64</td>\n",
       "      <td>468.170</td>\n",
       "      <td>991.10</td>\n",
       "      <td>6931.0</td>\n",
       "      <td>5.566152</td>\n",
       "      <td>3.535808</td>\n",
       "      <td>0.0</td>\n",
       "      <td>3.0</td>\n",
       "      <td>5.0</td>\n",
       "      <td>10.0</td>\n",
       "      <td>10.0</td>\n",
       "      <td>6931.0</td>\n",
       "      <td>76543.195995</td>\n",
       "      <td>70694.859884</td>\n",
       "      <td>7200.0</td>\n",
       "      <td>47000.0</td>\n",
       "      <td>65000.0</td>\n",
       "      <td>90032.0</td>\n",
       "      <td>3900000.0</td>\n",
       "      <td>6931.0</td>\n",
       "      <td>14.092223</td>\n",
       "      <td>6.574235</td>\n",
       "      <td>0.0</td>\n",
       "      <td>9.180</td>\n",
       "      <td>14.24</td>\n",
       "      <td>19.250</td>\n",
       "      <td>29.89</td>\n",
       "      <td>6931.0</td>\n",
       "      <td>0.149906</td>\n",
       "      <td>0.498663</td>\n",
       "      <td>0.0</td>\n",
       "      <td>0.0</td>\n",
       "      <td>0.0</td>\n",
       "      <td>0.0</td>\n",
       "      <td>7.0</td>\n",
       "      <td>6931.0</td>\n",
       "      <td>0.930746</td>\n",
       "      <td>1.111838</td>\n",
       "      <td>0.0</td>\n",
       "      <td>0.0</td>\n",
       "      <td>1.0</td>\n",
       "      <td>2.0</td>\n",
       "      <td>8.0</td>\n",
       "      <td>6931.0</td>\n",
       "      <td>9.686625</td>\n",
       "      <td>4.381770</td>\n",
       "      <td>2.0</td>\n",
       "      <td>6.0</td>\n",
       "      <td>9.0</td>\n",
       "      <td>12.0</td>\n",
       "      <td>36.0</td>\n",
       "      <td>6931.0</td>\n",
       "      <td>0.050786</td>\n",
       "      <td>0.224773</td>\n",
       "      <td>0.0</td>\n",
       "      <td>0.0</td>\n",
       "      <td>0.0</td>\n",
       "      <td>0.0</td>\n",
       "      <td>2.0</td>\n",
       "      <td>6931.0</td>\n",
       "      <td>50.555305</td>\n",
       "      <td>27.662260</td>\n",
       "      <td>0.0</td>\n",
       "      <td>28.4</td>\n",
       "      <td>51.7</td>\n",
       "      <td>73.5</td>\n",
       "      <td>99.9</td>\n",
       "      <td>6931.0</td>\n",
       "      <td>24.299668</td>\n",
       "      <td>11.654493</td>\n",
       "      <td>3.0</td>\n",
       "      <td>16.0</td>\n",
       "      <td>23.0</td>\n",
       "      <td>31.0</td>\n",
       "      <td>87.0</td>\n",
       "      <td>6931.0</td>\n",
       "      <td>0.039965</td>\n",
       "      <td>0.195892</td>\n",
       "      <td>0.0</td>\n",
       "      <td>0.0</td>\n",
       "      <td>0.0</td>\n",
       "      <td>0.0</td>\n",
       "      <td>1.0</td>\n",
       "      <td>6931.0</td>\n",
       "      <td>0.0</td>\n",
       "      <td>0.0</td>\n",
       "      <td>0.0</td>\n",
       "      <td>0.0</td>\n",
       "      <td>0.0</td>\n",
       "      <td>0.0</td>\n",
       "      <td>0.0</td>\n",
       "    </tr>\n",
       "  </tbody>\n",
       "</table>\n",
       "</div>"
      ],
      "text/plain": [
       "                 loan_amnt                                             \\\n",
       "                     count          mean          std     min     25%   \n",
       "term loan_status                                                        \n",
       "36   Charged Off    2943.0   9426.291199  6403.160038  1000.0  5000.0   \n",
       "     Fully Paid    24603.0   9695.455839  6325.855385   500.0  5000.0   \n",
       "60   Charged Off    2323.0  15840.970728  8597.558268  1000.0  9250.0   \n",
       "     Fully Paid     6931.0  15470.444380  8328.511759  1000.0  9000.0   \n",
       "\n",
       "                                            installment              \\\n",
       "                      50%      75%      max       count        mean   \n",
       "term loan_status                                                      \n",
       "36   Charged Off   8000.0  12000.0  35000.0      2943.0  312.593490   \n",
       "     Fully Paid    8000.0  12500.0  35000.0     24603.0  314.383857   \n",
       "60   Charged Off  15000.0  21000.0  35000.0      2323.0  371.941541   \n",
       "     Fully Paid   14500.0  20000.0  35000.0      6931.0  351.722938   \n",
       "\n",
       "                                                                        \\\n",
       "                         std    min      25%     50%      75%      max   \n",
       "term loan_status                                                         \n",
       "36   Charged Off  217.372686  30.71  158.495  260.59  406.660  1305.19   \n",
       "     Fully Paid   209.096545  16.08  162.230  264.61  407.170  1295.21   \n",
       "60   Charged Off  210.007383  22.79  210.480  347.80  496.125  1005.06   \n",
       "     Fully Paid   199.353091  19.87  199.430  318.64  468.170   991.10   \n",
       "\n",
       "                 emp_length                                                 \\\n",
       "                      count      mean       std  min  25%  50%   75%   max   \n",
       "term loan_status                                                             \n",
       "36   Charged Off     2943.0  4.658512  3.538263  0.0  2.0  4.0   8.0  10.0   \n",
       "     Fully Paid     24603.0  4.765191  3.527347  0.0  2.0  4.0   8.0  10.0   \n",
       "60   Charged Off     2323.0  5.664658  3.584213  0.0  3.0  5.0  10.0  10.0   \n",
       "     Fully Paid      6931.0  5.566152  3.535808  0.0  3.0  5.0  10.0  10.0   \n",
       "\n",
       "                 annual_inc                                               \\\n",
       "                      count          mean           std     min      25%   \n",
       "term loan_status                                                           \n",
       "36   Charged Off     2943.0  59794.160540  45167.393121  4080.0  36000.0   \n",
       "     Fully Paid     24603.0  68755.292851  64907.487167  4000.0  40045.0   \n",
       "60   Charged Off     2323.0  67631.242040  50422.513168  6000.0  42000.0   \n",
       "     Fully Paid      6931.0  76543.195995  70694.859884  7200.0  47000.0   \n",
       "\n",
       "                                                   dti                       \\\n",
       "                      50%      75%        max    count       mean       std   \n",
       "term loan_status                                                              \n",
       "36   Charged Off  50000.0  71942.0   840000.0   2943.0  13.644023  6.598990   \n",
       "     Fully Paid   58800.0  82000.0  6000000.0  24603.0  12.972392  6.661306   \n",
       "60   Charged Off  60000.0  80000.0  1250000.0   2323.0  14.517150  6.476138   \n",
       "     Fully Paid   65000.0  90032.0  3900000.0   6931.0  14.092223  6.574235   \n",
       "\n",
       "                                                   delinq_2yrs            \\\n",
       "                  min    25%    50%     75%    max       count      mean   \n",
       "term loan_status                                                           \n",
       "36   Charged Off  0.0  8.635  13.99  18.875  29.85      2943.0  0.170574   \n",
       "     Fully Paid   0.0  7.790  12.96  18.210  29.99     24603.0  0.140593   \n",
       "60   Charged Off  0.0  9.990  14.84  19.740  29.45      2323.0  0.162721   \n",
       "     Fully Paid   0.0  9.180  14.24  19.250  29.89      6931.0  0.149906   \n",
       "\n",
       "                                                     inq_last_6mths            \\\n",
       "                       std  min  25%  50%  75%   max          count      mean   \n",
       "term loan_status                                                                \n",
       "36   Charged Off  0.507715  0.0  0.0  0.0  0.0   5.0         2943.0  1.050629   \n",
       "     Fully Paid   0.481201  0.0  0.0  0.0  0.0  11.0        24603.0  0.813722   \n",
       "60   Charged Off  0.557036  0.0  0.0  0.0  0.0   8.0         2323.0  1.052088   \n",
       "     Fully Paid   0.498663  0.0  0.0  0.0  0.0   7.0         6931.0  0.930746   \n",
       "\n",
       "                                                    open_acc            \\\n",
       "                       std  min  25%  50%  75%  max    count      mean   \n",
       "term loan_status                                                         \n",
       "36   Charged Off  1.155699  0.0  0.0  1.0  2.0  8.0   2943.0  9.004757   \n",
       "     Fully Paid   1.032700  0.0  0.0  0.0  1.0  8.0  24603.0  9.207251   \n",
       "60   Charged Off  1.130712  0.0  0.0  1.0  2.0  8.0   2323.0  9.541972   \n",
       "     Fully Paid   1.111838  0.0  0.0  1.0  2.0  8.0   6931.0  9.686625   \n",
       "\n",
       "                                                       pub_rec            \\\n",
       "                       std  min  25%  50%   75%   max    count      mean   \n",
       "term loan_status                                                           \n",
       "36   Charged Off  4.556016  2.0  6.0  8.0  11.0  38.0   2943.0  0.083588   \n",
       "     Fully Paid   4.340294  2.0  6.0  8.0  12.0  44.0  24603.0  0.048937   \n",
       "60   Charged Off  4.422101  2.0  6.0  9.0  12.0  35.0   2323.0  0.082652   \n",
       "     Fully Paid   4.381770  2.0  6.0  9.0  12.0  36.0   6931.0  0.050786   \n",
       "\n",
       "                                                    revol_util             \\\n",
       "                       std  min  25%  50%  75%  max      count       mean   \n",
       "term loan_status                                                            \n",
       "36   Charged Off  0.287655  0.0  0.0  0.0  0.0  2.0     2943.0  55.081081   \n",
       "     Fully Paid   0.226764  0.0  0.0  0.0  0.0  4.0    24603.0  47.071553   \n",
       "60   Charged Off  0.276974  0.0  0.0  0.0  0.0  2.0     2323.0  56.966117   \n",
       "     Fully Paid   0.224773  0.0  0.0  0.0  0.0  2.0     6931.0  50.555305   \n",
       "\n",
       "                                                         total_acc             \\\n",
       "                        std  min   25%   50%   75%   max     count       mean   \n",
       "term loan_status                                                                \n",
       "36   Charged Off  28.367673  0.0  33.1  58.1  78.7  99.9    2943.0  20.414543   \n",
       "     Fully Paid   28.341552  0.0  23.3  46.9  70.4  99.9   24603.0  21.668211   \n",
       "60   Charged Off  27.083492  0.0  37.1  60.1  79.8  99.9    2323.0  23.071029   \n",
       "     Fully Paid   27.662260  0.0  28.4  51.7  73.5  99.9    6931.0  24.299668   \n",
       "\n",
       "                                                         pub_rec_bankruptcies  \\\n",
       "                        std  min   25%   50%   75%   max                count   \n",
       "term loan_status                                                                \n",
       "36   Charged Off  11.278868  2.0  12.0  18.0  27.0  74.0               2943.0   \n",
       "     Fully Paid   11.255368  3.0  13.0  20.0  28.0  90.0              24603.0   \n",
       "60   Charged Off  11.520182  3.0  14.0  21.0  30.0  66.0               2323.0   \n",
       "     Fully Paid   11.654493  3.0  16.0  23.0  31.0  87.0               6931.0   \n",
       "\n",
       "                                                              default_rate  \\\n",
       "                      mean       std  min  25%  50%  75%  max        count   \n",
       "term loan_status                                                             \n",
       "36   Charged Off  0.058784  0.238131  0.0  0.0  0.0  0.0  2.0       2943.0   \n",
       "     Fully Paid   0.037516  0.190666  0.0  0.0  0.0  0.0  2.0      24603.0   \n",
       "60   Charged Off  0.071459  0.257646  0.0  0.0  0.0  0.0  1.0       2323.0   \n",
       "     Fully Paid   0.039965  0.195892  0.0  0.0  0.0  0.0  1.0       6931.0   \n",
       "\n",
       "                                                     \n",
       "                 mean  std  min  25%  50%  75%  max  \n",
       "term loan_status                                     \n",
       "36   Charged Off  1.0  0.0  1.0  1.0  1.0  1.0  1.0  \n",
       "     Fully Paid   0.0  0.0  0.0  0.0  0.0  0.0  0.0  \n",
       "60   Charged Off  1.0  0.0  1.0  1.0  1.0  1.0  1.0  \n",
       "     Fully Paid   0.0  0.0  0.0  0.0  0.0  0.0  0.0  "
      ]
     },
     "execution_count": 73,
     "metadata": {},
     "output_type": "execute_result"
    }
   ],
   "source": [
    "loan_df.groupby(by=[\"term\", \"loan_status\"]).describe()"
   ]
  },
  {
   "cell_type": "markdown",
   "metadata": {},
   "source": [
    "__Observation__: default rate is more in ```60 months``` than 36 months."
   ]
  },
  {
   "cell_type": "markdown",
   "metadata": {},
   "source": [
    "###### 4. default_rate of grade columns:"
   ]
  },
  {
   "cell_type": "code",
   "execution_count": 74,
   "metadata": {},
   "outputs": [
    {
     "data": {
      "image/png": "[encoded data removed]",
      "text/plain": [
       "<Figure size 1440x576 with 2 Axes>"
      ]
     },
     "metadata": {
      "needs_background": "light"
     },
     "output_type": "display_data"
    }
   ],
   "source": [
    "# Compare the column grade with default_rate\n",
    "plt.figure(figsize=(20, 8))\n",
    "plt.subplot(1,2,1)\n",
    "sns.barplot(x=\"grade\", y=\"default_rate\", data=loan_df, order=loan_df.grade.sort_values().unique())\n",
    "plt.subplot(1,2,2)\n",
    "sns.barplot(x=\"sub_grade\", y=\"default_rate\", data=loan_df, order=loan_df.sub_grade.sort_values().unique())\n",
    "plt.show()"
   ]
  },
  {
   "cell_type": "markdown",
   "metadata": {},
   "source": [
    "__Observation__: <br>\n",
    "- Default rate increases with Grades which implies high the interest rate more the defaulters\n",
    "- Sames applies for subgrades too"
   ]
  },
  {
   "cell_type": "markdown",
   "metadata": {},
   "source": [
    "###### 5. default_rate of purpose columns:"
   ]
  },
  {
   "cell_type": "code",
   "execution_count": 75,
   "metadata": {},
   "outputs": [
    {
     "data": {
      "image/png": "[encoded data removed]",
      "text/plain": [
       "<Figure size 1008x576 with 1 Axes>"
      ]
     },
     "metadata": {
      "needs_background": "light"
     },
     "output_type": "display_data"
    }
   ],
   "source": [
    "# purpose column frequency\n",
    "plt.figure(figsize=(14, 8))\n",
    "loan_df.groupby(\"purpose\").purpose.count().plot.bar()\n",
    "plt.show()"
   ]
  },
  {
   "cell_type": "code",
   "execution_count": 76,
   "metadata": {},
   "outputs": [
    {
     "data": {
      "text/plain": [
       "purpose\n",
       "debt_consolidation    17373\n",
       "credit_card            4799\n",
       "other                  3595\n",
       "home_improvement       2734\n",
       "major_purchase         2055\n",
       "small_business         1656\n",
       "car                    1429\n",
       "wedding                 893\n",
       "medical                 645\n",
       "moving                  541\n",
       "house                   349\n",
       "vacation                341\n",
       "educational             296\n",
       "renewable_energy         94\n",
       "Name: purpose, dtype: int64"
      ]
     },
     "execution_count": 76,
     "metadata": {},
     "output_type": "execute_result"
    }
   ],
   "source": [
    "loan_df.groupby(\"purpose\").purpose.count().sort_values(ascending=False)"
   ]
  },
  {
   "cell_type": "code",
   "execution_count": 77,
   "metadata": {},
   "outputs": [
    {
     "data": {
      "image/png": "[encoded data removed]",
      "text/plain": [
       "<Figure size 1008x576 with 1 Axes>"
      ]
     },
     "metadata": {
      "needs_background": "light"
     },
     "output_type": "display_data"
    }
   ],
   "source": [
    "# Compare the column purpose with default_rate\n",
    "plt.figure(figsize=(14, 8))\n",
    "plot = sns.barplot(x=\"purpose\", y=\"default_rate\", data=loan_df)\n",
    "plot.set_xticklabels(plot.get_xticklabels(), rotation=45, horizontalalignment=\"right\")\n",
    "plt.show()"
   ]
  },
  {
   "cell_type": "markdown",
   "metadata": {},
   "source": [
    "**Observation**:\n",
    "\n",
    "- Maximum number of loans applied for ```Debt consolidation``` purposes\n",
    "- ```Small Business``` loans shows the highest default rate\n"
   ]
  },
  {
   "cell_type": "markdown",
   "metadata": {},
   "source": [
    "###### 6. default_rate of verification_status column:"
   ]
  },
  {
   "cell_type": "code",
   "execution_count": 78,
   "metadata": {},
   "outputs": [
    {
     "data": {
      "image/png": "[encoded data removed]",
      "text/plain": [
       "<Figure size 432x288 with 1 Axes>"
      ]
     },
     "metadata": {
      "needs_background": "light"
     },
     "output_type": "display_data"
    }
   ],
   "source": [
    "# Compare the column verification_status with default_rate\n",
    "plot = sns.barplot(x=\"verification_status\", y=\"default_rate\", data=loan_df)\n",
    "plot.set(yscale=\"log\")\n",
    "plt.show()"
   ]
  },
  {
   "cell_type": "markdown",
   "metadata": {},
   "source": [
    "__Observation__: default rate is more where income was ```Verified``` by LC"
   ]
  },
  {
   "cell_type": "markdown",
   "metadata": {},
   "source": [
    "###### 7. default_rate of home_ownership column:"
   ]
  },
  {
   "cell_type": "code",
   "execution_count": 79,
   "metadata": {},
   "outputs": [
    {
     "data": {
      "image/png": "[encoded data removed]",
      "text/plain": [
       "<Figure size 432x288 with 1 Axes>"
      ]
     },
     "metadata": {
      "needs_background": "light"
     },
     "output_type": "display_data"
    }
   ],
   "source": [
    "# Compare the column home_ownership with default_rate\n",
    "plot = sns.barplot(x=\"home_ownership\", y=\"default_rate\", data=loan_df)\n",
    "plt.show()"
   ]
  },
  {
   "cell_type": "markdown",
   "metadata": {},
   "source": [
    "__Observation__: default rate is more in ```Other``` home-ownership type."
   ]
  },
  {
   "cell_type": "markdown",
   "metadata": {},
   "source": [
    "###### 8. default_rate of dti column:"
   ]
  },
  {
   "cell_type": "code",
   "execution_count": 80,
   "metadata": {},
   "outputs": [
    {
     "data": {
      "text/plain": [
       "count    36800.000000\n",
       "mean        13.334529\n",
       "std          6.650154\n",
       "min          0.000000\n",
       "25%          8.220000\n",
       "50%         13.430000\n",
       "75%         18.590000\n",
       "max         29.990000\n",
       "Name: dti, dtype: float64"
      ]
     },
     "execution_count": 80,
     "metadata": {},
     "output_type": "execute_result"
    }
   ],
   "source": [
    "loan_df.dti.describe()"
   ]
  },
  {
   "cell_type": "code",
   "execution_count": 81,
   "metadata": {},
   "outputs": [
    {
     "data": {
      "text/plain": [
       "medium    17678\n",
       "low       12053\n",
       "high       6924\n",
       "Name: dti_bin, dtype: int64"
      ]
     },
     "execution_count": 81,
     "metadata": {},
     "output_type": "execute_result"
    }
   ],
   "source": [
    "loan_df[\"dti_bin\"] = pd.cut(loan_df.dti, bins=np.arange(0, 31, 10), labels=[\"low\", \"medium\", \"high\"])\n",
    "loan_df.dti_bin.value_counts()"
   ]
  },
  {
   "cell_type": "code",
   "execution_count": 82,
   "metadata": {},
   "outputs": [
    {
     "data": {
      "image/png": "[encoded data removed]",
      "text/plain": [
       "<Figure size 648x576 with 1 Axes>"
      ]
     },
     "metadata": {
      "needs_background": "light"
     },
     "output_type": "display_data"
    }
   ],
   "source": [
    "plt.figure(figsize=(9, 8))\n",
    "sns.barplot(x=\"dti_bin\", y=\"default_rate\", data=loan_df)\n",
    "plt.show()"
   ]
  },
  {
   "cell_type": "markdown",
   "metadata": {},
   "source": [
    "__Observation__: As expected ```higher debt to income``` results in ```higher default rates```\n"
   ]
  },
  {
   "cell_type": "markdown",
   "metadata": {},
   "source": [
    "###### 9. default_rate of installment column:"
   ]
  },
  {
   "cell_type": "code",
   "execution_count": 83,
   "metadata": {},
   "outputs": [
    {
     "data": {
      "text/plain": [
       "count    36800.000000\n",
       "mean       324.906537\n",
       "std        208.891979\n",
       "min         16.080000\n",
       "25%        167.730000\n",
       "50%        280.110000\n",
       "75%        429.365000\n",
       "max       1305.190000\n",
       "Name: installment, dtype: float64"
      ]
     },
     "execution_count": 83,
     "metadata": {},
     "output_type": "execute_result"
    }
   ],
   "source": [
    "loan_df.installment.describe()"
   ]
  },
  {
   "cell_type": "code",
   "execution_count": 84,
   "metadata": {},
   "outputs": [
    {
     "data": {
      "text/plain": [
       "low          19545\n",
       "medium       13196\n",
       "high          3547\n",
       "very high      454\n",
       "Name: installment_bin, dtype: int64"
      ]
     },
     "execution_count": 84,
     "metadata": {},
     "output_type": "execute_result"
    }
   ],
   "source": [
    "loan_df[\"installment_bin\"] = pd.cut(loan_df.installment, bins=np.arange(0, 1400, 300), labels=[\"low\", \"medium\", \"high\", \"very high\"])\n",
    "loan_df.installment_bin.value_counts()"
   ]
  },
  {
   "cell_type": "code",
   "execution_count": 85,
   "metadata": {},
   "outputs": [
    {
     "data": {
      "image/png": "[encoded data removed]",
      "text/plain": [
       "<Figure size 648x576 with 1 Axes>"
      ]
     },
     "metadata": {
      "needs_background": "light"
     },
     "output_type": "display_data"
    }
   ],
   "source": [
    "plt.figure(figsize=(9, 8))\n",
    "sns.barplot(x=\"installment_bin\", y=\"default_rate\", data=loan_df)\n",
    "plt.show()"
   ]
  },
  {
   "cell_type": "markdown",
   "metadata": {},
   "source": [
    "__Observation__: As the ```installment amount``` increases, the ```default rate``` also increases even-though the number of loans having higher installment amount is less in number."
   ]
  },
  {
   "cell_type": "markdown",
   "metadata": {},
   "source": [
    "###### 10. default_rate of annual_inc column:"
   ]
  },
  {
   "cell_type": "code",
   "execution_count": 86,
   "metadata": {},
   "outputs": [
    {
     "data": {
      "text/plain": [
       "count      36800.00\n",
       "mean       69434.48\n",
       "std        64021.59\n",
       "min         4000.00\n",
       "10%        30000.00\n",
       "25%        41133.00\n",
       "50%        60000.00\n",
       "75%        83000.00\n",
       "90%       116738.90\n",
       "max      6000000.00\n",
       "Name: annual_inc, dtype: object"
      ]
     },
     "execution_count": 86,
     "metadata": {},
     "output_type": "execute_result"
    }
   ],
   "source": [
    "loan_df.annual_inc.describe(percentiles=[0.1, 0.25, 0.5, 0.75, 0.9]).apply(\"{0:.2f}\".format)"
   ]
  },
  {
   "cell_type": "code",
   "execution_count": 87,
   "metadata": {},
   "outputs": [
    {
     "data": {
      "text/plain": [
       "count     36533.000000\n",
       "mean      66505.856085\n",
       "std       36332.135273\n",
       "min        4000.000000\n",
       "25%       41000.000000\n",
       "50%       59670.000000\n",
       "75%       82000.000000\n",
       "max      260735.000000\n",
       "Name: annual_inc, dtype: float64"
      ]
     },
     "execution_count": 87,
     "metadata": {},
     "output_type": "execute_result"
    }
   ],
   "source": [
    "# Finding the maximum value within 3 std to create proper buckets\n",
    "loan_df[np.abs(loan_df.annual_inc - loan_df.annual_inc.mean()) <= (3 * loan_df.annual_inc.std())].annual_inc.describe()"
   ]
  },
  {
   "cell_type": "code",
   "execution_count": 88,
   "metadata": {},
   "outputs": [],
   "source": [
    "# annual income\n",
    "def annual_income(n):\n",
    "    if n <= 50000:\n",
    "        return 'low'\n",
    "    elif n > 50000 and n <=100000:\n",
    "        return 'medium'\n",
    "    elif n > 100000 and n <=200000:\n",
    "        return 'high'\n",
    "    else:\n",
    "        return 'very high'\n",
    "\n",
    "loan_df['annual_inc_bin'] = loan_df['annual_inc'].apply(lambda x: annual_income(x))"
   ]
  },
  {
   "cell_type": "code",
   "execution_count": 89,
   "metadata": {},
   "outputs": [
    {
     "data": {
      "image/png": "[encoded data removed]",
      "text/plain": [
       "<Figure size 648x576 with 1 Axes>"
      ]
     },
     "metadata": {
      "needs_background": "light"
     },
     "output_type": "display_data"
    }
   ],
   "source": [
    "plt.figure(figsize=(9, 8))\n",
    "sns.barplot(x=\"annual_inc_bin\", y=\"default_rate\", data=loan_df)\n",
    "plt.show()"
   ]
  },
  {
   "cell_type": "markdown",
   "metadata": {},
   "source": [
    "__Observation__: \n",
    "- Lower the annual income, higher the default rate"
   ]
  },
  {
   "cell_type": "markdown",
   "metadata": {},
   "source": [
    "###### 11. default_rate of emp_length column:"
   ]
  },
  {
   "cell_type": "code",
   "execution_count": 90,
   "metadata": {},
   "outputs": [
    {
     "data": {
      "text/plain": [
       "10    8368\n",
       "0     4329\n",
       "2     4202\n",
       "3     3947\n",
       "4     3290\n",
       "5     3157\n",
       "1     3071\n",
       "6     2133\n",
       "7     1686\n",
       "8     1408\n",
       "9     1209\n",
       "Name: emp_length, dtype: int64"
      ]
     },
     "execution_count": 90,
     "metadata": {},
     "output_type": "execute_result"
    }
   ],
   "source": [
    "loan_df.emp_length.value_counts()"
   ]
  },
  {
   "cell_type": "code",
   "execution_count": 91,
   "metadata": {},
   "outputs": [
    {
     "data": {
      "image/png": "[encoded data removed]",
      "text/plain": [
       "<Figure size 1080x576 with 1 Axes>"
      ]
     },
     "metadata": {
      "needs_background": "light"
     },
     "output_type": "display_data"
    }
   ],
   "source": [
    "# Compare the column emp_length with default_rate\n",
    "plt.figure(figsize=(15, 8))\n",
    "sns.barplot(x=\"emp_length\", y=\"default_rate\", data=loan_df, order=loan_df.emp_length.sort_values().unique())\n",
    "plt.show()"
   ]
  },
  {
   "cell_type": "markdown",
   "metadata": {},
   "source": [
    "__Observation__: \n",
    "- emp_length is not providing any valuable insights"
   ]
  },
  {
   "cell_type": "markdown",
   "metadata": {},
   "source": [
    "###### 12. default_rate of earliest_cr_line column:"
   ]
  },
  {
   "cell_type": "code",
   "execution_count": 92,
   "metadata": {},
   "outputs": [],
   "source": [
    "#month doesn't give any insight, so analysing for only year of earliest_cr_line\n",
    "loan_df['earliest_cr_line_year'] = loan_df['earliest_cr_line'].dt.year"
   ]
  },
  {
   "cell_type": "code",
   "execution_count": 93,
   "metadata": {},
   "outputs": [
    {
     "data": {
      "text/plain": [
       "count    36800.000000\n",
       "mean      1996.762636\n",
       "std          6.625604\n",
       "min       1946.000000\n",
       "25%       1994.000000\n",
       "50%       1998.000000\n",
       "75%       2001.000000\n",
       "max       2008.000000\n",
       "Name: earliest_cr_line_year, dtype: float64"
      ]
     },
     "execution_count": 93,
     "metadata": {},
     "output_type": "execute_result"
    }
   ],
   "source": [
    "loan_df.earliest_cr_line_year.describe()"
   ]
  },
  {
   "cell_type": "code",
   "execution_count": 94,
   "metadata": {},
   "outputs": [
    {
     "data": {
      "image/png": "[encoded data removed]",
      "text/plain": [
       "<Figure size 1440x576 with 1 Axes>"
      ]
     },
     "metadata": {
      "needs_background": "light"
     },
     "output_type": "display_data"
    }
   ],
   "source": [
    "plt.figure(figsize=(20, 8))\n",
    "plot = sns.barplot(x=\"earliest_cr_line_year\", y=\"default_rate\", data=loan_df, order=loan_df.earliest_cr_line_year.sort_values().unique())\n",
    "plot.set_xticklabels(plot.get_xticklabels(), rotation=45, horizontalalignment=\"right\")\n",
    "plt.show()"
   ]
  },
  {
   "cell_type": "markdown",
   "metadata": {},
   "source": [
    "__Observation__: \n",
    "- No significant changes in recent 10-15 years, we can ignore this feature for future defaulters analysis"
   ]
  },
  {
   "cell_type": "markdown",
   "metadata": {},
   "source": [
    "###### 13. default_rate of delinq_2yrs column:"
   ]
  },
  {
   "cell_type": "code",
   "execution_count": 95,
   "metadata": {},
   "outputs": [
    {
     "data": {
      "text/plain": [
       "0     32810\n",
       "1      3063\n",
       "2       634\n",
       "3       198\n",
       "4        56\n",
       "5        21\n",
       "6        10\n",
       "7         4\n",
       "8         2\n",
       "11        1\n",
       "9         1\n",
       "Name: delinq_2yrs, dtype: int64"
      ]
     },
     "execution_count": 95,
     "metadata": {},
     "output_type": "execute_result"
    }
   ],
   "source": [
    "loan_df.delinq_2yrs.value_counts()"
   ]
  },
  {
   "cell_type": "code",
   "execution_count": 96,
   "metadata": {},
   "outputs": [
    {
     "data": {
      "image/png": "[encoded data removed]",
      "text/plain": [
       "<Figure size 1080x576 with 1 Axes>"
      ]
     },
     "metadata": {
      "needs_background": "light"
     },
     "output_type": "display_data"
    }
   ],
   "source": [
    "plt.figure(figsize=(15, 8))\n",
    "plot = sns.barplot(x=\"delinq_2yrs\", y=\"default_rate\", data=loan_df, order=loan_df.delinq_2yrs.sort_values().unique())"
   ]
  },
  {
   "cell_type": "markdown",
   "metadata": {},
   "source": [
    "__Observation__: \n",
    "- There is no significant increase in the default rate as number of deling_2yrs increase, however there is sharp rise when deling_2yrs is 8 times"
   ]
  },
  {
   "cell_type": "markdown",
   "metadata": {},
   "source": [
    "###### 14. default_rate of inq_last_6mths column:"
   ]
  },
  {
   "cell_type": "code",
   "execution_count": 97,
   "metadata": {},
   "outputs": [
    {
     "data": {
      "image/png": "[encoded data removed]",
      "text/plain": [
       "<Figure size 1080x576 with 1 Axes>"
      ]
     },
     "metadata": {
      "needs_background": "light"
     },
     "output_type": "display_data"
    }
   ],
   "source": [
    "plt.figure(figsize=(15, 8))\n",
    "plot = sns.barplot(x=\"inq_last_6mths\", y=\"default_rate\", data=loan_df, order=loan_df.inq_last_6mths.sort_values().unique())"
   ]
  },
  {
   "cell_type": "markdown",
   "metadata": {},
   "source": [
    "__Observation__: \n",
    "- There is no significant increase in the default rate as number of inq_last_6months increases, so this won't provide valuable insight"
   ]
  },
  {
   "cell_type": "markdown",
   "metadata": {},
   "source": [
    "###### 15. default_rate of open_acc column:"
   ]
  },
  {
   "cell_type": "code",
   "execution_count": 98,
   "metadata": {},
   "outputs": [
    {
     "data": {
      "image/png": "[encoded data removed]",
      "text/plain": [
       "<Figure size 1080x576 with 1 Axes>"
      ]
     },
     "metadata": {
      "needs_background": "light"
     },
     "output_type": "display_data"
    }
   ],
   "source": [
    "plt.figure(figsize=(15, 8))\n",
    "plot = sns.barplot(x=\"open_acc\", y=\"default_rate\", data=loan_df, order=loan_df.open_acc.sort_values().unique())"
   ]
  },
  {
   "cell_type": "markdown",
   "metadata": {},
   "source": [
    "__Observation__: \n",
    "- There is no significant increase in the default rate as number of opn_acc increases, so this won't provide any valuable insight"
   ]
  },
  {
   "cell_type": "markdown",
   "metadata": {},
   "source": [
    "###### 16. default_rate of pub_rec columns:"
   ]
  },
  {
   "cell_type": "code",
   "execution_count": 99,
   "metadata": {},
   "outputs": [
    {
     "data": {
      "text/plain": [
       "default_rate  pub_rec_bankruptcies\n",
       "0             0.0                     30337\n",
       "              1.0                      1194\n",
       "              2.0                         3\n",
       "1             0.0                      4929\n",
       "              1.0                       335\n",
       "              2.0                         2\n",
       "Name: pub_rec_bankruptcies, dtype: int64"
      ]
     },
     "execution_count": 99,
     "metadata": {},
     "output_type": "execute_result"
    }
   ],
   "source": [
    "loan_df.groupby([\"default_rate\",\"pub_rec_bankruptcies\"]).pub_rec_bankruptcies.count()"
   ]
  },
  {
   "cell_type": "code",
   "execution_count": 100,
   "metadata": {},
   "outputs": [
    {
     "data": {
      "image/png": "[encoded data removed]",
      "text/plain": [
       "<Figure size 1440x576 with 2 Axes>"
      ]
     },
     "metadata": {
      "needs_background": "light"
     },
     "output_type": "display_data"
    }
   ],
   "source": [
    "# Compare the column grade with default_rate\n",
    "plt.figure(figsize=(20, 8))\n",
    "plt.subplot(1,2,1)\n",
    "sns.barplot(x=\"pub_rec\", y=\"default_rate\", data=loan_df, order=loan_df.pub_rec.sort_values().unique())\n",
    "plt.subplot(1,2,2)\n",
    "sns.barplot(x=\"pub_rec_bankruptcies\", y=\"default_rate\", data=loan_df, order=loan_df.pub_rec_bankruptcies.sort_values().unique())\n",
    "plt.show()"
   ]
  },
  {
   "cell_type": "markdown",
   "metadata": {},
   "source": [
    "__Observation__: \n",
    "- There is no significant increase in the default rate as number of derrogatory public records(```pub_rec```) increases, so this won't provide any valuable insight\n",
    "- ```pub_rec_bankrupcies``` have positive correlation with default rate"
   ]
  },
  {
   "cell_type": "markdown",
   "metadata": {},
   "source": [
    "###### 17. default_rate of total_acc columns:"
   ]
  },
  {
   "cell_type": "code",
   "execution_count": 101,
   "metadata": {},
   "outputs": [
    {
     "data": {
      "image/png": "[encoded data removed]",
      "text/plain": [
       "<Figure size 1440x576 with 1 Axes>"
      ]
     },
     "metadata": {
      "needs_background": "light"
     },
     "output_type": "display_data"
    }
   ],
   "source": [
    "plt.figure(figsize=(20, 8))\n",
    "plot = sns.barplot(x=\"total_acc\", y=\"default_rate\", data=loan_df, order=loan_df.total_acc.sort_values().unique())\n",
    "plt.show()"
   ]
  },
  {
   "cell_type": "markdown",
   "metadata": {},
   "source": [
    "__Observation__: \n",
    "- There is no significant trend between total_acc and default_rate"
   ]
  },
  {
   "cell_type": "markdown",
   "metadata": {},
   "source": [
    "###### 18. default_rate of revol_util columns:"
   ]
  },
  {
   "cell_type": "code",
   "execution_count": 102,
   "metadata": {},
   "outputs": [
    {
     "data": {
      "text/plain": [
       "count    36800.000000\n",
       "mean        48.992830\n",
       "std         28.313209\n",
       "min          0.000000\n",
       "25%         25.600000\n",
       "50%         49.500000\n",
       "75%         72.500000\n",
       "max         99.900000\n",
       "Name: revol_util, dtype: float64"
      ]
     },
     "execution_count": 102,
     "metadata": {},
     "output_type": "execute_result"
    }
   ],
   "source": [
    "loan_df.revol_util.describe()"
   ]
  },
  {
   "cell_type": "code",
   "execution_count": 103,
   "metadata": {},
   "outputs": [
    {
     "data": {
      "text/plain": [
       "45-50     2071\n",
       "55-60     2041\n",
       "60-65     1997\n",
       "65-70     1974\n",
       "50-55     1971\n",
       "40-45     1968\n",
       "35-40     1913\n",
       "70-75     1894\n",
       "30-35     1893\n",
       "75-80     1854\n",
       "80-85     1810\n",
       "25-30     1785\n",
       "20-25     1744\n",
       "85-90     1644\n",
       "5-10      1633\n",
       "15-20     1629\n",
       "0-5       1615\n",
       "90-95     1587\n",
       "10-15     1519\n",
       "95-100    1375\n",
       "-5-0       883\n",
       "Name: revol_util_bin, dtype: int64"
      ]
     },
     "execution_count": 103,
     "metadata": {},
     "output_type": "execute_result"
    }
   ],
   "source": [
    "loan_df[\"revol_util_bin\"] = pd.cut(loan_df.revol_util, bins=np.arange(-5, 105, 5), labels=[\"-\".join([str(x), str(x+5)]) for x in range(-5, 100, 5)])\n",
    "loan_df.revol_util_bin.value_counts(dropna=False)"
   ]
  },
  {
   "cell_type": "code",
   "execution_count": 104,
   "metadata": {},
   "outputs": [
    {
     "data": {
      "image/png": "[encoded data removed]",
      "text/plain": [
       "<Figure size 1440x576 with 1 Axes>"
      ]
     },
     "metadata": {
      "needs_background": "light"
     },
     "output_type": "display_data"
    }
   ],
   "source": [
    "plt.figure(figsize=(20, 8))\n",
    "plt.title(\"Default Rate across Revolving Utilization Rate\", weight='bold').set_fontsize('18')\n",
    "plot = sns.barplot(x=\"revol_util_bin\", y=\"default_rate\", data=loan_df, order=loan_df.revol_util_bin.sort_values().unique())\n",
    "plt.show()"
   ]
  },
  {
   "cell_type": "markdown",
   "metadata": {},
   "source": [
    "__Observation__: \n",
    "- Higher the revol_util ratio, higher the default rate"
   ]
  },
  {
   "cell_type": "markdown",
   "metadata": {},
   "source": [
    "***"
   ]
  },
  {
   "cell_type": "markdown",
   "metadata": {},
   "source": [
    "# Bivariate Analyis"
   ]
  },
  {
   "cell_type": "markdown",
   "metadata": {},
   "source": [
    "###### 1. Loan Amount and annual_inc"
   ]
  },
  {
   "cell_type": "code",
   "execution_count": 105,
   "metadata": {},
   "outputs": [
    {
     "data": {
      "text/plain": [
       "<Figure size 648x576 with 0 Axes>"
      ]
     },
     "metadata": {},
     "output_type": "display_data"
    },
    {
     "data": {
      "image/png": "[encoded data removed]",
      "text/plain": [
       "<Figure size 432x432 with 3 Axes>"
      ]
     },
     "metadata": {
      "needs_background": "light"
     },
     "output_type": "display_data"
    },
    {
     "data": {
      "image/png": "[encoded data removed]",
      "text/plain": [
       "<Figure size 432x432 with 3 Axes>"
      ]
     },
     "metadata": {
      "needs_background": "light"
     },
     "output_type": "display_data"
    }
   ],
   "source": [
    "plt.figure(figsize=(9, 8))\n",
    "sns.jointplot(\"loan_amnt\", \"annual_inc\", data=loan_df)\n",
    "plt.show()\n",
    "# Plotting the same graph with lower annual_income bucket to get more clarity\n",
    "sns.jointplot(\"annual_inc\", \"loan_amnt\", loan_df.loc[loan_df[\"annual_inc\"] < 270000])\n",
    "plt.show()"
   ]
  },
  {
   "cell_type": "markdown",
   "metadata": {},
   "source": [
    "__Observation__:\n",
    "- Lower salaried persons are also taking loans of larger amount compared to their annual income. These can become risky loans."
   ]
  },
  {
   "cell_type": "markdown",
   "metadata": {},
   "source": [
    "###### 2. Loan Amount, Loan Status and Grade"
   ]
  },
  {
   "cell_type": "code",
   "execution_count": 106,
   "metadata": {},
   "outputs": [
    {
     "data": {
      "image/png": "[encoded data removed]",
      "text/plain": [
       "<Figure size 648x576 with 1 Axes>"
      ]
     },
     "metadata": {
      "needs_background": "light"
     },
     "output_type": "display_data"
    }
   ],
   "source": [
    "plt.figure(figsize=(9, 8))\n",
    "sns.boxplot(x=\"grade\", y=\"loan_amnt\", data=loan_df)\n",
    "plt.show()"
   ]
  },
  {
   "cell_type": "code",
   "execution_count": 107,
   "metadata": {},
   "outputs": [
    {
     "data": {
      "image/png": "[encoded data removed]",
      "text/plain": [
       "<Figure size 720x576 with 1 Axes>"
      ]
     },
     "metadata": {
      "needs_background": "light"
     },
     "output_type": "display_data"
    }
   ],
   "source": [
    "plt.figure(figsize=(10, 8))\n",
    "plt.title(\"Loan Status across Loan amount and Grade\", weight='bold').set_fontsize('18')\n",
    "sns.barplot(x=\"loan_status\", y=\"loan_amnt\", hue=\"grade\", data=loan_df)\n",
    "plt.show()"
   ]
  },
  {
   "cell_type": "markdown",
   "metadata": {},
   "source": [
    "__Observation__:\n",
    "- For the loan grade assigned by the LC, higher loan amounts got the grade G(higher interest rate) whereas the lower amount comes under A, B C and D (lower interest rate).\n",
    "- LC assigned grade F & G (higher interest rates) got the highest default rate compared to the A, B and C grades (low interest rates),"
   ]
  },
  {
   "cell_type": "markdown",
   "metadata": {},
   "source": [
    "###### 3. Loan Status, Loan Amount and Verification Status"
   ]
  },
  {
   "cell_type": "code",
   "execution_count": 108,
   "metadata": {},
   "outputs": [
    {
     "data": {
      "image/png": "[encoded data removed]",
      "text/plain": [
       "<Figure size 720x576 with 1 Axes>"
      ]
     },
     "metadata": {
      "needs_background": "light"
     },
     "output_type": "display_data"
    }
   ],
   "source": [
    "plt.figure(figsize=(10, 8))\n",
    "plt.title(\"Loan Status across Loan amount and Verification status\", weight='bold').set_fontsize('18')\n",
    "sns.barplot(x=\"loan_status\", y=\"loan_amnt\", hue=\"verification_status\", data=loan_df)\n",
    "plt.show()"
   ]
  },
  {
   "cell_type": "markdown",
   "metadata": {},
   "source": [
    "__Observation__\n",
    "- As we seen in the univariate analysis, higher loans amounts amount has got higher default rates\n",
    "- In addition to that, higher loan amounts which are verified by LC are also getting charged off."
   ]
  },
  {
   "cell_type": "markdown",
   "metadata": {},
   "source": [
    "###### 4. Loan Status, Loan Amount and Term"
   ]
  },
  {
   "cell_type": "code",
   "execution_count": 109,
   "metadata": {},
   "outputs": [
    {
     "data": {
      "image/png": "[encoded data removed]",
      "text/plain": [
       "<Figure size 720x576 with 1 Axes>"
      ]
     },
     "metadata": {
      "needs_background": "light"
     },
     "output_type": "display_data"
    }
   ],
   "source": [
    "plt.figure(figsize=(10, 8))\n",
    "plt.title(\"Loan Status across Loan amount and Term period\", weight='bold').set_fontsize('18')\n",
    "sns.barplot(x=\"loan_status\", y=\"loan_amnt\", hue=\"term\", data=loan_df)\n",
    "plt.show()"
   ]
  },
  {
   "cell_type": "markdown",
   "metadata": {},
   "source": [
    "__Observation__\n",
    "- Higher loan amounts usually comes with larger term period, and also got higher risk rates."
   ]
  },
  {
   "cell_type": "markdown",
   "metadata": {},
   "source": [
    "###### 5. Loan Status, term and revol_util"
   ]
  },
  {
   "cell_type": "code",
   "execution_count": 110,
   "metadata": {},
   "outputs": [
    {
     "data": {
      "image/png": "[encoded data removed]",
      "text/plain": [
       "<Figure size 1008x576 with 1 Axes>"
      ]
     },
     "metadata": {
      "needs_background": "light"
     },
     "output_type": "display_data"
    }
   ],
   "source": [
    "plt.figure(figsize=(14, 8))\n",
    "plt.title(\"Loan Status across Revolving Utilization Rate and Term period \", weight='bold').set_fontsize('18')\n",
    "plot = sns.barplot(x=\"loan_status\", y=\"revol_util\", hue=\"term\", data=loan_df)\n",
    "plot.set_xticklabels(plot.get_xticklabels(), rotation=45, horizontalalignment=\"right\")\n",
    "plt.show()"
   ]
  },
  {
   "cell_type": "markdown",
   "metadata": {},
   "source": [
    "__Observation__\n",
    "- Loans having higher term period with larger revol_util has got more risk rates"
   ]
  },
  {
   "cell_type": "markdown",
   "metadata": {},
   "source": [
    "###### 6. Loan Status, grade and revol_util"
   ]
  },
  {
   "cell_type": "code",
   "execution_count": 111,
   "metadata": {},
   "outputs": [
    {
     "data": {
      "image/png": "[encoded data removed]",
      "text/plain": [
       "<Figure size 1008x576 with 1 Axes>"
      ]
     },
     "metadata": {
      "needs_background": "light"
     },
     "output_type": "display_data"
    }
   ],
   "source": [
    "plt.figure(figsize=(14, 8))\n",
    "plt.title(\"Loan Status vs Revolving Utilization Rate\", weight='bold').set_fontsize('18')\n",
    "sns.barplot(x=\"loan_status\", y=\"revol_util\", hue=\"grade\", data=loan_df, hue_order=loan_df.grade.sort_values().unique())\n",
    "plt.show()"
   ]
  },
  {
   "cell_type": "markdown",
   "metadata": {},
   "source": [
    "__Observation__\n",
    "- As grade changes from A to G (interest increases), the revol_util also increases\n",
    "- Higher interest rates for loans having higer risk rates"
   ]
  },
  {
   "cell_type": "markdown",
   "metadata": {},
   "source": [
    "###### 7. Purpose, default_rate and term"
   ]
  },
  {
   "cell_type": "code",
   "execution_count": 112,
   "metadata": {},
   "outputs": [
    {
     "data": {
      "image/png": "[encoded data removed]",
      "text/plain": [
       "<Figure size 1152x576 with 1 Axes>"
      ]
     },
     "metadata": {
      "needs_background": "light"
     },
     "output_type": "display_data"
    }
   ],
   "source": [
    "plt.figure(figsize=(16, 8))\n",
    "plot = sns.barplot(x=\"purpose\", y=\"default_rate\", hue=\"term\", data=loan_df)\n",
    "plt.title(\"Default Rate within Purpose and Term\", weight='bold').set_fontsize('18')\n",
    "plot.set_xticklabels(plot.get_xticklabels(), rotation=45, horizontalalignment=\"right\")\n",
    "plt.show()"
   ]
  },
  {
   "cell_type": "markdown",
   "metadata": {},
   "source": [
    "__Observation__\n",
    "- Higher term loans taken for small_business, educational, other and house purposes has got higher risk rates."
   ]
  },
  {
   "cell_type": "markdown",
   "metadata": {},
   "source": [
    "###### 8. Annual Income, default_rate and grade"
   ]
  },
  {
   "cell_type": "code",
   "execution_count": 113,
   "metadata": {},
   "outputs": [
    {
     "data": {
      "image/png": "[encoded data removed]",
      "text/plain": [
       "<Figure size 1152x576 with 1 Axes>"
      ]
     },
     "metadata": {
      "needs_background": "light"
     },
     "output_type": "display_data"
    }
   ],
   "source": [
    "plt.figure(figsize=(16, 8))\n",
    "plt.title(\"Default Rate within Annual Income and Grade\", weight='bold').set_fontsize('18')\n",
    "plot = sns.barplot(x=\"annual_inc_bin\", y=\"default_rate\", hue=\"grade\", data=loan_df, hue_order=loan_df.grade.sort_values().unique())\n",
    "plt.show()"
   ]
  },
  {
   "cell_type": "markdown",
   "metadata": {},
   "source": [
    "__Observation__\n",
    "- As the interest rate increases within the low and medium income groups, the default rate also increases"
   ]
  },
  {
   "cell_type": "markdown",
   "metadata": {},
   "source": [
    "###### 9. home ownership, purpose and default rate"
   ]
  },
  {
   "cell_type": "code",
   "execution_count": 114,
   "metadata": {},
   "outputs": [
    {
     "data": {
      "image/png": "[encoded data removed]",
      "text/plain": [
       "<Figure size 1152x576 with 1 Axes>"
      ]
     },
     "metadata": {
      "needs_background": "light"
     },
     "output_type": "display_data"
    }
   ],
   "source": [
    "# Filtering out only the top 4 purpose based on default rates\n",
    "loan_sub_df = loan_df[loan_df.purpose.isin([\"small_business\", \"educational\", \"other\",\"house\"])]\n",
    "plt.figure(figsize=(16, 8))\n",
    "plt.title(\"Default Rate within Home Ownership and Top 4 Loan Purpose\", weight='bold').set_fontsize('18')\n",
    "sns.barplot(x=\"home_ownership\", y=\"default_rate\", hue=\"purpose\", data=loan_sub_df)\n",
    "plt.show()"
   ]
  },
  {
   "cell_type": "code",
   "execution_count": 115,
   "metadata": {},
   "outputs": [
    {
     "data": {
      "image/png": "[encoded data removed]",
      "text/plain": [
       "<Figure size 1152x576 with 1 Axes>"
      ]
     },
     "metadata": {
      "needs_background": "light"
     },
     "output_type": "display_data"
    }
   ],
   "source": [
    "# Filtering out only the top 4 purpose based on maximum number of loans applied.\n",
    "loan_sub_df = loan_df[loan_df.purpose.isin([\"debt_consolidation\", \"credit_card\", \"other\",\"home_improvement\"])]\n",
    "plt.figure(figsize=(16, 8))\n",
    "plt.title(\"Default Rate within Home Ownership and Top 4 Defaulted Purpose\", weight='bold').set_fontsize('18')\n",
    "sns.barplot(x=\"home_ownership\", y=\"default_rate\", hue=\"purpose\", data=loan_sub_df)\n",
    "plt.show()"
   ]
  },
  {
   "cell_type": "markdown",
   "metadata": {},
   "source": [
    "__Observation__\n",
    "- Based on the number of loans applied, ```debt_consolidation``` has got the maximun default rate\n",
    "- Based on the default rate across all the purpose applied, ```small business``` has got the highest rate"
   ]
  },
  {
   "cell_type": "markdown",
   "metadata": {},
   "source": [
    "### Continuous variables Analysis"
   ]
  },
  {
   "cell_type": "code",
   "execution_count": 116,
   "metadata": {},
   "outputs": [
    {
     "data": {
      "image/png": "[encoded data removed]",
      "text/plain": [
       "<Figure size 1080x720 with 2 Axes>"
      ]
     },
     "metadata": {
      "needs_background": "light"
     },
     "output_type": "display_data"
    }
   ],
   "source": [
    "# Heat map to understand the relationship between variables which affect default_rates\n",
    "plt.figure(figsize=(15,10))\n",
    "plt.title(\"Correlation between variables\", weight='bold').set_fontsize('18')\n",
    "nec_col = [\"loan_amnt\", \"term\", \"installment\", \"annual_inc\", \"dti\", \"revol_util\", \"default_rate\"]\n",
    "corr = loan_df[nec_col].corr()\n",
    "ax = sns.heatmap(corr, annot=True, center=0.5)\n",
    "bottom, top = ax.get_ylim()\n",
    "ax.set_ylim(bottom + 0.5, top - 0.5)\n",
    "plt.show()"
   ]
  },
  {
   "cell_type": "markdown",
   "metadata": {},
   "source": [
    "__Observation__\n",
    "- default_rate has higher correlations with term and revol_util\n",
    "- term has higher correlation with loan_amount, whereas revol_util with dti\n",
    "- loan_amount has highest correlation with installment"
   ]
  },
  {
   "cell_type": "markdown",
   "metadata": {},
   "source": [
    "***"
   ]
  },
  {
   "cell_type": "markdown",
   "metadata": {},
   "source": [
    "### Conclusions"
   ]
  },
  {
   "cell_type": "markdown",
   "metadata": {},
   "source": [
    "- Loans which comes under ```small business``` and ```educational purpose``` tend to have higher risk rate of being defaulted.\n",
    "- Loans that were borrowed by ```low income category``` had more chances of becoming a bad loan.\n",
    "- The low income category has got higher interest rates except for most of the loan applications except small business, medical.\n",
    "- Most of the loans applied to LC is for ```debt consolidation```.\n",
    "- The least purposes loan applied to LC is ```renewable energy```.\n",
    "- Most driving factors for bad loan: ```purpose```, ```annual income```, ```term```, ```grade``` and ```debt to income ratio```.\n",
    "- Low grade loans have a high tendency to default."
   ]
  },
  {
   "cell_type": "markdown",
   "metadata": {},
   "source": [
    "### Recommendations"
   ]
  },
  {
   "cell_type": "markdown",
   "metadata": {},
   "source": [
    "- Increase verification criteria for approving loans with ```highest loan amount```.\n",
    "- Reduce the number of loan approvals where purpose is ```small business``` with ```60 months``` term period.\n",
    "- Reduce the approvals of high-value loans when revolving the utilization rate is greater than 80%.\n",
    "- Extra scrutiny for high loan amount with ```high interest rates```, as the risk rate is very high.\n",
    "- Increase verification criteria for approving loans to ```low income applicants``` for all grade types."
   ]
  },
  {
   "cell_type": "markdown",
   "metadata": {},
   "source": [
    "***"
   ]
  }
 ],
 "metadata": {
  "kernelspec": {
   "display_name": "Python 3",
   "language": "python",
   "name": "python3"
  },
  "language_info": {
   "codemirror_mode": {
    "name": "ipython",
    "version": 3
   },
   "file_extension": ".py",
   "mimetype": "text/x-python",
   "name": "python",
   "nbconvert_exporter": "python",
   "pygments_lexer": "ipython3",
   "version": "3.7.6"
  }
 },
 "nbformat": 4,
 "nbformat_minor": 4
}
